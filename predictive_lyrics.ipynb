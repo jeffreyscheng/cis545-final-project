{
 "cells": [
  {
   "cell_type": "markdown",
   "metadata": {},
   "source": [
    "# Sentiment Analysis with LSTMs"
   ]
  },
  {
   "cell_type": "markdown",
   "metadata": {},
   "source": [
    "Note: this notebook is adapted heavily from https://github.com/adeshpande3/LSTM-Sentiment-Analysis\n",
    "\n",
    "In this notebook, we'll be looking at how to apply deep learning techniques to the task of sentiment analysis. Sentiment analysis can be thought of as the exercise of taking a sentence, paragraph, document, or any piece of natural language, and determining whether that text's emotional tone is positive, negative or neutral. \n",
    "\n",
    "This notebook will go through numerous topics like word vectors, recurrent neural networks, and long short-term memory units (LSTMs). After getting a good understanding of these terms, we’ll walk through concrete code examples and a full Tensorflow sentiment classifier at the end.\n",
    "\n",
    "Before getting into the specifics, let's discuss the reasons why deep learning fits into natural language processing (NLP) tasks. "
   ]
  },
  {
   "cell_type": "markdown",
   "metadata": {},
   "source": [
    "# Deep Learning for NLP "
   ]
  },
  {
   "cell_type": "markdown",
   "metadata": {},
   "source": [
    "Natural language processing is all about creating systems that process or “understand” language in order to perform certain tasks. These tasks could include:\n",
    "\n",
    "* Question Answering - The main job of technologies like Siri, Alexa, and Cortana\n",
    "* Sentiment Analysis - Determining the emotional tone behind a piece of text\n",
    "* Image to Text Mappings - Generating a caption for an input image\n",
    "* Machine Translation - Translating a paragraph of text to another language\n",
    "* Speech Recognition - Having computers recognize spoken words\n",
    "\n",
    "In the pre-deep learning era, NLP was a thriving field that saw lots of different advancements. However, in all of the successes in the aforementioned tasks, one needed to do a lot of feature enginering and thus had to have a lot of domain knowledge in linguistics. Entire 4 year degrees are devoted to this field of study, as practitioners needed to be comfortable with terms like phonemes and morphemes. In the past few years, deep learning has seen incredible progress and has largely removed the requirement of strong domain knowledge. As a result of the lower barrier to entry, applications to NLP tasks have been one of the biggest areas of deep learning research. "
   ]
  },
  {
   "cell_type": "markdown",
   "metadata": {},
   "source": [
    "# Word Vectors"
   ]
  },
  {
   "cell_type": "markdown",
   "metadata": {},
   "source": [
    "In order to understand how deep learning can be applied, think about all the different forms of data that are used as inputs into machine learning or deep learning models. Convolutional neural networks use arrays of pixel values, logistic regression uses quantifiable features, and reinforcement learning models use reward signals. The common theme is that the inputs need to be scalar values, or matrices of scalar values. When you think of NLP tasks, however, a data pipeline like this may come to mind. \n",
    " \n",
    "![caption](Images/SentimentAnalysis.png)\n",
    "\n",
    "This kind of pipeline is problematic. There is no way for us to do common operations like dot products or backpropagation on a single string. Instead of having a string input, we will need to convert each word in the sentence to a vector. \n",
    "\n",
    "![caption](Images/SentimentAnalysis2.png)\n",
    "\n",
    "You can think of the input to the sentiment analysis module as being a 16 x D dimensional matrix. "
   ]
  },
  {
   "cell_type": "markdown",
   "metadata": {},
   "source": [
    "We want these vectors to be created in such a way that they somehow represent the word and its context, meaning, and semantics. For example, we’d like the vectors for the words “love” and “adore” to reside in relatively the same area in the vector space since they both have similar definitions and are both used in similar contexts. The vector representation of a word is also known as a word embedding.\n",
    "\n",
    "![caption](Images/SentimentAnalysis8.png)"
   ]
  },
  {
   "cell_type": "markdown",
   "metadata": {},
   "source": [
    "# Word2Vec"
   ]
  },
  {
   "cell_type": "markdown",
   "metadata": {},
   "source": [
    "In order to create these word embeddings, we'll use a model that's commonly reffered to as \"Word2Vec\". Without going into too much detail, the model creates word vectors by looking at the context with which words appear in sentences. Words with similar contexts will be placed close together in the vector space. In natural language, the context of words can be very important when trying to determine their meanings. Taking our previous example of the words \"adore\" and \"love\", consider the types of sentences we'd find these words in.\n",
    "\n",
    "![caption](Images/SentimentAnalysis9.png)\n",
    "\n",
    "From the context of the sentences, we can see that both words are generally used in sentences with positive connotations and generally precede nouns or noun phrases. This is an indication that both words have something in common and can possibly be synonyms. Context is also very important when considering grammatical structure in sentences. Most sentences will follow traditional paradigms of having verbs follow nouns, adjectives precede nouns, and so on. For this reason, the model is more likely to position nouns in the same general area as other nouns. The model takes in a large dataset of sentences (English Wikipedia for example) and outputs vectors for each unique word in the corpus. The output of a Word2Vec model is called an embedding matrix.\n",
    "\n",
    "![caption](Images/SentimentAnalysis3.png)\n",
    "\n",
    "This embedding matrix will contain vectors for every distinct word in the training corpus. Traditionally, embedding matrices can contain over 3 million word vectors.\n",
    "\n",
    "The Word2Vec model is trained by taking each sentence in the dataset, sliding a window of fixed size over it, and trying to predict the center word of the window, given the other words. Using a loss function and optimization procedure, the model generates vectors for each unique word. The specifics of this training procedure can get a little complicated, so we’re going to skip over the details for now, but the main takeaway here is that inputs into any Deep Learning approach to an NLP task will likely have word vectors as input.\n",
    "\n",
    "For more information on the theory behind Word2Vec and how you create your own embeddings, check out Tensorflow's [tutorial](https://www.tensorflow.org/tutorials/word2vec)"
   ]
  },
  {
   "cell_type": "markdown",
   "metadata": {},
   "source": [
    "# Recurrent Neural Networks (RNNs)"
   ]
  },
  {
   "cell_type": "markdown",
   "metadata": {},
   "source": [
    "Now that we have our word vectors as input, let's look at the actual network architecture we're going to be building. The unique aspect of NLP data is that there is a temporal aspect to it. Each word in a sentence depends greatly on what came before and comes after it. In order to account for this dependency, we use a recurrent neural network.  \n",
    "\n",
    "The recurrent neural network structure is a little different from the traditional feedforward NN you may be accostumed to seeing. The feedforward network consists of input nodes, hidden units, and output nodes. \n",
    "\n",
    "![caption](Images/SentimentAnalysis17.png)\n",
    "\n",
    "The main difference between feedforward neural networks and recurrent ones is the temporal aspect of the latter. In RNNs, each word in an input sequence will be associated with a specific time step. In effect, the number of time steps will be equal to the max sequence length. \n",
    "\n",
    "![caption](Images/SentimentAnalysis18.png)\n",
    "\n",
    "Associated with each time step is also a new component called a hidden state vector h<sub>t</sub>. From a high level, this vector seeks to encapsulate and summarize all of the information that was seen in the previous time steps. Just like x<sub>t</sub> is a vector that encapsulates all the information of a specific word, h<sub>t</sub> is a vector that summarizes information from previous time steps.\n",
    "\n",
    "The hidden state is a function of both the current word vector and the hidden state vector at the previous time step. The sigma indicates that the sum of the two terms will be put through an activation function (normally a sigmoid or tanh).\n",
    "\n",
    "![caption](Images/SentimentAnalysis15.png)\n",
    "\n",
    "The 2 W terms in the above formulation represent weight matrices. If you take a close look at the superscripts, you’ll see that there’s a weight matrix W<sup>X</sup> which we’re going to multiply with our input, and there’s a recurrent weight matrix W<sup>H</sup> which is multiplied with the hidden state vector at the previous time step. W<sup>H</sup> is a matrix that stays the same across all time steps, and the weight matrix W<sup>X</sup> is different for each input. \n",
    "\n",
    "The magnitude of these weight matrices impact the amount the hidden state vector is affected by either the current vector or the previous hidden state. As an exercise, take a look at the above formula, and consider how h<sub>t</sub> would change if either W<sup>X</sup> or W<sup>H</sup> had large or small values. \n",
    "\n",
    "Let's look at a quick example. When the magnitude of W<sup>H</sup> is large and the magnitude of W<sup>X</sup> is small, we know that h<sub>t</sub> is largely affected by h<sub>t-1</sub> and unaffected by x<sub>t</sub>. In other words, the current hidden state vector sees that the current word is largely inconsequential to the overall summary of the sentence, and thus it will take on mostly the same value as the vector at the previous time step. \n",
    "\n",
    "The weight matrices are updated through an optimization process called backpropagation through time. \n",
    "\n",
    "The hidden state vector at the final time step is fed into a binary softmax classifier where it is multiplied by another weight matrix and put through a softmax function that outputs values between 0 and 1, effectively giving us the probabilities of positive and negative sentiment. \n",
    "\n",
    "![caption](Images/SentimentAnalysis16.png)"
   ]
  },
  {
   "cell_type": "markdown",
   "metadata": {},
   "source": [
    "# Long Short Term Memory Units (LSTMs) "
   ]
  },
  {
   "cell_type": "markdown",
   "metadata": {},
   "source": [
    "Long Short Term Memory Units are modules that you can place inside of reucrrent neural entworks. At a high level, they make sure that the hidden state vector h is able to encapsulate information about long term dependencies in the text. As we saw in the previous section, the formulation for h in traditional RNNs is relatively simple. This approach won't be able to effectively connect together information that is separated by more than a couple time steps. We can illiustrate this idea of handling long term dependencies through an example in the field of question answering. The function of question answering models is to take an a passage of text, and answer a question about its content. Let's look at the following example.\n",
    "\n",
    "![caption](Images/SentimentAnalysis4.png)\n",
    "\n",
    "Here, we see that the middle sentence had no impact on the question that was asked. However, there is a strong connection between the first and third sentences. With a classic RNN, the hidden state vector at the end of the network might have stored more information about the dog sentence than about the first sentence about the number. Basically, the addition of LSTM units make it possible to determine the correct and useful information that needs to be stored in the hidden state vector.\n",
    "\n",
    "Looking at LSTM units from a more technical viewpoint, the units take in the current word vector x<sub>t</sub> and output the hidden state vector h<sub>t</sub>. In these units, the formulation for h<sub>t</sub> will be a bit more complex than that in a typical RNN. The computation is broken up into 4 components, an input gate, a forget gate, an output gate, and a new memory container. \n",
    "\n",
    "![caption](Images/SentimentAnalysis10.png)\n",
    "\n",
    "Each gate will take in x<sub>t</sub> and h<sub>t-1</sub> (not shown in image) as inputs and will perform some computation on them to obtain intermediate states. Each intermediate state gets fed into different pipelines and eventually the information is aggregated to form h<sub>t</sub>. For simplicity sake, we won't go into the specific formulations for each gate, but it's worth noting that each of these gates can be thought of as different modules within the LSTM that each have different functions. The input gate determines how much emphasis to put on each of the inputs, the forget gate determines the information that we'll throw away, and the output gate determines the final h<sub>t</sub> based on the intermediate states. For more information on understanding the functions of the different gates and the full equations, check out Christopher Olah's great [blog post](http://colah.github.io/posts/2015-08-Understanding-LSTMs/).\n",
    "\n",
    "Looking back at the first example with question “What is the sum of the two numbers?”, the model would have to be trained on similar types of questions and answers. The LSTM units would then be able to realize that any sentence without numbers will likely not have an impact on the answer to the question, and thus the unit will be able to utilize its forget gate to discard the unnecessary information about the dog, and rather keep the information regarding the numbers. "
   ]
  },
  {
   "cell_type": "markdown",
   "metadata": {},
   "source": [
    "# Framing Sentiment Analysis as a Deep Learning Problem"
   ]
  },
  {
   "cell_type": "markdown",
   "metadata": {},
   "source": [
    "As mentioned before, the task of sentiment analysis involves taking in an input sequence of words and determining whether the sentiment is positive, negative, or neutral. We can separate this specific task (and most other NLP tasks) into 5 different components.\n",
    "\n",
    "    1) Training a word vector generation model (such as Word2Vec) or loading pretrained word vectors\n",
    "    2) Creating an ID's matrix for our training set (We'll discuss this a bit later)\n",
    "    3) RNN (With LSTM units) graph creation\n",
    "    4) Training \n",
    "    5) Testing"
   ]
  },
  {
   "cell_type": "markdown",
   "metadata": {},
   "source": [
    "# Loading Data "
   ]
  },
  {
   "cell_type": "markdown",
   "metadata": {},
   "source": [
    "First, we want to create our word vectors. For simplicity, we're going to be using a pretrained model. \n",
    "\n",
    "As one of the biggest players in the ML game, Google was able to train a Word2Vec model on a massive Google News dataset that contained over 100 billion different words! From that model, Google [was able to create 3 million word vectors](https://code.google.com/archive/p/word2vec/#Pre-trained_word_and_phrase_vectors), each with a dimensionality of 300. \n",
    "\n",
    "In an ideal scenario, we'd use those vectors, but since the word vectors matrix is quite large (3.6 GB!), we'll be using a much more manageable matrix that is trained using [GloVe](http://nlp.stanford.edu/projects/glove/), a similar word vector generation model. The matrix will contain 400,000 word vectors, each with a dimensionality of 50. \n",
    "\n",
    "We're going to be importing two different data structures, one will be a Python list with the 400,000 words, and one will be a 400,000 x 50 dimensional embedding matrix that holds all of the word vector values. "
   ]
  },
  {
   "cell_type": "code",
   "execution_count": 1,
   "metadata": {
    "collapsed": false
   },
   "outputs": [
    {
     "name": "stdout",
     "output_type": "stream",
     "text": [
      "Hello world\n"
     ]
    }
   ],
   "source": [
    "print(\"Hello world\")"
   ]
  },
  {
   "cell_type": "code",
   "execution_count": 2,
   "metadata": {
    "collapsed": false
   },
   "outputs": [
    {
     "name": "stdout",
     "output_type": "stream",
     "text": [
      "Loaded the word list!\n",
      "Loaded the word vectors!\n"
     ]
    }
   ],
   "source": [
    "import numpy as np\n",
    "wordsList = np.load('wordsList.npy')\n",
    "print('Loaded the word list!')\n",
    "wordsList = wordsList.tolist() #Originally loaded as numpy array\n",
    "wordsList = [word.decode('UTF-8') for word in wordsList] #Encode words as UTF-8\n",
    "wordVectors = np.load('wordVectors.npy')\n",
    "print ('Loaded the word vectors!')"
   ]
  },
  {
   "cell_type": "markdown",
   "metadata": {},
   "source": [
    "Just to make sure everything has been loaded in correctly, we can look at the dimensions of the vocabulary list and the embedding matrix. "
   ]
  },
  {
   "cell_type": "code",
   "execution_count": 3,
   "metadata": {
    "collapsed": false
   },
   "outputs": [
    {
     "name": "stdout",
     "output_type": "stream",
     "text": [
      "400000\n",
      "(400000, 50)\n"
     ]
    }
   ],
   "source": [
    "print(len(wordsList))\n",
    "print(wordVectors.shape)"
   ]
  },
  {
   "cell_type": "markdown",
   "metadata": {},
   "source": [
    "We can also search our word list for a word like \"baseball\", and then access its corresponding vector through the embedding matrix."
   ]
  },
  {
   "cell_type": "code",
   "execution_count": 4,
   "metadata": {
    "collapsed": false,
    "scrolled": true
   },
   "outputs": [
    {
     "data": {
      "text/plain": [
       "array([-1.9327  ,  1.0421  , -0.78515 ,  0.91033 ,  0.22711 , -0.62158 ,\n",
       "       -1.6493  ,  0.07686 , -0.5868  ,  0.058831,  0.35628 ,  0.68916 ,\n",
       "       -0.50598 ,  0.70473 ,  1.2664  , -0.40031 , -0.020687,  0.80863 ,\n",
       "       -0.90566 , -0.074054, -0.87675 , -0.6291  , -0.12685 ,  0.11524 ,\n",
       "       -0.55685 , -1.6826  , -0.26291 ,  0.22632 ,  0.713   , -1.0828  ,\n",
       "        2.1231  ,  0.49869 ,  0.066711, -0.48226 , -0.17897 ,  0.47699 ,\n",
       "        0.16384 ,  0.16537 , -0.11506 , -0.15962 , -0.94926 , -0.42833 ,\n",
       "       -0.59457 ,  1.3566  , -0.27506 ,  0.19918 , -0.36008 ,  0.55667 ,\n",
       "       -0.70315 ,  0.17157 ], dtype=float32)"
      ]
     },
     "execution_count": 4,
     "metadata": {},
     "output_type": "execute_result"
    }
   ],
   "source": [
    "baseballIndex = wordsList.index('baseball')\n",
    "wordVectors[baseballIndex]"
   ]
  },
  {
   "cell_type": "markdown",
   "metadata": {},
   "source": [
    "Now that we have our vectors, our first step is taking an input sentence and then constructing the its vector representation. Let's say that we have the input sentence \"I thought the movie was incredible and inspiring\". In order to get the word vectors, we can use Tensorflow's embedding lookup function. This function takes in two arguments, one for the embedding matrix (the wordVectors matrix in our case), and one for the ids of each of the words. The ids vector can be thought of as the integerized representation of the training set. This is basically just the row index of each of the words. Let's look at a quick example to make this concrete. "
   ]
  },
  {
   "cell_type": "code",
   "execution_count": 5,
   "metadata": {
    "collapsed": false
   },
   "outputs": [
    {
     "name": "stdout",
     "output_type": "stream",
     "text": [
      "(10,)\n",
      "[    41    804 201534   1005     15   7446      5  13767      0      0]\n"
     ]
    }
   ],
   "source": [
    "import tensorflow as tf\n",
    "maxSeqLength = 10 #Maximum length of sentence\n",
    "numDimensions = 300 #Dimensions for each word vector\n",
    "firstSentence = np.zeros((maxSeqLength), dtype='int32')\n",
    "firstSentence[0] = wordsList.index(\"i\")\n",
    "firstSentence[1] = wordsList.index(\"thought\")\n",
    "firstSentence[2] = wordsList.index(\"the\")\n",
    "firstSentence[3] = wordsList.index(\"movie\")\n",
    "firstSentence[4] = wordsList.index(\"was\")\n",
    "firstSentence[5] = wordsList.index(\"incredible\")\n",
    "firstSentence[6] = wordsList.index(\"and\")\n",
    "firstSentence[7] = wordsList.index(\"inspiring\")\n",
    "#firstSentence[8] and firstSentence[9] are going to be 0\n",
    "print(firstSentence.shape)\n",
    "print(firstSentence) #Shows the row index for each word"
   ]
  },
  {
   "cell_type": "markdown",
   "metadata": {},
   "source": [
    "The data pipeline can be illustrated below."
   ]
  },
  {
   "cell_type": "markdown",
   "metadata": {},
   "source": [
    "![caption](Images/SentimentAnalysis5.png)"
   ]
  },
  {
   "cell_type": "markdown",
   "metadata": {},
   "source": [
    "The 10 x 50 output should contain the 50 dimensional word vectors for each of the 10 words in the sequence. "
   ]
  },
  {
   "cell_type": "code",
   "execution_count": 6,
   "metadata": {
    "collapsed": false,
    "scrolled": true
   },
   "outputs": [
    {
     "name": "stdout",
     "output_type": "stream",
     "text": [
      "(10, 50)\n"
     ]
    }
   ],
   "source": [
    "with tf.Session() as sess:\n",
    "    print(tf.nn.embedding_lookup(wordVectors,firstSentence).eval().shape)"
   ]
  },
  {
   "cell_type": "markdown",
   "metadata": {},
   "source": [
    "Before creating the ids matrix for the whole training set, let’s first take some time to visualize the type of data that we have. This will help us determine the best value for setting our maximum sequence length. In the previous example, we used a max length of 10, but this value is largely dependent on the inputs you have.  "
   ]
  },
  {
   "cell_type": "markdown",
   "metadata": {},
   "source": [
    "The training set we're going to use is the Imdb movie review dataset. This set has 25,000 movie reviews, with 12,500 positive reviews and 12,500 negative reviews. Each of the reviews is stored in a txt file that we need to parse through. The positive reviews are stored in one directory and the negative reviews are stored in another. The following piece of code will determine total and average number of words in each review. "
   ]
  },
  {
   "cell_type": "code",
   "execution_count": null,
   "metadata": {
    "collapsed": false,
    "scrolled": true
   },
   "outputs": [],
   "source": [
    "# tutorial code\n",
    "\n",
    "# from os import listdir\n",
    "# from os.path import isfile, join\n",
    "# positiveFiles = ['positiveReviews/' + f for f in listdir('positiveReviews/') if isfile(join('positiveReviews/', f))]\n",
    "# negativeFiles = ['negativeReviews/' + f for f in listdir('negativeReviews/') if isfile(join('negativeReviews/', f))]\n",
    "# numWords = []\n",
    "# for pf in positiveFiles:\n",
    "#     with open(pf, \"r\", encoding='utf-8') as f:\n",
    "#         line=f.readline()\n",
    "#         counter = len(line.split())\n",
    "#         numWords.append(counter)       \n",
    "# print('Positive files finished')\n",
    "\n",
    "# for nf in negativeFiles:\n",
    "#     with open(nf, \"r\", encoding='utf-8') as f:\n",
    "#         line=f.readline()\n",
    "#         counter = len(line.split())\n",
    "#         numWords.append(counter)  \n",
    "# print('Negative files finished')\n",
    "\n",
    "# numFiles = len(numWords)\n",
    "# print('The total number of files is', numFiles)\n",
    "# print('The total number of words in the files is', sum(numWords))\n",
    "# print('The average number of words in the files is', sum(numWords)/len(numWords))"
   ]
  },
  {
   "cell_type": "code",
   "execution_count": 7,
   "metadata": {
    "collapsed": false
   },
   "outputs": [
    {
     "name": "stdout",
     "output_type": "stream",
     "text": [
      "The total number of songs is 5510\n",
      "The total number of words in the files is 1866289\n",
      "The average number of words in the files is 338.70943738656985\n"
     ]
    }
   ],
   "source": [
    "# TODO test with toy\n",
    "\n",
    "# import pickle\n",
    "import pandas as pd\n",
    "\n",
    "# with (open(\"toy_data_Jeffrey.pkl\", \"rb\")) as openfile:\n",
    "# lyrics_popularity_df = pd.read_pickle(\"toy_data_Jeffrey.pkl\")\n",
    "\n",
    "lyrics_popularity_df = pd.read_csv('spotify.csv')\n",
    "# lyrics_popularity_df = lyrics_popularity_df.sample(500).reset_index()\n",
    "lyrics_popularity_df['lyrics'] = lyrics_popularity_df['lyrics'].apply(lambda x: eval(x))\n",
    "lyrics_popularity_df['num_words'] = lyrics_popularity_df['lyrics'].apply(lambda x: len(x))\n",
    "\n",
    "print('The total number of songs is', len(lyrics_popularity_df.index))\n",
    "print('The total number of words in the files is', lyrics_popularity_df['num_words'].sum())\n",
    "print('The average number of words in the files is', lyrics_popularity_df['num_words'].sum() / len(lyrics_popularity_df.index))"
   ]
  },
  {
   "cell_type": "markdown",
   "metadata": {},
   "source": [
    "We can also use the Matplot library to visualize this data in a histogram format. "
   ]
  },
  {
   "cell_type": "code",
   "execution_count": 8,
   "metadata": {
    "collapsed": false
   },
   "outputs": [
    {
     "name": "stdout",
     "output_type": "stream",
     "text": [
      "1934\n"
     ]
    },
    {
     "data": {
      "image/png": "[encoded data removed]",
      "text/plain": [
       "<matplotlib.figure.Figure at 0x7f63afe854a8>"
      ]
     },
     "metadata": {},
     "output_type": "display_data"
    }
   ],
   "source": [
    "# TODO test with toy\n",
    "\n",
    "import matplotlib.pyplot as plt\n",
    "\n",
    "print(lyrics_popularity_df['num_words'].max())\n",
    "\n",
    "%matplotlib inline\n",
    "plt.hist(lyrics_popularity_df['num_words'], 50)\n",
    "plt.xlabel('Sequence Length')\n",
    "plt.ylabel('Frequency')\n",
    "plt.axis([0, lyrics_popularity_df['num_words'].max(), 0, 600])\n",
    "plt.show()"
   ]
  },
  {
   "cell_type": "markdown",
   "metadata": {},
   "source": [
    "From the histogram as well as the average number of words per file, we can safely say that most reviews will fall under 250 words, which is the max sequence length value we will set. "
   ]
  },
  {
   "cell_type": "code",
   "execution_count": 9,
   "metadata": {
    "collapsed": true
   },
   "outputs": [],
   "source": [
    "# TODO: set\n",
    "\n",
    "maxSeqLength = 200"
   ]
  },
  {
   "cell_type": "code",
   "execution_count": 10,
   "metadata": {
    "collapsed": false
   },
   "outputs": [
    {
     "name": "stdout",
     "output_type": "stream",
     "text": [
      "1934\n"
     ]
    },
    {
     "data": {
      "image/png": "[encoded data removed]",
      "text/plain": [
       "<matplotlib.figure.Figure at 0x7f639cdf59e8>"
      ]
     },
     "metadata": {},
     "output_type": "display_data"
    }
   ],
   "source": [
    "# TODO test with toy\n",
    "\n",
    "import matplotlib.pyplot as plt\n",
    "\n",
    "print(lyrics_popularity_df['num_words'].max())\n",
    "\n",
    "%matplotlib inline\n",
    "plt.hist(lyrics_popularity_df['track_popularity'], 50)\n",
    "plt.xlabel('Popularity')\n",
    "plt.ylabel('Frequency')\n",
    "plt.axis([0, lyrics_popularity_df['track_popularity'].max(), 0, 600])\n",
    "plt.show()"
   ]
  },
  {
   "cell_type": "markdown",
   "metadata": {},
   "source": [
    "Let's see how we can take a single file and transform it into our ids matrix. This is what one of the reviews looks like in text file format."
   ]
  },
  {
   "cell_type": "code",
   "execution_count": 11,
   "metadata": {
    "collapsed": false
   },
   "outputs": [
    {
     "name": "stdout",
     "output_type": "stream",
     "text": [
      "['Mamma', 'fa', 'la', 'casalinga', '(Ulalala)', \"'Sta\", 'tipa', 'ha', 'la', 'lingua', 'per', 'terra', 'e', 'mi', 'fa', 'casa', 'liscia', '(Ulalala)', 'La', 'cinta,', 'le', 'scarpe', 'le', 'ho', 'in', 'tinta,', 'il', 'mio', 'amico', 'è', 'incinta', '(Ulalala)', 'Tira', 'le', 'palline', 'bianche', 'ma', 'imbuca', 'le', 'mazze,', 'sì', 'come', 'un', 'golfista', '(Ulalala)', 'Segue', \"'ste\", 'strisce', 'e', 'lo', 'portano', \"all'oro\", 'sul', 'podio', 'Sì,', 'come', 'se', 'in', 'pista', 'Mio', 'figlio', 'che', 'vuole', 'vendere,', 'sì', 'come', 'un', 'grossista', 'Attaccata', 'al', 'culo', \"'sta\", 'gente', 'che', 'vuole', \"'sta\", 'roba', 'Sì', 'come', 'una', 'scimmia', 'Succhia', 'di', 'fretta', \"'sti\", 'soldi', 'Sì', 'come', 'si', 'succhia', 'una', 'tetta', 'a', 'una', 'bimba', 'Gonfia', \"'sto\", 'pacco', 'di', 'soldi,', 'sì', 'come', 'un', 'gommista', 'Oh,', 'come', 'un', 'culturista', 'Non', 'so', \"l'inglese\", 'Dentro', 'una', 'cartina', 'un', 'abete', 'Dovevo', 'stare', 'in', 'galera', 'e', 'invece', 'Volevo', 'avere,', 'ma', 'non', 'per', 'farlo', 'vedere', 'No', 'no', 'no,', 'no', 'no', 'no', '(Wow!)', 'No', 'no', 'noo,', 'no', 'no', 'no,', 'no', 'no', 'no', \"'Sta\", 'weeda', 'è', 'talmente', 'arancione', 'che', 'sembra', 'una', 'pesca', '(Ulalala)', \"'Sta\", 'tipa', 'ha', 'una', 'fragola', \"fra'\", 'che', 'mi', 'gira', 'la', 'testa', '(Ulalala)', 'In', 'tasca', \"c'ho\", 'cento', 'conchiglie', 'ma', 'non', 'vado', 'a', 'pesca', '(Ulalala)', 'Questa', 'bustina', 'col', 'cuore', 'di', 'una', 'caramella', 'Ulalala', 'Io', 'mi', 'ricordo', 'le', 'imprese', 'Una', 'vita', 'senza', 'pretese', 'I', 'salti', 'mortali', 'per', 'arrivare', 'a', 'fine', 'mese', 'E', 'poi..', '(E', 'poi?!)', 'E', 'adesso', 'invece', 'giro', 'quasi', 'sempre', 'prima', 'classe', 'Questa', 'vita', 'folle,', \"fra',\", 'sembrava', 'mi', 'chiamasse', 'Il', 'mondo', 'gira', \"l'asse,\", 'le', 'giriamo', 'grasse', 'A', 'fare', 'questa', 'merda', 'fatta', 'bene', 'sono', 'il', 'master', '(Baby)', 'Combatto', 'in', 'questa', 'arena', 'come', 'Russell', '(Hater)', 'Appena', \"c'hai\", 'le', 'classe', 'in', 'play,', 'man', 'Tu', 'sparisci', 'come', 'Casper', 'Gridano', '\"Ulalala\"', 'quando', \"c'è\", 'il', 'fuoriclasse', 'Al', 'collo', 'ho', 'San', 'Pietro', 'e', 'San', 'Paolo', 'La', 'luna', 'sopra', 'un', 'piatto', 'bianco', 'Intestato', \"c'ho\", 'un', 'cazzo', 'Sì,', 'ma', 'al', 'collo', \"c'ho\", 'il', 'Pantheon', \"So'\", 'il', 'primo', 'in', 'Italia', 'che', 'quello', 'che', 'dice', \"l'ha\", 'fatto', 'E', 'quello', 'che', 'dico', 'lo', 'faccio', 'Lume', 'e', 'candela', 'Sì,', 'quanto', 'per', 'i', 'miei', 'raga', 'morire', 'è', 'carriera', \"'Sta\", 'weeda', 'è', 'talmente', 'arancione', 'che', 'sembra', 'una', 'pesca', '(Ulalala)', \"'Sta\", 'tipa', 'ha', 'una', 'fragola', \"fra'\", 'che', 'mi', 'gira', 'la', 'testa', '(Ulalala)', 'In', 'tasca', \"c'ho\", 'cento', 'conchiglie', 'ma', 'non', 'vado', 'a', 'pesca', '(Ulalala)', 'Questa', 'bustina', 'col', 'cuore', 'di', 'una', 'caramella', 'Ulalala', 'Neve', 'bianca,', 'connessione', 'a', 'banda', 'larga', 'Re', 'su', 'quella', 'panca', 'Mamma,', 'latte', 'in', 'polvere', 'bianca', 'No,', 'niente', 'soldi', 'in', 'banca,', 'diecimila', 'in', 'tasca,', 'basta', 'Pantalone', 'casca,', 'tu', 'sei', 'un', 'pasto', 'sei', 'pasta', 'Sei', 'ricco', 'di', 'fascia,', 'di', 'faccia', 'La', 'papera', 'ci', 'casca,', 'sei', 'una', 'papera', 'che', 'mangia', 'Sbanca,', 'Zio', 'Paperone', 'in', 'piazza', 'Ho', 'il', 'culo', 'sul', 'letto', 'dorato', 'Salmone', 'in', 'salsa', 'di', 'avocado', 'Ciò', 'che', 'non', 'dico', 'lo', 'sa', \"l'avvocato\", \"Frate'\", 'sto', 'pesce', 'ha', 'abboccato', 'Non', 'lavoriamo,', 'si', 'ma', 'lavoriamo', 'Al', 'polso', \"c'ho\", 'tipo', 'il', 'Big', 'Bang', 'Mio', \"frate'\", 'ha', 'una', 'roba', 'che', 'scoppia', 'le', 'vene', 'e', 'le', 'arterie', 'Ma', 'come', 'il', 'Big', 'Bang', \"'Sta\", 'weeda', 'è', 'talmente', 'arancione', 'che', 'sembra', 'una', 'pesca', 'Cucino', \"'sta\", '(Ulalala)', 'che', 'sembra', 'una', 'perla', 'In', 'tasca', \"c'ho\", 'cento', 'conchiglie', 'ma', 'non', 'vado', 'a', 'pesca', 'Ostriche', 'e', 'tavole,', 'in', 'macchina', 'chili', 'di', 'erba', 'Ulalalaaa', '(Lalala,', 'lalala,', 'lalala)', \"'Sta\", 'weeda', 'è', 'talmente', 'arancione', 'che', 'sembra', 'una', 'pesca', '(Ulalala)', \"'Sta\", 'tipa', 'ha', 'una', 'fragola', \"fra'\", 'che', 'mi', 'gira', 'la', 'testa', '(Ulalala)', 'In', 'tasca', \"c'ho\", 'cento', 'conchiglie', 'ma', 'non', 'vado', 'a', 'pesca', '(Ulalala)', 'Questa', 'bustina', 'col', 'cuore', 'di', 'una', 'caramella', 'Ulalala', 'Le', 'dune', 'e', 'il', 'deserto', 'dei', 'tartari', 'nella', 'mia', 'giacca', 'Questa', 'bustina', 'più', 'che', 'una', 'bustina', 'è', 'una', 'spiaggia', \"'Sto\", 'fiume', 'di', 'soldi', 'non', 'basta,', 'papà', 'niente', 'in', 'banca', '(Non', 'ho', 'niente', 'in', 'banca)', 'Per', 'mio', 'fratello', 'non', 'sei', 'più', 'che', 'un', 'piatto', 'di', 'pasta', 'Ulalalaaa']\n",
      "Mamma\n",
      "587\n"
     ]
    }
   ],
   "source": [
    "# lyrics_popularity_df\n",
    "print(lyrics_popularity_df['lyrics'][0])\n",
    "print(lyrics_popularity_df['lyrics'][0][0])\n",
    "print(len(lyrics_popularity_df['lyrics'][0]))"
   ]
  },
  {
   "cell_type": "code",
   "execution_count": 12,
   "metadata": {
    "collapsed": false
   },
   "outputs": [
    {
     "name": "stdout",
     "output_type": "stream",
     "text": [
      "['Amore!', 'Si,ciao', 'ho', 'fatto', 'questo', 'numero', 'era', \"l'ultima\", 'chiamata', 'effettuata', 'Ma', 'chi', 'sei?', 'Senti,', 'è', 'successo', 'un', 'casino,', 'Dio', 'mio', 'non', 'so', 'come', 'dirtelo', 'Ma', 'dirmi', 'cosa?!', 'Devi', 'venire', 'subito', 'qui,', 'è', \"un'emergenza\", 'Ma', 'qui', 'dove?', 'Vieni', 'subito', 'Dio!!', 'Sta', 'storia', 'Cyrano', 'Cavalli', 'tirano', 'Lei', 'fino', 'mezzanotte', 'qui', 'Come', 'quella', 'fiaba', 'lì', 'E', 'fino', 'mezzanotte', 'qui', 'Come', 'quella', 'fiaba', 'lì', 'Dopo', 'le', 'strappano', 'il', 'vestito', 'Dior', 'La', 'nostra', 'carrozza', 'è', 'un', 'Porsche', 'Le', 'scarpe', 'di', 'cristallo', 'si', 'Perse', 'in', 'quei', 'palazzi', 'lì', 'Noi', 'due', 'fatti', 'dietro', 'occhiali', 'blu', 'Nuovi', 'Gucci', 'Le', 'facce', 'scombinate', 'Rubik', 'È', 'un', 'film', 'di', 'Kubrick', 'Tu', 'che', 'in', 'viso', 'hai', 'nuovi', 'trucchi', 'Io', 'invece', 'ho', 'i', 'punti', 'Io', 'che', 'scappo', \"all'ora\", 'giusta', 'Tu', 'che', 'riaggiusti', 'Fino', 'quella', 'notte', 'lì', 'A', 'quella', 'mezzanotte', 'lì', 'A', 'odiarmi', 'se', 'sono', 'così', 'Lo', 'so', 'che', 'ti', 'dico', 'che', 'cambierò', 'Dimmi', 'di', 'no', 'Prometti', 'che', 'dirai', 'di', 'no', 'e', 'farai', 'la', 'stronza', 'Per', 'questa', 'volta', 'Per', 'una', 'volta', 'Prometti', 'non', 'mi', 'seguirai', 'pure', 'sta', 'notte', 'Perché', 'sta', 'notte', 'non', 'si', 'ritorna', 'Perché', 'io', 'non', 'ho', 'posto', 'lassù', 'Perché', 'amarsi', 'è', 'ammalarsi', 'quaggiù', 'Perché', 'in', 'fondo', 'stavolta', 'Non', \"c'è\", 'una', 'carrozza', 'Stanotte', 'moriamo', 'quaggiù', 'So', 'che', 'quello', 'che', 'ho', 'lasciato', 'Non', 'torna', 'due', 'volta', 'da', 'me', 'Torno', 'dal', 'nulla', 'si', 'come', 'DiCaprio', 'E', 'il', 'diavolo', 'è', 'vestito', 'bene', 'Quello', 'che', 'non', 'hai', 'dimenticato', 'Forse', 'è', 'la', 'stessa', 'che', 'ho', 'odiato', 'di', 'più', 'È', 'meglio', 'se', 'mi', 'stai', 'lontano', 'Amare', 'è', 'come', 'ammalarsi', 'quaggiù', 'Non', 'lo', 'sai,', 'no', 'Tu', 'non', 'sai', 'di', 'me', 'quanto', 'penso', '\"Ma', 'che', 'vita', 'è?\"', 'Tu', 'non', 'sai,', 'no', 'Tu', 'non', 'sai', 'di', 'me', '(di', 'me)', 'Dimmi', 'di', 'no', 'Prometti', 'che', 'dirai', 'di', 'no', 'e', 'farai', 'la', 'stronza', 'Per', 'questa', 'volta', 'Per', 'una', 'volta', 'Prometti', 'non', 'mi', 'seguirai', 'pure', 'sta', 'notte', 'Perché', 'sta', 'notte', 'non', 'si', 'ritorna', 'Perché', 'io', 'non', 'ho', 'posto', 'lassù', 'Perché', 'amarsi', 'è', 'ammalarsi', 'quaggiù', 'Perché', 'in', 'fondo', 'stavolta', 'Non', \"c'è\", 'una', 'carrozza', 'Stanotte', 'moriamo', 'quaggiù', 'Un', 'giorno', 'verrò', 'a', 'prenderti', 'Sotto', 'quei', 'palazzi', 'In', 'quel', 'quartiere', 'lì', 'Quel', 'posto', 'che', 'non', 'meriti', 'Quelle', 'case', 'strette', 'Quella', 'gente', 'Quel', 'futuro', 'Quei', 'palazzi', 'lì', 'Giuro', 'un', 'giorno', 'verrò', 'a', 'prenderti', 'Con', 'un', 'sacco', 'di', 'soldi', 'per', 'scappare', 'via', 'Tu', 'vestita', 'di', 'Fendi', 'Con', 'quelle', 'scarpe', 'trasparenti', 'Un', 'giorno', 'verrò', 'a', 'prenderti', 'su', 'un', 'Porsche', 'Giacca', 'Givenchy', 'Proprio', 'sotto', 'quei', 'palazzi', 'lì', 'Ti', 'porterò', 'via', 'da', 'sta', 'città', 'Da', 'quei', 'palazzi', 'lì', 'Ci', 'hanno', 'insegnato', 'ad', 'essere', 'i', 'cattivi', 'Solo', 'ad', 'essere', 'i', 'cattivi', 'Ad', 'essere', 'i', 'cattivi', 'Solo', 'ad', 'essere', 'i', 'cattivi', 'E', 'dimmi', 'questa', 'volta', 'no', 'E', 'dimmi', 'questa', 'volta', 'no', 'Dimmi', 'questa', 'volta', 'no', 'Dimmi', 'questa', 'volta', 'no', 'Dimmi', 'questa', 'volta', 'no', 'Dimmi', 'questa', 'volta', 'no', 'Questa', 'volta', 'no', 'Dimmi', 'questa', 'volta', 'no', 'Dimmi', 'di', 'no', 'Prometti', 'che', 'dirai', 'di', 'no', 'e', 'farai', 'la', 'stronza', 'Per', 'questa', 'volta', 'Per', 'una', 'volta', 'Prometti', 'non', 'mi', 'seguirai', 'pure', 'sta', 'notte', 'Perché', 'sta', 'notte', 'non', 'si', 'ritorna', 'Perché', 'io', 'non', 'ho', 'posto', 'lassù', 'Perché', 'amarsi', 'è', 'ammalarsi', 'quaggiù', 'Perché', 'in', 'fondo', 'stavolta', 'Non', \"c'è\", 'una', 'carrozza', 'Stanotte', 'moriamo', 'quaggiù', 'Noi', 'moriamo', 'quaggiù', 'Noi', 'moriamo', 'quaggiù', 'Noi', 'moriamo', 'quaggiù', 'Noi', 'moriamo', 'quaggiù', 'Noi', 'moriamo', 'quaggiù', 'Noi', 'moriamo', 'quaggiù', 'Noi', 'moriamo', 'quaggiù', 'Dimmi', 'di', 'no', '(no', 'no', 'no', 'no...)', 'Dimmi', 'di', 'no', '(no', 'no', 'no', 'no...)', 'Dimmi', 'di', 'no', '(no', 'no', 'no', 'no...)', 'Dimmi', 'di', 'no', 'Dimmi', 'di', 'no']\n"
     ]
    }
   ],
   "source": [
    "# todo: test with toy\n",
    "\n",
    "song_1 = lyrics_popularity_df.loc[1, 'lyrics'] #Can use any valid index (not just 1)\n",
    "print(song_1)"
   ]
  },
  {
   "cell_type": "markdown",
   "metadata": {},
   "source": [
    "Now, let's convert to to an ids matrix"
   ]
  },
  {
   "cell_type": "code",
   "execution_count": 7,
   "metadata": {
    "collapsed": true
   },
   "outputs": [],
   "source": [
    "# # Removes punctuation, parentheses, question marks, etc., and leaves only alphanumeric characters\n",
    "# import re\n",
    "# strip_special_chars = re.compile(\"[^A-Za-z0-9 ]+\")\n",
    "\n",
    "# def cleanSentences(string):\n",
    "#     string = string.lower().replace(\"<br />\", \" \")\n",
    "#     return re.sub(strip_special_chars, \"\", string.lower())"
   ]
  },
  {
   "cell_type": "code",
   "execution_count": 27,
   "metadata": {
    "collapsed": false
   },
   "outputs": [],
   "source": [
    "# tutorial code\n",
    "# firstFile = np.zeros((maxSeqLength), dtype='int32')\n",
    "# with open(fname) as f:\n",
    "#     indexCounter = 0\n",
    "#     line=f.readline()\n",
    "#     cleanedLine = cleanSentences(line)\n",
    "#     split = cleanedLine.split()\n",
    "#     for word in split:\n",
    "#         if indexCounter < maxSeqLength:\n",
    "#             try:\n",
    "#                 firstFile[indexCounter] = wordsList.index(word)\n",
    "#             except ValueError:\n",
    "#                 firstFile[indexCounter] = 399999 #Vector for unknown words\n",
    "#         indexCounter = indexCounter + 1\n",
    "# firstFile"
   ]
  },
  {
   "cell_type": "code",
   "execution_count": 13,
   "metadata": {
    "collapsed": false
   },
   "outputs": [
    {
     "name": "stdout",
     "output_type": "stream",
     "text": [
      "Unnamed: 0                                                           17\n",
      "artist                                                    Achille Lauro\n",
      "song                                                           Amore Mi\n",
      "album                                                          Amore mi\n",
      "lyrics                [Yeah,, yeah,, yeah, Oh,, questa, è, novita, I...\n",
      "genius_id                                                       3162643\n",
      "spotify_id                                       0mZjrR1A0p2OlfIwnTnzzU\n",
      "spotify_track_data    {'album': {'album_type': 'single', 'artists': ...\n",
      "spotify_audio_data    [{'danceability': 0.627, 'energy': 0.858, 'key...\n",
      "featured_artists                                          ['Boss Doms']\n",
      "track_popularity                                                     54\n",
      "duration                                                         205090\n",
      "explicit                                                          False\n",
      "danceability                                                      0.627\n",
      "energy                                                            0.858\n",
      "key                                                                   7\n",
      "loudness                                                          -6.54\n",
      "mode                                                                  1\n",
      "speechiness                                                       0.129\n",
      "acousticness                                                     0.0228\n",
      "instrumentalness                                                      0\n",
      "liveness                                                           0.34\n",
      "valence                                                           0.489\n",
      "tempo                                                           110.033\n",
      "time_signature                                                        4\n",
      "num_words                                                           394\n",
      "Name: 5, dtype: object\n"
     ]
    }
   ],
   "source": [
    "print(lyrics_popularity_df.loc[5,:])"
   ]
  },
  {
   "cell_type": "code",
   "execution_count": 14,
   "metadata": {
    "collapsed": false
   },
   "outputs": [],
   "source": [
    "# Removes punctuation, parentheses, question marks, etc., and leaves only alphanumeric characters\n",
    "import re\n",
    "import time\n",
    "strip_special_chars = re.compile(\"[^A-Za-z0-9 ]+\")\n",
    "\n",
    "def clean_and_wordvec(string):\n",
    "    string = string.lower().replace(\"<br />\", \" \")\n",
    "    clean = re.sub(strip_special_chars, \"\", string.lower())\n",
    "    try:\n",
    "        return wordsList.index(clean)\n",
    "    except ValueError:\n",
    "        return 399999 #Vector for unknown words\n",
    "    \n",
    "def clean_sentence(sent):\n",
    "#     tick = time.time()\n",
    "    clean = [clean_and_wordvec(word) for word in sent[:maxSeqLength]]\n",
    "#     print(time.time() - tick)\n",
    "#     print(clean)\n",
    "    if not clean:\n",
    "        return [399999]\n",
    "    return clean\n",
    "\n",
    "\n",
    "# clean_sentence(lyrics_popularity_df.loc[1, 'lyrics'])\n",
    "# tick = time.time()\n",
    "# test = lyrics_popularity_df['lyrics'][:10].apply(lambda x: clean_sentence(x))\n",
    "# print(time.time() - tick)\n",
    "# lyrics_popularity_df['lyrics_indices'] = lyrics_popularity_df['lyrics'].apply(lambda x: clean_sentence(x))\n",
    "# lyrics_popularity_df.to_csv('lyrics_with_word_ids.csv')\n",
    "# len(lyrics_popularity_df['lyrics_indices'][0])"
   ]
  },
  {
   "cell_type": "code",
   "execution_count": null,
   "metadata": {
    "collapsed": false
   },
   "outputs": [],
   "source": [
    "# ids = np.zeros((numFiles, maxSeqLength), dtype='int32')\n",
    "# fileCounter = 0\n",
    "# for pf in positiveFiles:\n",
    "#    with open(pf, \"r\") as f:\n",
    "#        indexCounter = 0\n",
    "#        line=f.readline()\n",
    "#        cleanedLine = cleanSentences(line)\n",
    "#        split = cleanedLine.split()\n",
    "#        for word in split:\n",
    "#            try:\n",
    "#                ids[fileCounter][indexCounter] = wordsList.index(word)\n",
    "#            except ValueError:\n",
    "#                ids[fileCounter][indexCounter] = 399999 #Vector for unkown words\n",
    "#            indexCounter = indexCounter + 1\n",
    "#            if indexCounter >= maxSeqLength:\n",
    "#                break\n",
    "#        fileCounter = fileCounter + 1 \n",
    "\n",
    "# for nf in negativeFiles:\n",
    "#    with open(nf, \"r\") as f:\n",
    "#        indexCounter = 0\n",
    "#        line=f.readline()\n",
    "#        cleanedLine = cleanSentences(line)\n",
    "#        split = cleanedLine.split()\n",
    "#        for word in split:\n",
    "#            try:\n",
    "#                ids[fileCounter][indexCounter] = wordsList.index(word)\n",
    "#            except ValueError:\n",
    "#                ids[fileCounter][indexCounter] = 399999 #Vector for unkown words\n",
    "#            indexCounter = indexCounter + 1\n",
    "#            if indexCounter >= maxSeqLength:\n",
    "#                break\n",
    "#        fileCounter = fileCounter + 1 \n",
    "# #Pass into embedding function and see if it evaluates. \n",
    "\n",
    "# np.save('idsMatrix', ids)"
   ]
  },
  {
   "cell_type": "code",
   "execution_count": 15,
   "metadata": {
    "collapsed": false
   },
   "outputs": [],
   "source": [
    "# ids = np.load('idsMatrix.npy')\n",
    "lyrics_popularity_df = pd.read_csv('lyrics_with_word_ids.csv')\n",
    "\n",
    "def pad(x):\n",
    "    x_list = eval(x)\n",
    "#     print(x_list)\n",
    "    if len(x_list) < maxSeqLength:\n",
    "        x_list.extend([0] * (maxSeqLength - len(x_list)))\n",
    "    return x_list\n",
    "  \n",
    "lyrics_popularity_df['lyrics_indices'] = lyrics_popularity_df['lyrics_indices'].apply(lambda x: pad(x))\n",
    "lyrics_popularity_df['track_popularity'] = lyrics_popularity_df['track_popularity'].apply(lambda x: x / 100)"
   ]
  },
  {
   "cell_type": "code",
   "execution_count": 16,
   "metadata": {
    "collapsed": false
   },
   "outputs": [
    {
     "name": "stdout",
     "output_type": "stream",
     "text": [
      "['Unnamed: 0', 'Unnamed: 0.1', 'artist', 'song', 'album', 'lyrics', 'genius_id', 'spotify_id', 'spotify_track_data', 'spotify_audio_data', 'featured_artists', 'track_popularity', 'duration', 'explicit', 'danceability', 'energy', 'key', 'loudness', 'mode', 'speechiness', 'acousticness', 'instrumentalness', 'liveness', 'valence', 'tempo', 'time_signature', 'num_words', 'lyrics_indices']\n"
     ]
    },
    {
     "data": {
      "text/plain": [
       "0       0.04\n",
       "1       0.68\n",
       "2       0.32\n",
       "3       0.73\n",
       "4       0.52\n",
       "5       0.88\n",
       "6       0.29\n",
       "7       0.02\n",
       "8       0.59\n",
       "9       0.56\n",
       "10      0.79\n",
       "11      0.64\n",
       "12      0.64\n",
       "13      0.31\n",
       "14      0.44\n",
       "15      0.02\n",
       "16      0.18\n",
       "17      0.03\n",
       "18      0.48\n",
       "19      0.37\n",
       "20      0.17\n",
       "21      0.38\n",
       "22      0.72\n",
       "23      0.57\n",
       "24      0.97\n",
       "25      0.26\n",
       "26      0.23\n",
       "27      0.13\n",
       "28      0.16\n",
       "29      0.32\n",
       "        ... \n",
       "5480    0.49\n",
       "5481    0.52\n",
       "5482    0.03\n",
       "5483    0.70\n",
       "5484    0.55\n",
       "5485    0.37\n",
       "5486    0.69\n",
       "5487    0.53\n",
       "5488    0.30\n",
       "5489    0.53\n",
       "5490    0.78\n",
       "5491    0.20\n",
       "5492    0.49\n",
       "5493    0.57\n",
       "5494    0.09\n",
       "5495    0.62\n",
       "5496    0.56\n",
       "5497    0.74\n",
       "5498    0.63\n",
       "5499    0.04\n",
       "5500    0.02\n",
       "5501    0.18\n",
       "5502    0.53\n",
       "5503    0.07\n",
       "5504    0.73\n",
       "5505    0.34\n",
       "5506    0.65\n",
       "5507    0.46\n",
       "5508    0.02\n",
       "5509    0.36\n",
       "Name: track_popularity, dtype: float64"
      ]
     },
     "execution_count": 16,
     "metadata": {},
     "output_type": "execute_result"
    }
   ],
   "source": [
    "import math\n",
    "\n",
    "lyrics_popularity_df = lyrics_popularity_df.sample(frac=1).reset_index(drop=True)\n",
    "num_songs = len(lyrics_popularity_df.index)\n",
    "training_cutoff = math.floor(0.9 * num_songs)\n",
    "print(list(lyrics_popularity_df))\n",
    "lyrics_popularity_df['track_popularity']"
   ]
  },
  {
   "cell_type": "markdown",
   "metadata": {},
   "source": [
    "# Helper Functions"
   ]
  },
  {
   "cell_type": "markdown",
   "metadata": {},
   "source": [
    "Below you can find a couple of helper functions that will be useful when training the network in a later step. "
   ]
  },
  {
   "cell_type": "code",
   "execution_count": 17,
   "metadata": {
    "collapsed": false
   },
   "outputs": [
    {
     "name": "stdout",
     "output_type": "stream",
     "text": [
      "5510\n"
     ]
    }
   ],
   "source": [
    "# from random import randint\n",
    "\n",
    "# def getTrainBatch():\n",
    "#     labels = []\n",
    "    #     arr = np.zeros([batchSize, maxSeqLength])\n",
    "    #     for i in range(batchSize):\n",
    "#         if (i % 2 == 0): \n",
    "#             num = randint(1,11499)\n",
    "#             labels.append([1,0])\n",
    "#         else:\n",
    "#             num = randint(13499,24999)\n",
    "#             labels.append([0,1])\n",
    "#         arr[i] = ids[num-1:num]\n",
    "#     return arr, labels\n",
    "\n",
    "# def getTestBatch():\n",
    "#     labels = []\n",
    "#     arr = np.zeros([batchSize, maxSeqLength])\n",
    "#     for i in range(batchSize):\n",
    "#         num = randint(11499,13499)\n",
    "#         if (num <= 12499):\n",
    "#             labels.append([1,0])\n",
    "#         else:\n",
    "#             labels.append([0,1])\n",
    "#         arr[i] = ids[num-1:num]\n",
    "#     return arr, labels\n",
    "\n",
    "print(len(lyrics_popularity_df.index))"
   ]
  },
  {
   "cell_type": "code",
   "execution_count": 17,
   "metadata": {
    "collapsed": true
   },
   "outputs": [],
   "source": [
    "from random import randint\n",
    "\n",
    "def getTrainBatch():\n",
    "    labels = []\n",
    "    arr = np.zeros([batchSize, maxSeqLength])\n",
    "    for i in range(batchSize):\n",
    "        idx = randint(0, training_cutoff)\n",
    "        arr[i,:] = lyrics_popularity_df.loc[idx, 'lyrics_indices']\n",
    "        labels.append([lyrics_popularity_df.loc[idx, 'track_popularity']])\n",
    "    return arr, labels\n",
    "\n",
    "def getTestBatch():\n",
    "    labels = []\n",
    "    arr = np.zeros([batchSize, maxSeqLength])\n",
    "    for i in range(batchSize):\n",
    "        idx = randint(training_cutoff, num_songs - 1)\n",
    "        arr[i,:] = lyrics_popularity_df.loc[idx, 'lyrics_indices']\n",
    "        labels.append([lyrics_popularity_df.loc[idx, 'track_popularity']])\n",
    "    return arr, labels"
   ]
  },
  {
   "cell_type": "markdown",
   "metadata": {},
   "source": [
    "# RNN Model"
   ]
  },
  {
   "cell_type": "markdown",
   "metadata": {},
   "source": [
    "Now, we’re ready to start creating our Tensorflow graph. We’ll first need to define some hyperparameters, such as batch size, number of LSTM units, number of output classes, and number of training iterations. "
   ]
  },
  {
   "cell_type": "code",
   "execution_count": 18,
   "metadata": {
    "collapsed": true
   },
   "outputs": [],
   "source": [
    "batchSize = 24\n",
    "lstmUnits = 256\n",
    "numClasses = 1\n",
    "iterations = 2500 # 100000"
   ]
  },
  {
   "cell_type": "markdown",
   "metadata": {},
   "source": [
    "As with most Tensorflow graphs, we’ll now need to specify two placeholders, one for the inputs into the network, and one for the labels. The most important part about defining these placeholders is understanding each of their dimensionalities. "
   ]
  },
  {
   "cell_type": "markdown",
   "metadata": {},
   "source": [
    "The labels placeholder represents a set of values, each either [1, 0] or [0, 1], depending on whether each training example is positive or negative. Each row in the integerized input placeholder represents the integerized representation of each training example that we include in our batch."
   ]
  },
  {
   "cell_type": "markdown",
   "metadata": {},
   "source": [
    "![caption](Images/SentimentAnalysis12.png)"
   ]
  },
  {
   "cell_type": "code",
   "execution_count": 20,
   "metadata": {
    "collapsed": true
   },
   "outputs": [],
   "source": [
    "import tensorflow as tf\n",
    "tf.reset_default_graph()\n",
    "\n",
    "labels = tf.placeholder(tf.float32, [batchSize, numClasses])\n",
    "input_data = tf.placeholder(tf.int32, [batchSize, maxSeqLength])"
   ]
  },
  {
   "cell_type": "markdown",
   "metadata": {},
   "source": [
    "Once we have our input data placeholder, we’re going to call the tf.nn.lookup() function in order to get our word vectors. The call to that function will return a 3-D Tensor of dimensionality batch size by max sequence length by word vector dimensions. In order to visualize this 3-D tensor, you can simply think of each data point in the integerized input tensor as the corresponding D dimensional vector that it refers to. \n"
   ]
  },
  {
   "cell_type": "markdown",
   "metadata": {},
   "source": [
    "![caption](Images/SentimentAnalysis13.png)"
   ]
  },
  {
   "cell_type": "code",
   "execution_count": 21,
   "metadata": {
    "collapsed": true
   },
   "outputs": [],
   "source": [
    "data = tf.Variable(tf.zeros([batchSize, maxSeqLength, numDimensions]),dtype=tf.float32)\n",
    "data = tf.nn.embedding_lookup(wordVectors,input_data)"
   ]
  },
  {
   "cell_type": "markdown",
   "metadata": {},
   "source": [
    "Now that we have the data in the format that we want, let’s look at how we can feed this input into an LSTM network. We’re going to call the tf.nn.rnn_cell.BasicLSTMCell function. This function takes in an integer for the number of LSTM units that we want. This is one of the hyperparameters that will take some tuning to figure out the optimal value. We’ll then wrap that LSTM cell in a dropout layer to help prevent the network from overfitting. "
   ]
  },
  {
   "cell_type": "markdown",
   "metadata": {},
   "source": [
    "Finally, we’ll feed both the LSTM cell and the 3-D tensor full of input data into a function called tf.nn.dynamic_rnn. This function is in charge of unrolling the whole network and creating a pathway for the data to flow through the RNN graph."
   ]
  },
  {
   "cell_type": "code",
   "execution_count": 22,
   "metadata": {
    "collapsed": false
   },
   "outputs": [],
   "source": [
    "lstmCell = tf.contrib.rnn.BasicLSTMCell(lstmUnits)\n",
    "lstmCell = tf.contrib.rnn.DropoutWrapper(cell=lstmCell, output_keep_prob=0.75)\n",
    "value, _ = tf.nn.dynamic_rnn(lstmCell, data, dtype=tf.float32)"
   ]
  },
  {
   "cell_type": "markdown",
   "metadata": {},
   "source": [
    "As a side note, another more advanced network architecture choice is to stack multiple LSTM cells on top of each other. This is where the final hidden state vector of the first LSTM feeds into the second. Stacking these cells is a great way to help the model retain more long term dependence information, but also introduces more parameters into the model, thus possibly increasing the training time, the need for additional training examples, and the chance of overfitting. For more information on how you can add stacked LSTMs to your model, check out Tensorflow's excellent [documentation](https://www.tensorflow.org/tutorials/recurrent#stacking_multiple_lstms)."
   ]
  },
  {
   "cell_type": "markdown",
   "metadata": {},
   "source": [
    "The first output of the dynamic RNN function can be thought of as the last hidden state vector. This vector will be reshaped and then multiplied by a final weight matrix and a bias term to obtain the final output values."
   ]
  },
  {
   "cell_type": "code",
   "execution_count": 23,
   "metadata": {
    "collapsed": false
   },
   "outputs": [],
   "source": [
    "weight = tf.Variable(tf.truncated_normal([lstmUnits, numClasses]))\n",
    "bias = tf.Variable(tf.constant(0.1, shape=[numClasses]))\n",
    "value = tf.transpose(value, [1, 0, 2])\n",
    "last = tf.gather(value, int(value.get_shape()[0]) - 1)\n",
    "prediction = (tf.matmul(last, weight) + bias)"
   ]
  },
  {
   "cell_type": "markdown",
   "metadata": {},
   "source": [
    "Next, we’ll define correct prediction and accuracy metrics to track how the network is doing. The correct prediction formulation works by looking at the index of the maximum value of the 2 output values, and then seeing whether it matches with the training labels. "
   ]
  },
  {
   "cell_type": "code",
   "execution_count": 24,
   "metadata": {
    "collapsed": true
   },
   "outputs": [],
   "source": [
    "# correctPred = tf.equal(tf.argmax(prediction,1), tf.argmax(labels,1))\n",
    "# accuracy = tf.reduce_mean(tf.cast(correctPred, tf.float32))\n",
    "accuracy = tf.reduce_mean(tf.squared_difference(prediction, labels))"
   ]
  },
  {
   "cell_type": "markdown",
   "metadata": {},
   "source": [
    "We’ll define a standard cross entropy loss with a softmax layer put on top of the final prediction values. For the optimizer, we’ll use Adam and the default learning rate of .001. "
   ]
  },
  {
   "cell_type": "code",
   "execution_count": 25,
   "metadata": {
    "collapsed": false
   },
   "outputs": [],
   "source": [
    "# loss = tf.reduce_mean(tf.nn.softmax_cross_entropy_with_logits(logits=prediction, labels=labels))\n",
    "loss = tf.losses.mean_squared_error(labels=labels, predictions=prediction)\n",
    "optimizer = tf.train.AdamOptimizer(learning_rate=0.001).minimize(loss) #0.0005"
   ]
  },
  {
   "cell_type": "markdown",
   "metadata": {},
   "source": [
    "If you’d like to use Tensorboard to visualize the loss and accuracy values, you can also run and the modify the following code. "
   ]
  },
  {
   "cell_type": "code",
   "execution_count": 31,
   "metadata": {
    "collapsed": false
   },
   "outputs": [],
   "source": [
    "import datetime\n",
    "\n",
    "# tf.summary.scalar('Loss', loss)\n",
    "tf.summary.scalar('MSE', accuracy)\n",
    "merged = tf.summary.merge_all()\n",
    "logdir = \"tensorboard/\" + datetime.datetime.now().strftime(\"%Y%m%d-%H%M%S\") + \"/\"\n",
    "writer = tf.summary.FileWriter(logdir, sess.graph)"
   ]
  },
  {
   "cell_type": "markdown",
   "metadata": {},
   "source": [
    "# Hyperparameter Tuning"
   ]
  },
  {
   "cell_type": "markdown",
   "metadata": {},
   "source": [
    "Choosing the right values for your hyperparameters is a crucial part of training deep neural networks effectively. You'll find that your training loss curves can vary with your choice of optimizer (Adam, Adadelta, SGD, etc), learning rate, and network architecture. With RNNs and LSTMs in particular, some other important factors include the number of LSTM units and the size of the word vectors.\n",
    "\n",
    "* Learning Rate: RNNs are infamous for being diffult to train because of the large number of time steps they have. Learning rate becomes extremely important since we don't want our weight values to fluctuate wildly as a result of a large learning rate, nor do we want a slow training process due to a low learning rate. The default value of 0.001 is a good place to start. You should increase this value if the training loss is changing very slowly, and decrease if the loss is unstable.  \n",
    "* Optimizer: There isn't a consensus choice among researchers, but Adam has been widely popular due to having the adaptive learning rate property (Keep in mind that optimal learning rates can differ with the choice of optimizer).\n",
    "* Number of LSTM units: This value is largely dependent on the average length of your input texts. While a greater number of units provides more expressibility for the model and allows the model to store more information for longer texts, the network will take longer to train and will be computationally expensive. \n",
    "* Word Vector Size: Dimensions for word vectors generally range from 50 to 300. A larger size means that the vector is able to encapsulate more information about the word, but you should also expect a more computationally expensive model. "
   ]
  },
  {
   "cell_type": "markdown",
   "metadata": {},
   "source": [
    "# Training"
   ]
  },
  {
   "cell_type": "markdown",
   "metadata": {},
   "source": [
    "The basic idea of the training loop is that we first define a Tensorflow session. Then, we load in a batch of reviews and their associated labels. Next, we call the session’s `run` function. This function has two arguments. The first is called the \"fetches\" argument. It defines the value we’re interested in computing. We want our optimizer to be computed since that is the component that minimizes our loss function. The second argument is where we input our `feed_dict`. This data structure is where we provide inputs to all of our placeholders. We need to feed our batch of reviews and our batch of labels. This loop is then repeated for a set number of training iterations."
   ]
  },
  {
   "cell_type": "markdown",
   "metadata": {},
   "source": [
    "Instead of training the network in this notebook (which will take at least a couple of hours), we’ll load in a pretrained model.\n",
    "\n",
    "If you decide to train this notebook on your own machine, note that you can track its progress using [TensorBoard](https://www.tensorflow.org/get_started/summaries_and_tensorboard). While the following cell is running, use your terminal to enter the directory that contains this notebook, enter `tensorboard --logdir=tensorboard`, and visit http://localhost:6006/ with a browser to keep an eye on your training progress."
   ]
  },
  {
   "cell_type": "code",
   "execution_count": 32,
   "metadata": {
    "collapsed": false
   },
   "outputs": [
    {
     "ename": "KeyboardInterrupt",
     "evalue": "",
     "output_type": "error",
     "traceback": [
      "\u001b[1;31m---------------------------------------------------------------------------\u001b[0m",
      "\u001b[1;31mKeyboardInterrupt\u001b[0m                         Traceback (most recent call last)",
      "\u001b[1;32m<ipython-input-32-c9a75461775c>\u001b[0m in \u001b[0;36m<module>\u001b[1;34m()\u001b[0m\n\u001b[0;32m     13\u001b[0m    \u001b[1;31m#Write summary to Tensorboard\u001b[0m\u001b[1;33m\u001b[0m\u001b[1;33m\u001b[0m\u001b[0m\n\u001b[0;32m     14\u001b[0m    \u001b[1;32mif\u001b[0m \u001b[1;33m(\u001b[0m\u001b[0mi\u001b[0m \u001b[1;33m%\u001b[0m \u001b[1;36m1\u001b[0m \u001b[1;33m==\u001b[0m \u001b[1;36m0\u001b[0m\u001b[1;33m)\u001b[0m\u001b[1;33m:\u001b[0m\u001b[1;33m\u001b[0m\u001b[0m\n\u001b[1;32m---> 15\u001b[1;33m        \u001b[0msummary\u001b[0m \u001b[1;33m=\u001b[0m \u001b[0msess\u001b[0m\u001b[1;33m.\u001b[0m\u001b[0mrun\u001b[0m\u001b[1;33m(\u001b[0m\u001b[0mmerged\u001b[0m\u001b[1;33m,\u001b[0m \u001b[1;33m{\u001b[0m\u001b[0minput_data\u001b[0m\u001b[1;33m:\u001b[0m \u001b[0mnextBatch\u001b[0m\u001b[1;33m,\u001b[0m \u001b[0mlabels\u001b[0m\u001b[1;33m:\u001b[0m \u001b[0mnextBatchLabels\u001b[0m\u001b[1;33m}\u001b[0m\u001b[1;33m)\u001b[0m\u001b[1;33m\u001b[0m\u001b[0m\n\u001b[0m\u001b[0;32m     16\u001b[0m        \u001b[0mwriter\u001b[0m\u001b[1;33m.\u001b[0m\u001b[0madd_summary\u001b[0m\u001b[1;33m(\u001b[0m\u001b[0msummary\u001b[0m\u001b[1;33m,\u001b[0m \u001b[0mi\u001b[0m\u001b[1;33m)\u001b[0m\u001b[1;33m\u001b[0m\u001b[0m\n\u001b[0;32m     17\u001b[0m \u001b[1;33m\u001b[0m\u001b[0m\n",
      "\u001b[1;32m/home/jeffreycheng/anaconda3/lib/python3.5/site-packages/tensorflow/python/client/session.py\u001b[0m in \u001b[0;36mrun\u001b[1;34m(self, fetches, feed_dict, options, run_metadata)\u001b[0m\n\u001b[0;32m    893\u001b[0m     \u001b[1;32mtry\u001b[0m\u001b[1;33m:\u001b[0m\u001b[1;33m\u001b[0m\u001b[0m\n\u001b[0;32m    894\u001b[0m       result = self._run(None, fetches, feed_dict, options_ptr,\n\u001b[1;32m--> 895\u001b[1;33m                          run_metadata_ptr)\n\u001b[0m\u001b[0;32m    896\u001b[0m       \u001b[1;32mif\u001b[0m \u001b[0mrun_metadata\u001b[0m\u001b[1;33m:\u001b[0m\u001b[1;33m\u001b[0m\u001b[0m\n\u001b[0;32m    897\u001b[0m         \u001b[0mproto_data\u001b[0m \u001b[1;33m=\u001b[0m \u001b[0mtf_session\u001b[0m\u001b[1;33m.\u001b[0m\u001b[0mTF_GetBuffer\u001b[0m\u001b[1;33m(\u001b[0m\u001b[0mrun_metadata_ptr\u001b[0m\u001b[1;33m)\u001b[0m\u001b[1;33m\u001b[0m\u001b[0m\n",
      "\u001b[1;32m/home/jeffreycheng/anaconda3/lib/python3.5/site-packages/tensorflow/python/client/session.py\u001b[0m in \u001b[0;36m_run\u001b[1;34m(self, handle, fetches, feed_dict, options, run_metadata)\u001b[0m\n\u001b[0;32m   1126\u001b[0m     \u001b[1;32mif\u001b[0m \u001b[0mfinal_fetches\u001b[0m \u001b[1;32mor\u001b[0m \u001b[0mfinal_targets\u001b[0m \u001b[1;32mor\u001b[0m \u001b[1;33m(\u001b[0m\u001b[0mhandle\u001b[0m \u001b[1;32mand\u001b[0m \u001b[0mfeed_dict_tensor\u001b[0m\u001b[1;33m)\u001b[0m\u001b[1;33m:\u001b[0m\u001b[1;33m\u001b[0m\u001b[0m\n\u001b[0;32m   1127\u001b[0m       results = self._do_run(handle, final_targets, final_fetches,\n\u001b[1;32m-> 1128\u001b[1;33m                              feed_dict_tensor, options, run_metadata)\n\u001b[0m\u001b[0;32m   1129\u001b[0m     \u001b[1;32melse\u001b[0m\u001b[1;33m:\u001b[0m\u001b[1;33m\u001b[0m\u001b[0m\n\u001b[0;32m   1130\u001b[0m       \u001b[0mresults\u001b[0m \u001b[1;33m=\u001b[0m \u001b[1;33m[\u001b[0m\u001b[1;33m]\u001b[0m\u001b[1;33m\u001b[0m\u001b[0m\n",
      "\u001b[1;32m/home/jeffreycheng/anaconda3/lib/python3.5/site-packages/tensorflow/python/client/session.py\u001b[0m in \u001b[0;36m_do_run\u001b[1;34m(self, handle, target_list, fetch_list, feed_dict, options, run_metadata)\u001b[0m\n\u001b[0;32m   1342\u001b[0m     \u001b[1;32mif\u001b[0m \u001b[0mhandle\u001b[0m \u001b[1;32mis\u001b[0m \u001b[1;32mNone\u001b[0m\u001b[1;33m:\u001b[0m\u001b[1;33m\u001b[0m\u001b[0m\n\u001b[0;32m   1343\u001b[0m       return self._do_call(_run_fn, self._session, feeds, fetches, targets,\n\u001b[1;32m-> 1344\u001b[1;33m                            options, run_metadata)\n\u001b[0m\u001b[0;32m   1345\u001b[0m     \u001b[1;32melse\u001b[0m\u001b[1;33m:\u001b[0m\u001b[1;33m\u001b[0m\u001b[0m\n\u001b[0;32m   1346\u001b[0m       \u001b[1;32mreturn\u001b[0m \u001b[0mself\u001b[0m\u001b[1;33m.\u001b[0m\u001b[0m_do_call\u001b[0m\u001b[1;33m(\u001b[0m\u001b[0m_prun_fn\u001b[0m\u001b[1;33m,\u001b[0m \u001b[0mself\u001b[0m\u001b[1;33m.\u001b[0m\u001b[0m_session\u001b[0m\u001b[1;33m,\u001b[0m \u001b[0mhandle\u001b[0m\u001b[1;33m,\u001b[0m \u001b[0mfeeds\u001b[0m\u001b[1;33m,\u001b[0m \u001b[0mfetches\u001b[0m\u001b[1;33m)\u001b[0m\u001b[1;33m\u001b[0m\u001b[0m\n",
      "\u001b[1;32m/home/jeffreycheng/anaconda3/lib/python3.5/site-packages/tensorflow/python/client/session.py\u001b[0m in \u001b[0;36m_do_call\u001b[1;34m(self, fn, *args)\u001b[0m\n\u001b[0;32m   1348\u001b[0m   \u001b[1;32mdef\u001b[0m \u001b[0m_do_call\u001b[0m\u001b[1;33m(\u001b[0m\u001b[0mself\u001b[0m\u001b[1;33m,\u001b[0m \u001b[0mfn\u001b[0m\u001b[1;33m,\u001b[0m \u001b[1;33m*\u001b[0m\u001b[0margs\u001b[0m\u001b[1;33m)\u001b[0m\u001b[1;33m:\u001b[0m\u001b[1;33m\u001b[0m\u001b[0m\n\u001b[0;32m   1349\u001b[0m     \u001b[1;32mtry\u001b[0m\u001b[1;33m:\u001b[0m\u001b[1;33m\u001b[0m\u001b[0m\n\u001b[1;32m-> 1350\u001b[1;33m       \u001b[1;32mreturn\u001b[0m \u001b[0mfn\u001b[0m\u001b[1;33m(\u001b[0m\u001b[1;33m*\u001b[0m\u001b[0margs\u001b[0m\u001b[1;33m)\u001b[0m\u001b[1;33m\u001b[0m\u001b[0m\n\u001b[0m\u001b[0;32m   1351\u001b[0m     \u001b[1;32mexcept\u001b[0m \u001b[0merrors\u001b[0m\u001b[1;33m.\u001b[0m\u001b[0mOpError\u001b[0m \u001b[1;32mas\u001b[0m \u001b[0me\u001b[0m\u001b[1;33m:\u001b[0m\u001b[1;33m\u001b[0m\u001b[0m\n\u001b[0;32m   1352\u001b[0m       \u001b[0mmessage\u001b[0m \u001b[1;33m=\u001b[0m \u001b[0mcompat\u001b[0m\u001b[1;33m.\u001b[0m\u001b[0mas_text\u001b[0m\u001b[1;33m(\u001b[0m\u001b[0me\u001b[0m\u001b[1;33m.\u001b[0m\u001b[0mmessage\u001b[0m\u001b[1;33m)\u001b[0m\u001b[1;33m\u001b[0m\u001b[0m\n",
      "\u001b[1;32m/home/jeffreycheng/anaconda3/lib/python3.5/site-packages/tensorflow/python/client/session.py\u001b[0m in \u001b[0;36m_run_fn\u001b[1;34m(session, feed_dict, fetch_list, target_list, options, run_metadata)\u001b[0m\n\u001b[0;32m   1327\u001b[0m           return tf_session.TF_Run(session, options,\n\u001b[0;32m   1328\u001b[0m                                    \u001b[0mfeed_dict\u001b[0m\u001b[1;33m,\u001b[0m \u001b[0mfetch_list\u001b[0m\u001b[1;33m,\u001b[0m \u001b[0mtarget_list\u001b[0m\u001b[1;33m,\u001b[0m\u001b[1;33m\u001b[0m\u001b[0m\n\u001b[1;32m-> 1329\u001b[1;33m                                    status, run_metadata)\n\u001b[0m\u001b[0;32m   1330\u001b[0m \u001b[1;33m\u001b[0m\u001b[0m\n\u001b[0;32m   1331\u001b[0m     \u001b[1;32mdef\u001b[0m \u001b[0m_prun_fn\u001b[0m\u001b[1;33m(\u001b[0m\u001b[0msession\u001b[0m\u001b[1;33m,\u001b[0m \u001b[0mhandle\u001b[0m\u001b[1;33m,\u001b[0m \u001b[0mfeed_dict\u001b[0m\u001b[1;33m,\u001b[0m \u001b[0mfetch_list\u001b[0m\u001b[1;33m)\u001b[0m\u001b[1;33m:\u001b[0m\u001b[1;33m\u001b[0m\u001b[0m\n",
      "\u001b[1;31mKeyboardInterrupt\u001b[0m: "
     ]
    }
   ],
   "source": [
    "import time\n",
    "tick = time.time()\n",
    "\n",
    "sess = tf.InteractiveSession()\n",
    "saver = tf.train.Saver()\n",
    "sess.run(tf.global_variables_initializer())\n",
    "\n",
    "for i in range(iterations):\n",
    "   #Next Batch of reviews\n",
    "   nextBatch, nextBatchLabels = getTrainBatch();\n",
    "   sess.run(optimizer, {input_data: nextBatch, labels: nextBatchLabels})\n",
    "   \n",
    "   #Write summary to Tensorboard\n",
    "   if (i % 1 == 0):\n",
    "       summary = sess.run(merged, {input_data: nextBatch, labels: nextBatchLabels})\n",
    "       writer.add_summary(summary, i)\n",
    "\n",
    "   #Save the network every 10,000 training iterations\n",
    "#    if (i % 500 == 0 and i != 0):\n",
    "#        save_path = saver.save(sess, \"pretrained_lstm.ckpt\", global_step=i)\n",
    "#        print(\"saved to %s\" % save_path)\n",
    "writer.close()\n",
    "\n",
    "print(time.time() - tick)"
   ]
  },
  {
   "cell_type": "markdown",
   "metadata": {},
   "source": [
    "# Loading a Pretrained Model"
   ]
  },
  {
   "cell_type": "markdown",
   "metadata": {},
   "source": [
    "Our pretrained model’s accuracy and loss curves during training can be found below. "
   ]
  },
  {
   "cell_type": "markdown",
   "metadata": {},
   "source": [
    "![caption](Images/SentimentAnalysis6.png)\n",
    "![caption](Images/SentimentAnalysis7.png)"
   ]
  },
  {
   "cell_type": "markdown",
   "metadata": {},
   "source": [
    "Looking at the training curves above, it seems that the model's training is going well. The loss is decreasing steadily, and the accuracy is approaching 100 percent. However, when analyzing training curves, we should also pay special attention to the possibility of our model overfitting the training dataset. Overfitting is a common phenomenon in machine learning where a model becomes so fit to the training data that it loses the ability to generalize to the test set. This means that training a network until you achieve 0 training loss might not be the best way to get an accurate model that performs well on data it has never seen before. Early stopping is an intuitive technique commonly used with LSTM networks to combat this issue. The basic idea is that we train the model on our training set, while also measuring its performance on the test set every now and again. Once the test error stops its steady decrease and begins to increase instead, you'll know to stop training, since this is a sign that the network has begun to overfit. "
   ]
  },
  {
   "cell_type": "markdown",
   "metadata": {},
   "source": [
    "Loading a pretrained model involves defining another Tensorflow session, creating a Saver object, and then using that object to call the restore function. This function takes into 2 arguments, one for the current session, and one for the name of the saved model. "
   ]
  },
  {
   "cell_type": "code",
   "execution_count": null,
   "metadata": {
    "collapsed": false
   },
   "outputs": [],
   "source": [
    "sess = tf.InteractiveSession()\n",
    "saver = tf.train.Saver()\n",
    "saver.restore(sess, tf.train.latest_checkpoint('models'))"
   ]
  },
  {
   "cell_type": "markdown",
   "metadata": {},
   "source": [
    "Then we’ll load some movie reviews from our test set. Remember, these are reviews that the model has not been trained on and has never seen before. The accuracy for each test batch can be seen when you run the following code. "
   ]
  },
  {
   "cell_type": "code",
   "execution_count": 33,
   "metadata": {
    "collapsed": false
   },
   "outputs": [
    {
     "name": "stdout",
     "output_type": "stream",
     "text": [
      "Accuracy for this batch: 4.612754285335541\n",
      "Accuracy for this batch: 5.440807342529297\n",
      "Accuracy for this batch: 4.676606133580208\n",
      "Accuracy for this batch: 2.8249019756913185\n",
      "Accuracy for this batch: 6.410098075866699\n",
      "Accuracy for this batch: 5.387060344219208\n",
      "Accuracy for this batch: 4.8213910311460495\n",
      "Accuracy for this batch: 5.734415724873543\n",
      "Accuracy for this batch: 3.2785315066576004\n",
      "Accuracy for this batch: 4.790222644805908\n",
      "Average: 4.797678906470537\n"
     ]
    }
   ],
   "source": [
    "iterations = 10\n",
    "accuracies = []\n",
    "for i in range(iterations):\n",
    "    nextBatch, nextBatchLabels = getTestBatch();\n",
    "    acc = (sess.run(accuracy, {input_data: nextBatch, labels: nextBatchLabels})) * 100\n",
    "    print(\"Accuracy for this batch:\", acc * 1.0)\n",
    "    accuracies.append(acc)\n",
    "print('Average:', sum(accuracies) / len(accuracies))"
   ]
  },
  {
   "cell_type": "code",
   "execution_count": 34,
   "metadata": {
    "collapsed": false
   },
   "outputs": [
    {
     "name": "stdout",
     "output_type": "stream",
     "text": [
      "Average: 5.026134495245348\n"
     ]
    }
   ],
   "source": [
    "acc_by_popularity = pd.DataFrame(columns=['Popularity', 'Mean Squared Error'])     \n",
    "for i in range(1000):\n",
    "    nextBatch, nextBatchLabels = getTestBatch();\n",
    "    popularity = np.mean(nextBatchLabels)\n",
    "    acc = (sess.run(accuracy, {input_data: nextBatch, labels: nextBatchLabels})) * 100\n",
    "#     print(\"Accuracy for this batch:\", acc * 1.0)\n",
    "    accuracies.append(acc)\n",
    "    acc_by_popularity.loc[i] = [popularity, acc]\n",
    "print('Average:', sum(accuracies) / len(accuracies))\n"
   ]
  },
  {
   "cell_type": "code",
   "execution_count": 35,
   "metadata": {
    "collapsed": false
   },
   "outputs": [
    {
     "data": {
      "text/plain": [
       "<matplotlib.text.Text at 0x7f633b7cf940>"
      ]
     },
     "execution_count": 35,
     "metadata": {},
     "output_type": "execute_result"
    },
    {
     "data": {
      "image/png": "[encoded data removed]",
      "text/plain": [
       "<matplotlib.figure.Figure at 0x7f635f859e80>"
      ]
     },
     "metadata": {},
     "output_type": "display_data"
    }
   ],
   "source": [
    "plt.scatter(acc_by_popularity['Popularity'][:300], acc_by_popularity['Mean Squared Error'][:300])\n",
    "plt.xlabel('Popularity')\n",
    "plt.ylabel('MSE (%)')"
   ]
  },
  {
   "cell_type": "code",
   "execution_count": 108,
   "metadata": {
    "collapsed": false
   },
   "outputs": [
    {
     "data": {
      "text/plain": [
       "-0.25673107381981797"
      ]
     },
     "execution_count": 108,
     "metadata": {},
     "output_type": "execute_result"
    }
   ],
   "source": [
    "acc_by_popularity['Popularity'].corr(acc_by_popularity['Mean Squared Error'])"
   ]
  },
  {
   "cell_type": "code",
   "execution_count": 36,
   "metadata": {
    "collapsed": true
   },
   "outputs": [],
   "source": [
    "def test_song(lyrics_path):\n",
    "    with open(lyrics_path, 'r') as myfile:\n",
    "        lyrics = myfile.read()\n",
    "    features = clean_sentence(lyrics)\n",
    "    featurized_lyrics = pad(str(features))\n",
    "    predicted_popularity = (sess.run(prediction, {input_data: [featurized_lyrics[:2000]] * 24})) * 100\n",
    "    return np.mean(predicted_popularity)\n",
    "    "
   ]
  },
  {
   "cell_type": "code",
   "execution_count": 37,
   "metadata": {
    "collapsed": false
   },
   "outputs": [
    {
     "data": {
      "text/plain": [
       "41.60973"
      ]
     },
     "execution_count": 37,
     "metadata": {},
     "output_type": "execute_result"
    }
   ],
   "source": [
    "test_song('gettysburg_address.txt')"
   ]
  },
  {
   "cell_type": "code",
   "execution_count": 138,
   "metadata": {
    "collapsed": false
   },
   "outputs": [
    {
     "name": "stdout",
     "output_type": "stream",
     "text": [
      "57.62943\n"
     ]
    }
   ],
   "source": [
    "test_song('bohemian_rhapsody.txt')"
   ]
  },
  {
   "cell_type": "code",
   "execution_count": 39,
   "metadata": {
    "collapsed": false
   },
   "outputs": [
    {
     "data": {
      "text/plain": [
       "36.63188"
      ]
     },
     "execution_count": 39,
     "metadata": {},
     "output_type": "execute_result"
    }
   ],
   "source": [
    "test_song('mary_lamb.txt')"
   ]
  },
  {
   "cell_type": "code",
   "execution_count": 40,
   "metadata": {
    "collapsed": false
   },
   "outputs": [
    {
     "data": {
      "text/plain": [
       "27.7268"
      ]
     },
     "execution_count": 40,
     "metadata": {},
     "output_type": "execute_result"
    }
   ],
   "source": [
    "test_song('viva_la_vida.txt')"
   ]
  },
  {
   "cell_type": "code",
   "execution_count": 139,
   "metadata": {
    "collapsed": false
   },
   "outputs": [
    {
     "name": "stdout",
     "output_type": "stream",
     "text": [
      "hello\n",
      "29.6344\n"
     ]
    }
   ],
   "source": [
    "print('hello')\n",
    "test_song('work_rihanna.txt')"
   ]
  },
  {
   "cell_type": "code",
   "execution_count": 45,
   "metadata": {
    "collapsed": false
   },
   "outputs": [
    {
     "data": {
      "text/plain": [
       "35.35527"
      ]
     },
     "execution_count": 45,
     "metadata": {},
     "output_type": "execute_result"
    }
   ],
   "source": [
    "test_song('neural_nets.txt')"
   ]
  },
  {
   "cell_type": "code",
   "execution_count": 46,
   "metadata": {
    "collapsed": false
   },
   "outputs": [
    {
     "data": {
      "text/plain": [
       "40.861084"
      ]
     },
     "execution_count": 46,
     "metadata": {},
     "output_type": "execute_result"
    }
   ],
   "source": [
    "test_song('fuck_kevin_durant.txt')"
   ]
  },
  {
   "cell_type": "code",
   "execution_count": 49,
   "metadata": {
    "collapsed": false
   },
   "outputs": [
    {
     "data": {
      "text/plain": [
       "41.04114"
      ]
     },
     "execution_count": 49,
     "metadata": {},
     "output_type": "execute_result"
    }
   ],
   "source": [
    "test_song('shape_of_you.txt')"
   ]
  },
  {
   "cell_type": "code",
   "execution_count": 50,
   "metadata": {
    "collapsed": false
   },
   "outputs": [
    {
     "data": {
      "text/plain": [
       "37.640015"
      ]
     },
     "execution_count": 50,
     "metadata": {},
     "output_type": "execute_result"
    }
   ],
   "source": [
    "test_song('what_i_like.txt')"
   ]
  },
  {
   "cell_type": "code",
   "execution_count": 59,
   "metadata": {
    "collapsed": false
   },
   "outputs": [
    {
     "data": {
      "text/plain": [
       "39.04507"
      ]
     },
     "execution_count": 59,
     "metadata": {},
     "output_type": "execute_result"
    }
   ],
   "source": [
    "test_song('darth.txt')"
   ]
  },
  {
   "cell_type": "code",
   "execution_count": 60,
   "metadata": {
    "collapsed": false
   },
   "outputs": [
    {
     "data": {
      "text/plain": [
       "40.089664"
      ]
     },
     "execution_count": 60,
     "metadata": {},
     "output_type": "execute_result"
    }
   ],
   "source": [
    "test_song('random_text.txt')"
   ]
  },
  {
   "cell_type": "code",
   "execution_count": 61,
   "metadata": {
    "collapsed": false
   },
   "outputs": [
    {
     "data": {
      "text/plain": [
       "40.711277"
      ]
     },
     "execution_count": 61,
     "metadata": {},
     "output_type": "execute_result"
    }
   ],
   "source": [
    "test_song('rickroll.txt')"
   ]
  },
  {
   "cell_type": "code",
   "execution_count": 63,
   "metadata": {
    "collapsed": false
   },
   "outputs": [
    {
     "data": {
      "text/plain": [
       "36.737835"
      ]
     },
     "execution_count": 63,
     "metadata": {},
     "output_type": "execute_result"
    }
   ],
   "source": [
    "test_song('twilight.txt')"
   ]
  },
  {
   "cell_type": "markdown",
   "metadata": {},
   "source": [
    "## Logistic Regression"
   ]
  },
  {
   "cell_type": "code",
   "execution_count": 57,
   "metadata": {
    "collapsed": false
   },
   "outputs": [],
   "source": [
    "# collect into bag of words\n",
    "\n",
    "bag_of_words_df = pd.DataFrame(lyrics_popularity_df['track_popularity'])\n",
    "words = list(np.random.choice(400000, 5000))\n",
    "# print(words)\n",
    "for i in words:\n",
    "#     tick = time.time()\n",
    "    col_name = 'word_count_of_' + str(i)\n",
    "    bag_of_words_df[col_name] = lyrics_popularity_df['lyrics_indices'].apply(lambda x: x.count(i))\n",
    "#     print(time.time() - tick)\n",
    "bag_of_words_df = bag_of_words_df.sample(frac=1).reset_index(drop=True)"
   ]
  },
  {
   "cell_type": "code",
   "execution_count": 106,
   "metadata": {
    "collapsed": false
   },
   "outputs": [],
   "source": [
    "def logit(x):\n",
    "    return math.log((x + 0.0001) / (1.0001-x))\n",
    "\n",
    "# split into train / test\n",
    "x = bag_of_words_df.drop('track_popularity', 1)\n",
    "# print(len(x.index))\n",
    "x_train = bag_of_words_df.loc[:training_cutoff,]\n",
    "x_test = bag_of_words_df.loc[training_cutoff:,]\n",
    "# print(len(x_test.index))\n",
    "# print(bag_of_words_df['track_popularity'])\n",
    "y = bag_of_words_df['track_popularity'].apply(lambda x: logit(x))\n",
    "y_train = y[:training_cutoff + 1]\n",
    "y_test = y[training_cutoff:]\n",
    "# print(len(x_test.index))\n"
   ]
  },
  {
   "cell_type": "code",
   "execution_count": 107,
   "metadata": {
    "collapsed": false
   },
   "outputs": [
    {
     "data": {
      "text/plain": [
       "LinearRegression(copy_X=True, fit_intercept=True, n_jobs=1, normalize=False)"
      ]
     },
     "execution_count": 107,
     "metadata": {},
     "output_type": "execute_result"
    }
   ],
   "source": [
    "# fit model\n",
    "from sklearn import linear_model\n",
    "reg = linear_model.LinearRegression()\n",
    "reg.fit(x_train, y_train)"
   ]
  },
  {
   "cell_type": "code",
   "execution_count": 137,
   "metadata": {
    "collapsed": false
   },
   "outputs": [
    {
     "name": "stdout",
     "output_type": "stream",
     "text": [
      "498880391594.9039\n",
      "0.1276854680471992\n"
     ]
    }
   ],
   "source": [
    "# results\n",
    "pred = reg.predict(x_test)\n",
    "y_test_clean = y_test.reset_index(drop=True)\n",
    "n = len(pred)\n",
    "residuals = []\n",
    "for i in range(n):\n",
    "    residuals.append(pred[i] - y_test_clean[i])\n",
    "print(max(residuals))\n",
    "print(np.median([residual**2 for residual in residuals]))"
   ]
  },
  {
   "cell_type": "markdown",
   "metadata": {
    "collapsed": true
   },
   "source": [
    "# Conclusion"
   ]
  },
  {
   "cell_type": "markdown",
   "metadata": {},
   "source": [
    "In this notebook, we went over a deep learning approach to sentiment analysis. We looked at the different components involved in the whole pipeline and then looked at the process of writing Tensorflow code to implement the model in practice. Finally, we trained and tested the model so that it is able to classify movie reviews.\n",
    "\n",
    "With the help of Tensorflow, you can create your own sentiment classifiers to understand the large amounts of natural language in the world, and use the results to form actionable insights. Thanks for reading and following along!"
   ]
  }
 ],
 "metadata": {
  "anaconda-cloud": {},
  "kernelspec": {
   "display_name": "Python 3",
   "language": "python",
   "name": "python3"
  },
  "language_info": {
   "codemirror_mode": {
    "name": "ipython",
    "version": 3
   },
   "file_extension": ".py",
   "mimetype": "text/x-python",
   "name": "python",
   "nbconvert_exporter": "python",
   "pygments_lexer": "ipython3",
   "version": "3.5.4"
  }
 },
 "nbformat": 4,
 "nbformat_minor": 1
}
