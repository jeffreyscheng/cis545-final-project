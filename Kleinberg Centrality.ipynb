{
 "cells": [
  {
   "cell_type": "code",
   "execution_count": null,
   "metadata": {},
   "outputs": [],
   "source": [
    "import sqlite3\n",
    "import pandas as pd\n",
    "import numpy as np\n",
    "\n",
    "engine = sqlite3.connect('Graph_DB')\n",
    "\n",
    "graph_df = pd.read_sql('select * from graph_df', engine)"
   ]
  },
  {
   "cell_type": "code",
   "execution_count": null,
   "metadata": {},
   "outputs": [],
   "source": [
    "sampled_df = graph_df[['sampled']]\n",
    "sampler_df = graph_df[['sampler']]\n",
    "sampler_df = sampler_df.rename(index=str, columns={'sampler':'sampled'})\n",
    "all_ids = sampled_df.append(sampler_df, ignore_index = True)\n",
    "all_ids = all_ids.drop_duplicates()\n",
    "all_ids = all_ids.rename(index=str, columns={'sampled':'song'})\n",
    "all_ids.to_sql('songs_df', engine, if_exists='replace', index=True)"
   ]
  },
  {
   "cell_type": "code",
   "execution_count": null,
   "metadata": {},
   "outputs": [],
   "source": [
    "auth_df = pd.read_sql('select song, 1 as auth from songs_df', engine)\n",
    "hub_df = pd.read_sql('select song, 1 as hub from songs_df', engine)\n",
    "auth_df.to_sql('auth_db', engine, if_exists='replace', index=True)\n",
    "hub_df.to_sql('hub_db', engine, if_exists='replace', index=True)"
   ]
  },
  {
   "cell_type": "code",
   "execution_count": null,
   "metadata": {},
   "outputs": [],
   "source": [
    "num_iter = 10\n",
    "for i in range(0, num_iter):\n",
    "    hub_l2 = np.sqrt((hub_df['hub']**2).sum())\n",
    "    auth_l2 = np.sqrt((auth_df['auth']**2).sum())\n",
    "    hub_df = pd.read_sql('select song, SUM(auth) / ' + str(auth_l2) +' as hub from graph_df left join auth_db on ' +\n",
    "                         'auth_db.song = graph_df.sampler group by song', engine)\n",
    "    auth_df = pd.read_sql('select song, SUM(hub) / ' + str(hub_l2) +' as auth from graph_df left join hub_db on ' +\n",
    "                         'hub_db.song = graph_df.sampled group by song', engine)\n",
    "    auth_df.to_sql('auth_db', engine, if_exists='replace', index=True)\n",
    "    hub_df.to_sql('hub_db', engine, if_exists='replace', index=True)"
   ]
  },
  {
   "cell_type": "code",
   "execution_count": null,
   "metadata": {},
   "outputs": [],
   "source": [
    "hub_df.sort_values(by=['hub'], ascending=0).head(10)"
   ]
  },
  {
   "cell_type": "code",
   "execution_count": null,
   "metadata": {},
   "outputs": [],
   "source": [
    "auth_df.sort_values(by=['auth'], ascending=0).head(10)"
   ]
  },
  {
   "cell_type": "code",
   "execution_count": null,
   "metadata": {},
   "outputs": [],
   "source": []
  }
 ],
 "metadata": {
  "kernelspec": {
   "display_name": "Python 3",
   "language": "python",
   "name": "python3"
  },
  "language_info": {
   "codemirror_mode": {
    "name": "ipython",
    "version": 3
   },
   "file_extension": ".py",
   "mimetype": "text/x-python",
   "name": "python",
   "nbconvert_exporter": "python",
   "pygments_lexer": "ipython3",
   "version": "3.6.4"
  }
 },
 "nbformat": 4,
 "nbformat_minor": 2
}
