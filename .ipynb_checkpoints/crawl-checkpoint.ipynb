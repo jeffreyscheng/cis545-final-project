{
 "cells": [
  {
   "cell_type": "code",
   "execution_count": 15,
   "metadata": {
    "collapsed": false
   },
   "outputs": [
    {
     "name": "stdout",
     "output_type": "stream",
     "text": [
      "Requirement already satisfied: lyricsgenius in /home/jeffreycheng/anaconda3/lib/python3.5/site-packages (0.4.2)\n",
      "Requirement already satisfied: beautifulsoup4==4.6.0 in /home/jeffreycheng/anaconda3/lib/python3.5/site-packages (from lyricsgenius) (4.6.0)\n",
      "Requirement already satisfied: requests==2.18.1 in /home/jeffreycheng/anaconda3/lib/python3.5/site-packages (from lyricsgenius) (2.18.1)\n",
      "Requirement already satisfied: chardet<3.1.0,>=3.0.2 in /home/jeffreycheng/anaconda3/lib/python3.5/site-packages (from requests==2.18.1->lyricsgenius) (3.0.4)\n",
      "Requirement already satisfied: urllib3<1.22,>=1.21.1 in /home/jeffreycheng/anaconda3/lib/python3.5/site-packages (from requests==2.18.1->lyricsgenius) (1.21.1)\n",
      "Requirement already satisfied: idna<2.6,>=2.5 in /home/jeffreycheng/anaconda3/lib/python3.5/site-packages (from requests==2.18.1->lyricsgenius) (2.5)\n",
      "Requirement already satisfied: certifi>=2017.4.17 in /home/jeffreycheng/anaconda3/lib/python3.5/site-packages (from requests==2.18.1->lyricsgenius) (2018.1.18)\n",
      "Requirement already satisfied: spotipy in /home/jeffreycheng/anaconda3/lib/python3.5/site-packages (2.4.4)\n",
      "Requirement already satisfied: requests>=1.0 in /home/jeffreycheng/anaconda3/lib/python3.5/site-packages (from spotipy) (2.18.1)\n",
      "Requirement already satisfied: certifi>=2017.4.17 in /home/jeffreycheng/anaconda3/lib/python3.5/site-packages (from requests>=1.0->spotipy) (2018.1.18)\n",
      "Requirement already satisfied: idna<2.6,>=2.5 in /home/jeffreycheng/anaconda3/lib/python3.5/site-packages (from requests>=1.0->spotipy) (2.5)\n",
      "Requirement already satisfied: urllib3<1.22,>=1.21.1 in /home/jeffreycheng/anaconda3/lib/python3.5/site-packages (from requests>=1.0->spotipy) (1.21.1)\n",
      "Requirement already satisfied: chardet<3.1.0,>=3.0.2 in /home/jeffreycheng/anaconda3/lib/python3.5/site-packages (from requests>=1.0->spotipy) (3.0.4)\n",
      "Requirement already satisfied: selenium in /home/jeffreycheng/anaconda3/lib/python3.5/site-packages (3.11.0)\n"
     ]
    }
   ],
   "source": [
    "import sys\n",
    "!{sys.executable} -m pip install lyricsgenius\n",
    "!{sys.executable} -m pip install spotipy\n",
    "!{sys.executable} -m pip install selenium\n",
    "import pandas as pd\n",
    "import requests\n",
    "import lyricsgenius as genius\n",
    "import spotipy\n",
    "import time\n",
    "from selenium import webdriver\n",
    "from selenium.webdriver.common.keys import Keys"
   ]
  },
  {
   "cell_type": "code",
   "execution_count": 147,
   "metadata": {
    "collapsed": true
   },
   "outputs": [],
   "source": [
    "genius_client_id = 'Qeii-UKMUUwsAYCuuemsF7CZk7R2bFDhjP1FMkqpozASvYsA4wQDlLmd2JFM3Vhm'\n",
    "genius_secret_id = 'fWhV7VtwAL-5D32Ga9Y0Kyh_VFEo7XK0Jf8-3RMcZ5EoMXqsDpmFWFFPyobnibfMXJuJ-GZe69YEuXR-36VGAA'\n",
    "genius_client_access_token = '1QVL91jZbgdOIhvYhqKku_zkFDf6MHEyLpXEITHU2tE2HGvAqYIPInTrQaWcInD7'\n",
    "app_website_url = 'http://cis545genius.com'\n",
    "redirect_uri = 'cis545genius.com'\n",
    "base_url = 'https://api.genius.com'\n",
    "# driver_path = '/Users/ericdong/Downloads/chromedriver'\n",
    "driver_path = \"/mnt/c/Users/jeffr/Downloads/chromedriver_win32/chromedriver.exe\"\n",
    "artist_url = 'https://www.ranker.com/crowdranked-list/the-greatest-rappers-of-all-time'\n",
    "page_downs = 20\n",
    "api = genius.Genius(genius_client_access_token)\n",
    "\n",
    "# eric's creds\n",
    "# spotify_client_id = '96bdc763e3b5446ebbd6c44850055bcb'\n",
    "# spotify_secret_id = 'f7a5054823ed491aa1856ecdc7849062'\n",
    "#jeffrey's creds\n",
    "spotify_client_id = '1e482b4980804a4a95e1f213a1780763'\n",
    "spotify_secret_id = 'd624a1a562294382b9af1de69983c452'\n",
    "spotify_token = 'AQCggMnntrbJH6DdrP5uOZqDz8tgTCj2yNg4btlRC2CSmC4h4pOGltElI1PvU6DVpx2J-suPVUUuBa0VyZwu_kejvUeNt9Xv3DfiGnRvrpuE9-7vyfziBLUKcRQsih-wTzGAmakFdWrUMPCrwwGoVVoT8dN4LI0iqZF1dDAbERumRMtZOUU87zwF24_1KPlWOKLj28A'\n"
   ]
  },
  {
   "cell_type": "code",
   "execution_count": 136,
   "metadata": {
    "collapsed": true
   },
   "outputs": [],
   "source": [
    "def get_artists(url, page_downs, driver_path):\n",
    "    driver = webdriver.Chrome(driver_path)\n",
    "    driver.get(url)\n",
    "    time.sleep(1)\n",
    "    page = driver.find_element_by_tag_name('body')\n",
    "    for i in range(page_downs):\n",
    "        page.send_keys(Keys.PAGE_DOWN)\n",
    "        time.sleep(0.2)\n",
    "    artists = driver.find_elements_by_class_name('listItem__data')\n",
    "    names = [artist.find_element_by_class_name('listItem__title').text for artist in artists[:-1]]\n",
    "    driver.quit()\n",
    "    \n",
    "    return names"
   ]
  },
  {
   "cell_type": "code",
   "execution_count": 137,
   "metadata": {
    "collapsed": true
   },
   "outputs": [],
   "source": [
    "def get_songs(artist):\n",
    "    return api.search_artist(artist, verbose=False, max_songs=10)"
   ]
  },
  {
   "cell_type": "code",
   "execution_count": 148,
   "metadata": {
    "collapsed": false
   },
   "outputs": [],
   "source": [
    "artists = get_artists(artist_url, page_downs, driver_path)"
   ]
  },
  {
   "cell_type": "code",
   "execution_count": 149,
   "metadata": {
    "collapsed": false
   },
   "outputs": [
    {
     "name": "stdout",
     "output_type": "stream",
     "text": [
      "['Tupac', 'Eminem', 'The Notorious B.I.G.', 'Nas', 'Ice Cube', 'Jay-Z', 'Snoop Dogg', 'Dr. Dre', 'Kendrick Lamar', 'Rakim', 'André 3000', 'Eazy-E', '50 Cent', 'Kanye West', 'DMX', 'J. Cole', 'Busta Rhymes', 'Method Man', 'Mos Def', 'Lil Wayne', 'Ludacris', 'KRS-One', 'LL Cool J', 'Common', 'Ghostface Killah', 'Big L', 'Redman', 'T.I.', 'Big Pun', 'Nate Dogg', 'Tech N9ne', 'Lauryn Hill', 'Scarface', 'Slick Rick', 'The Game', 'Raekwon', 'Big Daddy Kane', \"Ol' Dirty Bastard\", 'Mobb Deep', 'Chance the Rapper', 'Logic', 'Cypress Hill', 'Ice-T', 'Lupe Fiasco', 'RZA', 'GZA', 'Warren G', 'Q-Tip', 'ASAP Rocky', 'Xzibit', 'Talib Kweli', 'Big Sean', 'Joey Badass', 'Missy Elliott', 'Drake', 'Kid Cudi', 'Donald Glover', 'Immortal Technique', 'Twista', 'Chuck D', 'Big Boi', 'Eric B. & Rakim', 'Wiz Khalifa', 'Schoolboy Q', 'Tyler, the Creator', 'Hopsin', 'Nelly', 'DMC', 'Royce da 5\\'9\"', 'D12', 'Jadakiss', 'Kurupt', 'Grandmaster Flash and the Furious Five', 'MC Ren', 'Gang Starr', 'Too $hort', 'E-40', 'Pusha T', 'Coolio', 'De La Soul', 'Proof', 'Bad Meets Evil', 'Will Smith', 'Black Thought', 'Guru', 'B.o.B', 'Krayzie Bone', 'AZ', 'Earl Sweatshirt', 'The Sugarhill Gang', 'Fabolous', 'Yelawolf', 'Prodigy', 'Fat Joe', 'Mac Miller', 'Young Jeezy', '2 Chainz', 'Kool G Rap', 'Bizzy Bone', 'Rick Ross']\n"
     ]
    }
   ],
   "source": [
    "print(artists)"
   ]
  },
  {
   "cell_type": "code",
   "execution_count": 21,
   "metadata": {
    "collapsed": true
   },
   "outputs": [],
   "source": [
    "# test set of artists\n",
    "# artists = ['Kanye West', 'Migos']"
   ]
  },
  {
   "cell_type": "code",
   "execution_count": 150,
   "metadata": {
    "collapsed": false
   },
   "outputs": [
    {
     "ename": "KeyboardInterrupt",
     "evalue": "",
     "output_type": "error",
     "traceback": [
      "\u001b[1;31m---------------------------------------------------------------------------\u001b[0m",
      "\u001b[1;31mTypeError\u001b[0m                                 Traceback (most recent call last)",
      "\u001b[1;32m/home/jeffreycheng/anaconda3/lib/python3.5/site-packages/urllib3/connectionpool.py\u001b[0m in \u001b[0;36m_make_request\u001b[1;34m(self, conn, method, url, timeout, chunked, **httplib_request_kw)\u001b[0m\n\u001b[0;32m    378\u001b[0m             \u001b[1;32mtry\u001b[0m\u001b[1;33m:\u001b[0m  \u001b[1;31m# Python 2.7, use buffering of HTTP responses\u001b[0m\u001b[1;33m\u001b[0m\u001b[0m\n\u001b[1;32m--> 379\u001b[1;33m                 \u001b[0mhttplib_response\u001b[0m \u001b[1;33m=\u001b[0m \u001b[0mconn\u001b[0m\u001b[1;33m.\u001b[0m\u001b[0mgetresponse\u001b[0m\u001b[1;33m(\u001b[0m\u001b[0mbuffering\u001b[0m\u001b[1;33m=\u001b[0m\u001b[1;32mTrue\u001b[0m\u001b[1;33m)\u001b[0m\u001b[1;33m\u001b[0m\u001b[0m\n\u001b[0m\u001b[0;32m    380\u001b[0m             \u001b[1;32mexcept\u001b[0m \u001b[0mTypeError\u001b[0m\u001b[1;33m:\u001b[0m  \u001b[1;31m# Python 2.6 and older, Python 3\u001b[0m\u001b[1;33m\u001b[0m\u001b[0m\n",
      "\u001b[1;31mTypeError\u001b[0m: getresponse() got an unexpected keyword argument 'buffering'",
      "\nDuring handling of the above exception, another exception occurred:\n",
      "\u001b[1;31mKeyboardInterrupt\u001b[0m                         Traceback (most recent call last)",
      "\u001b[1;32m<ipython-input-150-f1a4804e0adf>\u001b[0m in \u001b[0;36m<module>\u001b[1;34m()\u001b[0m\n\u001b[0;32m      2\u001b[0m \u001b[1;32mfor\u001b[0m \u001b[0martist\u001b[0m \u001b[1;32min\u001b[0m \u001b[0martists\u001b[0m\u001b[1;33m:\u001b[0m\u001b[1;33m\u001b[0m\u001b[0m\n\u001b[0;32m      3\u001b[0m     \u001b[1;32mtry\u001b[0m\u001b[1;33m:\u001b[0m\u001b[1;33m\u001b[0m\u001b[0m\n\u001b[1;32m----> 4\u001b[1;33m         \u001b[0mmusic\u001b[0m \u001b[1;33m=\u001b[0m \u001b[0mmusic\u001b[0m \u001b[1;33m+\u001b[0m \u001b[0mget_songs\u001b[0m\u001b[1;33m(\u001b[0m\u001b[0martist\u001b[0m\u001b[1;33m)\u001b[0m\u001b[1;33m.\u001b[0m\u001b[0msongs\u001b[0m\u001b[1;33m\u001b[0m\u001b[0m\n\u001b[0m\u001b[0;32m      5\u001b[0m     \u001b[1;32mexcept\u001b[0m \u001b[0mAssertionError\u001b[0m\u001b[1;33m:\u001b[0m\u001b[1;33m\u001b[0m\u001b[0m\n\u001b[0;32m      6\u001b[0m         \u001b[1;32mpass\u001b[0m\u001b[1;33m\u001b[0m\u001b[0m\n",
      "\u001b[1;32m<ipython-input-137-e486e6be883e>\u001b[0m in \u001b[0;36mget_songs\u001b[1;34m(artist)\u001b[0m\n\u001b[0;32m      1\u001b[0m \u001b[1;32mdef\u001b[0m \u001b[0mget_songs\u001b[0m\u001b[1;33m(\u001b[0m\u001b[0martist\u001b[0m\u001b[1;33m)\u001b[0m\u001b[1;33m:\u001b[0m\u001b[1;33m\u001b[0m\u001b[0m\n\u001b[1;32m----> 2\u001b[1;33m     \u001b[1;32mreturn\u001b[0m \u001b[0mapi\u001b[0m\u001b[1;33m.\u001b[0m\u001b[0msearch_artist\u001b[0m\u001b[1;33m(\u001b[0m\u001b[0martist\u001b[0m\u001b[1;33m,\u001b[0m \u001b[0mverbose\u001b[0m\u001b[1;33m=\u001b[0m\u001b[1;32mFalse\u001b[0m\u001b[1;33m,\u001b[0m \u001b[0mmax_songs\u001b[0m\u001b[1;33m=\u001b[0m\u001b[1;36m3\u001b[0m\u001b[1;33m)\u001b[0m\u001b[1;33m\u001b[0m\u001b[0m\n\u001b[0m",
      "\u001b[1;32m/home/jeffreycheng/anaconda3/lib/python3.5/site-packages/lyricsgenius/api.py\u001b[0m in \u001b[0;36msearch_artist\u001b[1;34m(self, artist_name, verbose, max_songs, take_first_result, get_full_song_info)\u001b[0m\n\u001b[0;32m    200\u001b[0m                     \u001b[1;31m# TODO: Shouldn't I use self.search_song() here?\u001b[0m\u001b[1;33m\u001b[0m\u001b[1;33m\u001b[0m\u001b[0m\n\u001b[0;32m    201\u001b[0m                     \u001b[1;31m# Scrape song lyrics from the song's HTML\u001b[0m\u001b[1;33m\u001b[0m\u001b[1;33m\u001b[0m\u001b[0m\n\u001b[1;32m--> 202\u001b[1;33m                     \u001b[0mlyrics\u001b[0m \u001b[1;33m=\u001b[0m \u001b[0mself\u001b[0m\u001b[1;33m.\u001b[0m\u001b[0m_scrape_song_lyrics_from_url\u001b[0m\u001b[1;33m(\u001b[0m\u001b[0mjson_song\u001b[0m\u001b[1;33m[\u001b[0m\u001b[1;34m'url'\u001b[0m\u001b[1;33m]\u001b[0m\u001b[1;33m)\u001b[0m\u001b[1;33m\u001b[0m\u001b[0m\n\u001b[0m\u001b[0;32m    203\u001b[0m \u001b[1;33m\u001b[0m\u001b[0m\n\u001b[0;32m    204\u001b[0m \u001b[1;33m\u001b[0m\u001b[0m\n",
      "\u001b[1;32m/home/jeffreycheng/anaconda3/lib/python3.5/site-packages/lyricsgenius/api.py\u001b[0m in \u001b[0;36m_scrape_song_lyrics_from_url\u001b[1;34m(self, URL)\u001b[0m\n\u001b[0;32m     94\u001b[0m     \u001b[1;32mdef\u001b[0m \u001b[0m_scrape_song_lyrics_from_url\u001b[0m\u001b[1;33m(\u001b[0m\u001b[0mself\u001b[0m\u001b[1;33m,\u001b[0m \u001b[0mURL\u001b[0m\u001b[1;33m)\u001b[0m\u001b[1;33m:\u001b[0m\u001b[1;33m\u001b[0m\u001b[0m\n\u001b[0;32m     95\u001b[0m         \u001b[1;34m\"\"\"Use BeautifulSoup to scrape song info off of a Genius song URL\"\"\"\u001b[0m\u001b[1;33m\u001b[0m\u001b[0m\n\u001b[1;32m---> 96\u001b[1;33m         \u001b[0mpage\u001b[0m \u001b[1;33m=\u001b[0m \u001b[0mrequests\u001b[0m\u001b[1;33m.\u001b[0m\u001b[0mget\u001b[0m\u001b[1;33m(\u001b[0m\u001b[0mURL\u001b[0m\u001b[1;33m)\u001b[0m\u001b[1;33m\u001b[0m\u001b[0m\n\u001b[0m\u001b[0;32m     97\u001b[0m         \u001b[0mhtml\u001b[0m \u001b[1;33m=\u001b[0m \u001b[0mBeautifulSoup\u001b[0m\u001b[1;33m(\u001b[0m\u001b[0mpage\u001b[0m\u001b[1;33m.\u001b[0m\u001b[0mtext\u001b[0m\u001b[1;33m,\u001b[0m \u001b[1;34m\"html.parser\"\u001b[0m\u001b[1;33m)\u001b[0m\u001b[1;33m\u001b[0m\u001b[0m\n\u001b[0;32m     98\u001b[0m \u001b[1;33m\u001b[0m\u001b[0m\n",
      "\u001b[1;32m/home/jeffreycheng/anaconda3/lib/python3.5/site-packages/requests/api.py\u001b[0m in \u001b[0;36mget\u001b[1;34m(url, params, **kwargs)\u001b[0m\n\u001b[0;32m     70\u001b[0m \u001b[1;33m\u001b[0m\u001b[0m\n\u001b[0;32m     71\u001b[0m     \u001b[0mkwargs\u001b[0m\u001b[1;33m.\u001b[0m\u001b[0msetdefault\u001b[0m\u001b[1;33m(\u001b[0m\u001b[1;34m'allow_redirects'\u001b[0m\u001b[1;33m,\u001b[0m \u001b[1;32mTrue\u001b[0m\u001b[1;33m)\u001b[0m\u001b[1;33m\u001b[0m\u001b[0m\n\u001b[1;32m---> 72\u001b[1;33m     \u001b[1;32mreturn\u001b[0m \u001b[0mrequest\u001b[0m\u001b[1;33m(\u001b[0m\u001b[1;34m'get'\u001b[0m\u001b[1;33m,\u001b[0m \u001b[0murl\u001b[0m\u001b[1;33m,\u001b[0m \u001b[0mparams\u001b[0m\u001b[1;33m=\u001b[0m\u001b[0mparams\u001b[0m\u001b[1;33m,\u001b[0m \u001b[1;33m**\u001b[0m\u001b[0mkwargs\u001b[0m\u001b[1;33m)\u001b[0m\u001b[1;33m\u001b[0m\u001b[0m\n\u001b[0m\u001b[0;32m     73\u001b[0m \u001b[1;33m\u001b[0m\u001b[0m\n\u001b[0;32m     74\u001b[0m \u001b[1;33m\u001b[0m\u001b[0m\n",
      "\u001b[1;32m/home/jeffreycheng/anaconda3/lib/python3.5/site-packages/requests/api.py\u001b[0m in \u001b[0;36mrequest\u001b[1;34m(method, url, **kwargs)\u001b[0m\n\u001b[0;32m     56\u001b[0m     \u001b[1;31m# cases, and look like a memory leak in others.\u001b[0m\u001b[1;33m\u001b[0m\u001b[1;33m\u001b[0m\u001b[0m\n\u001b[0;32m     57\u001b[0m     \u001b[1;32mwith\u001b[0m \u001b[0msessions\u001b[0m\u001b[1;33m.\u001b[0m\u001b[0mSession\u001b[0m\u001b[1;33m(\u001b[0m\u001b[1;33m)\u001b[0m \u001b[1;32mas\u001b[0m \u001b[0msession\u001b[0m\u001b[1;33m:\u001b[0m\u001b[1;33m\u001b[0m\u001b[0m\n\u001b[1;32m---> 58\u001b[1;33m         \u001b[1;32mreturn\u001b[0m \u001b[0msession\u001b[0m\u001b[1;33m.\u001b[0m\u001b[0mrequest\u001b[0m\u001b[1;33m(\u001b[0m\u001b[0mmethod\u001b[0m\u001b[1;33m=\u001b[0m\u001b[0mmethod\u001b[0m\u001b[1;33m,\u001b[0m \u001b[0murl\u001b[0m\u001b[1;33m=\u001b[0m\u001b[0murl\u001b[0m\u001b[1;33m,\u001b[0m \u001b[1;33m**\u001b[0m\u001b[0mkwargs\u001b[0m\u001b[1;33m)\u001b[0m\u001b[1;33m\u001b[0m\u001b[0m\n\u001b[0m\u001b[0;32m     59\u001b[0m \u001b[1;33m\u001b[0m\u001b[0m\n\u001b[0;32m     60\u001b[0m \u001b[1;33m\u001b[0m\u001b[0m\n",
      "\u001b[1;32m/home/jeffreycheng/anaconda3/lib/python3.5/site-packages/requests/sessions.py\u001b[0m in \u001b[0;36mrequest\u001b[1;34m(self, method, url, params, data, headers, cookies, files, auth, timeout, allow_redirects, proxies, hooks, stream, verify, cert, json)\u001b[0m\n\u001b[0;32m    500\u001b[0m         }\n\u001b[0;32m    501\u001b[0m         \u001b[0msend_kwargs\u001b[0m\u001b[1;33m.\u001b[0m\u001b[0mupdate\u001b[0m\u001b[1;33m(\u001b[0m\u001b[0msettings\u001b[0m\u001b[1;33m)\u001b[0m\u001b[1;33m\u001b[0m\u001b[0m\n\u001b[1;32m--> 502\u001b[1;33m         \u001b[0mresp\u001b[0m \u001b[1;33m=\u001b[0m \u001b[0mself\u001b[0m\u001b[1;33m.\u001b[0m\u001b[0msend\u001b[0m\u001b[1;33m(\u001b[0m\u001b[0mprep\u001b[0m\u001b[1;33m,\u001b[0m \u001b[1;33m**\u001b[0m\u001b[0msend_kwargs\u001b[0m\u001b[1;33m)\u001b[0m\u001b[1;33m\u001b[0m\u001b[0m\n\u001b[0m\u001b[0;32m    503\u001b[0m \u001b[1;33m\u001b[0m\u001b[0m\n\u001b[0;32m    504\u001b[0m         \u001b[1;32mreturn\u001b[0m \u001b[0mresp\u001b[0m\u001b[1;33m\u001b[0m\u001b[0m\n",
      "\u001b[1;32m/home/jeffreycheng/anaconda3/lib/python3.5/site-packages/requests/sessions.py\u001b[0m in \u001b[0;36msend\u001b[1;34m(self, request, **kwargs)\u001b[0m\n\u001b[0;32m    610\u001b[0m \u001b[1;33m\u001b[0m\u001b[0m\n\u001b[0;32m    611\u001b[0m         \u001b[1;31m# Send the request\u001b[0m\u001b[1;33m\u001b[0m\u001b[1;33m\u001b[0m\u001b[0m\n\u001b[1;32m--> 612\u001b[1;33m         \u001b[0mr\u001b[0m \u001b[1;33m=\u001b[0m \u001b[0madapter\u001b[0m\u001b[1;33m.\u001b[0m\u001b[0msend\u001b[0m\u001b[1;33m(\u001b[0m\u001b[0mrequest\u001b[0m\u001b[1;33m,\u001b[0m \u001b[1;33m**\u001b[0m\u001b[0mkwargs\u001b[0m\u001b[1;33m)\u001b[0m\u001b[1;33m\u001b[0m\u001b[0m\n\u001b[0m\u001b[0;32m    613\u001b[0m \u001b[1;33m\u001b[0m\u001b[0m\n\u001b[0;32m    614\u001b[0m         \u001b[1;31m# Total elapsed time of the request (approximately)\u001b[0m\u001b[1;33m\u001b[0m\u001b[1;33m\u001b[0m\u001b[0m\n",
      "\u001b[1;32m/home/jeffreycheng/anaconda3/lib/python3.5/site-packages/requests/adapters.py\u001b[0m in \u001b[0;36msend\u001b[1;34m(self, request, stream, timeout, verify, cert, proxies)\u001b[0m\n\u001b[0;32m    438\u001b[0m                     \u001b[0mdecode_content\u001b[0m\u001b[1;33m=\u001b[0m\u001b[1;32mFalse\u001b[0m\u001b[1;33m,\u001b[0m\u001b[1;33m\u001b[0m\u001b[0m\n\u001b[0;32m    439\u001b[0m                     \u001b[0mretries\u001b[0m\u001b[1;33m=\u001b[0m\u001b[0mself\u001b[0m\u001b[1;33m.\u001b[0m\u001b[0mmax_retries\u001b[0m\u001b[1;33m,\u001b[0m\u001b[1;33m\u001b[0m\u001b[0m\n\u001b[1;32m--> 440\u001b[1;33m                     \u001b[0mtimeout\u001b[0m\u001b[1;33m=\u001b[0m\u001b[0mtimeout\u001b[0m\u001b[1;33m\u001b[0m\u001b[0m\n\u001b[0m\u001b[0;32m    441\u001b[0m                 )\n\u001b[0;32m    442\u001b[0m \u001b[1;33m\u001b[0m\u001b[0m\n",
      "\u001b[1;32m/home/jeffreycheng/anaconda3/lib/python3.5/site-packages/urllib3/connectionpool.py\u001b[0m in \u001b[0;36murlopen\u001b[1;34m(self, method, url, body, headers, retries, redirect, assert_same_host, timeout, pool_timeout, release_conn, chunked, body_pos, **response_kw)\u001b[0m\n\u001b[0;32m    598\u001b[0m                                                   \u001b[0mtimeout\u001b[0m\u001b[1;33m=\u001b[0m\u001b[0mtimeout_obj\u001b[0m\u001b[1;33m,\u001b[0m\u001b[1;33m\u001b[0m\u001b[0m\n\u001b[0;32m    599\u001b[0m                                                   \u001b[0mbody\u001b[0m\u001b[1;33m=\u001b[0m\u001b[0mbody\u001b[0m\u001b[1;33m,\u001b[0m \u001b[0mheaders\u001b[0m\u001b[1;33m=\u001b[0m\u001b[0mheaders\u001b[0m\u001b[1;33m,\u001b[0m\u001b[1;33m\u001b[0m\u001b[0m\n\u001b[1;32m--> 600\u001b[1;33m                                                   chunked=chunked)\n\u001b[0m\u001b[0;32m    601\u001b[0m \u001b[1;33m\u001b[0m\u001b[0m\n\u001b[0;32m    602\u001b[0m             \u001b[1;31m# If we're going to release the connection in ``finally:``, then\u001b[0m\u001b[1;33m\u001b[0m\u001b[1;33m\u001b[0m\u001b[0m\n",
      "\u001b[1;32m/home/jeffreycheng/anaconda3/lib/python3.5/site-packages/urllib3/connectionpool.py\u001b[0m in \u001b[0;36m_make_request\u001b[1;34m(self, conn, method, url, timeout, chunked, **httplib_request_kw)\u001b[0m\n\u001b[0;32m    380\u001b[0m             \u001b[1;32mexcept\u001b[0m \u001b[0mTypeError\u001b[0m\u001b[1;33m:\u001b[0m  \u001b[1;31m# Python 2.6 and older, Python 3\u001b[0m\u001b[1;33m\u001b[0m\u001b[0m\n\u001b[0;32m    381\u001b[0m                 \u001b[1;32mtry\u001b[0m\u001b[1;33m:\u001b[0m\u001b[1;33m\u001b[0m\u001b[0m\n\u001b[1;32m--> 382\u001b[1;33m                     \u001b[0mhttplib_response\u001b[0m \u001b[1;33m=\u001b[0m \u001b[0mconn\u001b[0m\u001b[1;33m.\u001b[0m\u001b[0mgetresponse\u001b[0m\u001b[1;33m(\u001b[0m\u001b[1;33m)\u001b[0m\u001b[1;33m\u001b[0m\u001b[0m\n\u001b[0m\u001b[0;32m    383\u001b[0m                 \u001b[1;32mexcept\u001b[0m \u001b[0mException\u001b[0m \u001b[1;32mas\u001b[0m \u001b[0me\u001b[0m\u001b[1;33m:\u001b[0m\u001b[1;33m\u001b[0m\u001b[0m\n\u001b[0;32m    384\u001b[0m                     \u001b[1;31m# Remove the TypeError from the exception chain in Python 3;\u001b[0m\u001b[1;33m\u001b[0m\u001b[1;33m\u001b[0m\u001b[0m\n",
      "\u001b[1;32m/home/jeffreycheng/anaconda3/lib/python3.5/http/client.py\u001b[0m in \u001b[0;36mgetresponse\u001b[1;34m(self)\u001b[0m\n\u001b[0;32m   1196\u001b[0m         \u001b[1;32mtry\u001b[0m\u001b[1;33m:\u001b[0m\u001b[1;33m\u001b[0m\u001b[0m\n\u001b[0;32m   1197\u001b[0m             \u001b[1;32mtry\u001b[0m\u001b[1;33m:\u001b[0m\u001b[1;33m\u001b[0m\u001b[0m\n\u001b[1;32m-> 1198\u001b[1;33m                 \u001b[0mresponse\u001b[0m\u001b[1;33m.\u001b[0m\u001b[0mbegin\u001b[0m\u001b[1;33m(\u001b[0m\u001b[1;33m)\u001b[0m\u001b[1;33m\u001b[0m\u001b[0m\n\u001b[0m\u001b[0;32m   1199\u001b[0m             \u001b[1;32mexcept\u001b[0m \u001b[0mConnectionError\u001b[0m\u001b[1;33m:\u001b[0m\u001b[1;33m\u001b[0m\u001b[0m\n\u001b[0;32m   1200\u001b[0m                 \u001b[0mself\u001b[0m\u001b[1;33m.\u001b[0m\u001b[0mclose\u001b[0m\u001b[1;33m(\u001b[0m\u001b[1;33m)\u001b[0m\u001b[1;33m\u001b[0m\u001b[0m\n",
      "\u001b[1;32m/home/jeffreycheng/anaconda3/lib/python3.5/http/client.py\u001b[0m in \u001b[0;36mbegin\u001b[1;34m(self)\u001b[0m\n\u001b[0;32m    295\u001b[0m         \u001b[1;31m# read until we get a non-100 response\u001b[0m\u001b[1;33m\u001b[0m\u001b[1;33m\u001b[0m\u001b[0m\n\u001b[0;32m    296\u001b[0m         \u001b[1;32mwhile\u001b[0m \u001b[1;32mTrue\u001b[0m\u001b[1;33m:\u001b[0m\u001b[1;33m\u001b[0m\u001b[0m\n\u001b[1;32m--> 297\u001b[1;33m             \u001b[0mversion\u001b[0m\u001b[1;33m,\u001b[0m \u001b[0mstatus\u001b[0m\u001b[1;33m,\u001b[0m \u001b[0mreason\u001b[0m \u001b[1;33m=\u001b[0m \u001b[0mself\u001b[0m\u001b[1;33m.\u001b[0m\u001b[0m_read_status\u001b[0m\u001b[1;33m(\u001b[0m\u001b[1;33m)\u001b[0m\u001b[1;33m\u001b[0m\u001b[0m\n\u001b[0m\u001b[0;32m    298\u001b[0m             \u001b[1;32mif\u001b[0m \u001b[0mstatus\u001b[0m \u001b[1;33m!=\u001b[0m \u001b[0mCONTINUE\u001b[0m\u001b[1;33m:\u001b[0m\u001b[1;33m\u001b[0m\u001b[0m\n\u001b[0;32m    299\u001b[0m                 \u001b[1;32mbreak\u001b[0m\u001b[1;33m\u001b[0m\u001b[0m\n",
      "\u001b[1;32m/home/jeffreycheng/anaconda3/lib/python3.5/http/client.py\u001b[0m in \u001b[0;36m_read_status\u001b[1;34m(self)\u001b[0m\n\u001b[0;32m    256\u001b[0m \u001b[1;33m\u001b[0m\u001b[0m\n\u001b[0;32m    257\u001b[0m     \u001b[1;32mdef\u001b[0m \u001b[0m_read_status\u001b[0m\u001b[1;33m(\u001b[0m\u001b[0mself\u001b[0m\u001b[1;33m)\u001b[0m\u001b[1;33m:\u001b[0m\u001b[1;33m\u001b[0m\u001b[0m\n\u001b[1;32m--> 258\u001b[1;33m         \u001b[0mline\u001b[0m \u001b[1;33m=\u001b[0m \u001b[0mstr\u001b[0m\u001b[1;33m(\u001b[0m\u001b[0mself\u001b[0m\u001b[1;33m.\u001b[0m\u001b[0mfp\u001b[0m\u001b[1;33m.\u001b[0m\u001b[0mreadline\u001b[0m\u001b[1;33m(\u001b[0m\u001b[0m_MAXLINE\u001b[0m \u001b[1;33m+\u001b[0m \u001b[1;36m1\u001b[0m\u001b[1;33m)\u001b[0m\u001b[1;33m,\u001b[0m \u001b[1;34m\"iso-8859-1\"\u001b[0m\u001b[1;33m)\u001b[0m\u001b[1;33m\u001b[0m\u001b[0m\n\u001b[0m\u001b[0;32m    259\u001b[0m         \u001b[1;32mif\u001b[0m \u001b[0mlen\u001b[0m\u001b[1;33m(\u001b[0m\u001b[0mline\u001b[0m\u001b[1;33m)\u001b[0m \u001b[1;33m>\u001b[0m \u001b[0m_MAXLINE\u001b[0m\u001b[1;33m:\u001b[0m\u001b[1;33m\u001b[0m\u001b[0m\n\u001b[0;32m    260\u001b[0m             \u001b[1;32mraise\u001b[0m \u001b[0mLineTooLong\u001b[0m\u001b[1;33m(\u001b[0m\u001b[1;34m\"status line\"\u001b[0m\u001b[1;33m)\u001b[0m\u001b[1;33m\u001b[0m\u001b[0m\n",
      "\u001b[1;32m/home/jeffreycheng/anaconda3/lib/python3.5/socket.py\u001b[0m in \u001b[0;36mreadinto\u001b[1;34m(self, b)\u001b[0m\n\u001b[0;32m    574\u001b[0m         \u001b[1;32mwhile\u001b[0m \u001b[1;32mTrue\u001b[0m\u001b[1;33m:\u001b[0m\u001b[1;33m\u001b[0m\u001b[0m\n\u001b[0;32m    575\u001b[0m             \u001b[1;32mtry\u001b[0m\u001b[1;33m:\u001b[0m\u001b[1;33m\u001b[0m\u001b[0m\n\u001b[1;32m--> 576\u001b[1;33m                 \u001b[1;32mreturn\u001b[0m \u001b[0mself\u001b[0m\u001b[1;33m.\u001b[0m\u001b[0m_sock\u001b[0m\u001b[1;33m.\u001b[0m\u001b[0mrecv_into\u001b[0m\u001b[1;33m(\u001b[0m\u001b[0mb\u001b[0m\u001b[1;33m)\u001b[0m\u001b[1;33m\u001b[0m\u001b[0m\n\u001b[0m\u001b[0;32m    577\u001b[0m             \u001b[1;32mexcept\u001b[0m \u001b[0mtimeout\u001b[0m\u001b[1;33m:\u001b[0m\u001b[1;33m\u001b[0m\u001b[0m\n\u001b[0;32m    578\u001b[0m                 \u001b[0mself\u001b[0m\u001b[1;33m.\u001b[0m\u001b[0m_timeout_occurred\u001b[0m \u001b[1;33m=\u001b[0m \u001b[1;32mTrue\u001b[0m\u001b[1;33m\u001b[0m\u001b[0m\n",
      "\u001b[1;32m/home/jeffreycheng/anaconda3/lib/python3.5/site-packages/urllib3/contrib/pyopenssl.py\u001b[0m in \u001b[0;36mrecv_into\u001b[1;34m(self, *args, **kwargs)\u001b[0m\n\u001b[0;32m    275\u001b[0m     \u001b[1;32mdef\u001b[0m \u001b[0mrecv_into\u001b[0m\u001b[1;33m(\u001b[0m\u001b[0mself\u001b[0m\u001b[1;33m,\u001b[0m \u001b[1;33m*\u001b[0m\u001b[0margs\u001b[0m\u001b[1;33m,\u001b[0m \u001b[1;33m**\u001b[0m\u001b[0mkwargs\u001b[0m\u001b[1;33m)\u001b[0m\u001b[1;33m:\u001b[0m\u001b[1;33m\u001b[0m\u001b[0m\n\u001b[0;32m    276\u001b[0m         \u001b[1;32mtry\u001b[0m\u001b[1;33m:\u001b[0m\u001b[1;33m\u001b[0m\u001b[0m\n\u001b[1;32m--> 277\u001b[1;33m             \u001b[1;32mreturn\u001b[0m \u001b[0mself\u001b[0m\u001b[1;33m.\u001b[0m\u001b[0mconnection\u001b[0m\u001b[1;33m.\u001b[0m\u001b[0mrecv_into\u001b[0m\u001b[1;33m(\u001b[0m\u001b[1;33m*\u001b[0m\u001b[0margs\u001b[0m\u001b[1;33m,\u001b[0m \u001b[1;33m**\u001b[0m\u001b[0mkwargs\u001b[0m\u001b[1;33m)\u001b[0m\u001b[1;33m\u001b[0m\u001b[0m\n\u001b[0m\u001b[0;32m    278\u001b[0m         \u001b[1;32mexcept\u001b[0m \u001b[0mOpenSSL\u001b[0m\u001b[1;33m.\u001b[0m\u001b[0mSSL\u001b[0m\u001b[1;33m.\u001b[0m\u001b[0mSysCallError\u001b[0m \u001b[1;32mas\u001b[0m \u001b[0me\u001b[0m\u001b[1;33m:\u001b[0m\u001b[1;33m\u001b[0m\u001b[0m\n\u001b[0;32m    279\u001b[0m             \u001b[1;32mif\u001b[0m \u001b[0mself\u001b[0m\u001b[1;33m.\u001b[0m\u001b[0msuppress_ragged_eofs\u001b[0m \u001b[1;32mand\u001b[0m \u001b[0me\u001b[0m\u001b[1;33m.\u001b[0m\u001b[0margs\u001b[0m \u001b[1;33m==\u001b[0m \u001b[1;33m(\u001b[0m\u001b[1;33m-\u001b[0m\u001b[1;36m1\u001b[0m\u001b[1;33m,\u001b[0m \u001b[1;34m'Unexpected EOF'\u001b[0m\u001b[1;33m)\u001b[0m\u001b[1;33m:\u001b[0m\u001b[1;33m\u001b[0m\u001b[0m\n",
      "\u001b[1;32m/home/jeffreycheng/anaconda3/lib/python3.5/site-packages/OpenSSL/SSL.py\u001b[0m in \u001b[0;36mrecv_into\u001b[1;34m(self, buffer, nbytes, flags)\u001b[0m\n\u001b[0;32m   1332\u001b[0m             \u001b[0mresult\u001b[0m \u001b[1;33m=\u001b[0m \u001b[0m_lib\u001b[0m\u001b[1;33m.\u001b[0m\u001b[0mSSL_peek\u001b[0m\u001b[1;33m(\u001b[0m\u001b[0mself\u001b[0m\u001b[1;33m.\u001b[0m\u001b[0m_ssl\u001b[0m\u001b[1;33m,\u001b[0m \u001b[0mbuf\u001b[0m\u001b[1;33m,\u001b[0m \u001b[0mnbytes\u001b[0m\u001b[1;33m)\u001b[0m\u001b[1;33m\u001b[0m\u001b[0m\n\u001b[0;32m   1333\u001b[0m         \u001b[1;32melse\u001b[0m\u001b[1;33m:\u001b[0m\u001b[1;33m\u001b[0m\u001b[0m\n\u001b[1;32m-> 1334\u001b[1;33m             \u001b[0mresult\u001b[0m \u001b[1;33m=\u001b[0m \u001b[0m_lib\u001b[0m\u001b[1;33m.\u001b[0m\u001b[0mSSL_read\u001b[0m\u001b[1;33m(\u001b[0m\u001b[0mself\u001b[0m\u001b[1;33m.\u001b[0m\u001b[0m_ssl\u001b[0m\u001b[1;33m,\u001b[0m \u001b[0mbuf\u001b[0m\u001b[1;33m,\u001b[0m \u001b[0mnbytes\u001b[0m\u001b[1;33m)\u001b[0m\u001b[1;33m\u001b[0m\u001b[0m\n\u001b[0m\u001b[0;32m   1335\u001b[0m         \u001b[0mself\u001b[0m\u001b[1;33m.\u001b[0m\u001b[0m_raise_ssl_error\u001b[0m\u001b[1;33m(\u001b[0m\u001b[0mself\u001b[0m\u001b[1;33m.\u001b[0m\u001b[0m_ssl\u001b[0m\u001b[1;33m,\u001b[0m \u001b[0mresult\u001b[0m\u001b[1;33m)\u001b[0m\u001b[1;33m\u001b[0m\u001b[0m\n\u001b[0;32m   1336\u001b[0m \u001b[1;33m\u001b[0m\u001b[0m\n",
      "\u001b[1;31mKeyboardInterrupt\u001b[0m: "
     ]
    }
   ],
   "source": [
    "music = []\n",
    "for artist in artists:\n",
    "    try:\n",
    "        music = music + get_songs(artist).songs\n",
    "    except AssertionError:\n",
    "        pass"
   ]
  },
  {
   "cell_type": "code",
   "execution_count": 23,
   "metadata": {
    "collapsed": false
   },
   "outputs": [
    {
     "name": "stdout",
     "output_type": "stream",
     "text": [
      "[(\"'03 Electric Relaxation\", 'Kanye West'), ('18 Years', 'Kanye West'), ('1996 Fat Beats Freestyle', 'Kanye West'), ('2002 Unreleased Freestyle', 'Kanye West'), ('2004 Tim Westwood Freestyle', 'Kanye West'), ('2013 Yeezus Tour Dates', 'Kanye West'), ('2013 Zane Lowe BBC Radio Interview Part 1', 'Kanye West'), ('2013 Zane Lowe BBC Radio Interview Part 2', 'Kanye West'), ('2014 Yeezus Tour Dates', 'Kanye West'), ('2015 BET Honors Visionary Award Acceptance Speech', 'Kanye West'), ('1017', 'Migos'), ('11 Birds', 'Migos'), ('2Pac & Biggie', 'Migos'), ('3 Mics', 'Migos'), ('3 Way EP [Album Art + Tracklist]', 'Migos'), ('3 Way (Intro)', 'Migos'), ('50 Bitches (Lick It Off)', 'Migos'), ('50 Chicks', 'Migos'), ('9 On Me', 'Migos'), ('Add It Up', 'Migos')]\n"
     ]
    }
   ],
   "source": [
    "print(music)"
   ]
  },
  {
   "cell_type": "code",
   "execution_count": 24,
   "metadata": {
    "collapsed": false
   },
   "outputs": [
    {
     "data": {
      "text/html": [
       "<div>\n",
       "<table border=\"1\" class=\"dataframe\">\n",
       "  <thead>\n",
       "    <tr style=\"text-align: right;\">\n",
       "      <th></th>\n",
       "      <th>artist</th>\n",
       "      <th>song</th>\n",
       "      <th>album</th>\n",
       "      <th>lyrics</th>\n",
       "    </tr>\n",
       "  </thead>\n",
       "  <tbody>\n",
       "    <tr>\n",
       "      <th>0</th>\n",
       "      <td>Kanye West</td>\n",
       "      <td>'03 Electric Relaxation</td>\n",
       "      <td>None</td>\n",
       "      <td>You got to\\n\\nRelax yourself or we'll whack ya...</td>\n",
       "    </tr>\n",
       "    <tr>\n",
       "      <th>1</th>\n",
       "      <td>Kanye West</td>\n",
       "      <td>18 Years</td>\n",
       "      <td>Def Poetry Jam</td>\n",
       "      <td>The next guest.. is my man\\nBringing him back,...</td>\n",
       "    </tr>\n",
       "    <tr>\n",
       "      <th>2</th>\n",
       "      <td>Kanye West</td>\n",
       "      <td>1996 Fat Beats Freestyle</td>\n",
       "      <td>None</td>\n",
       "      <td>Yo it's the Lake Shore Drive\\nKeep it live, ti...</td>\n",
       "    </tr>\n",
       "    <tr>\n",
       "      <th>3</th>\n",
       "      <td>Kanye West</td>\n",
       "      <td>2002 Unreleased Freestyle</td>\n",
       "      <td>None</td>\n",
       "      <td>Ayo\\nPlanes, trains, automobiles\\nThe G500s wi...</td>\n",
       "    </tr>\n",
       "    <tr>\n",
       "      <th>4</th>\n",
       "      <td>Kanye West</td>\n",
       "      <td>2004 Tim Westwood Freestyle</td>\n",
       "      <td>None</td>\n",
       "      <td>I told her to drive over after dude crib\\nBrin...</td>\n",
       "    </tr>\n",
       "  </tbody>\n",
       "</table>\n",
       "</div>"
      ],
      "text/plain": [
       "       artist                         song           album  \\\n",
       "0  Kanye West      '03 Electric Relaxation            None   \n",
       "1  Kanye West                     18 Years  Def Poetry Jam   \n",
       "2  Kanye West     1996 Fat Beats Freestyle            None   \n",
       "3  Kanye West    2002 Unreleased Freestyle            None   \n",
       "4  Kanye West  2004 Tim Westwood Freestyle            None   \n",
       "\n",
       "                                              lyrics  \n",
       "0  You got to\\n\\nRelax yourself or we'll whack ya...  \n",
       "1  The next guest.. is my man\\nBringing him back,...  \n",
       "2  Yo it's the Lake Shore Drive\\nKeep it live, ti...  \n",
       "3  Ayo\\nPlanes, trains, automobiles\\nThe G500s wi...  \n",
       "4  I told her to drive over after dude crib\\nBrin...  "
      ]
     },
     "execution_count": 24,
     "metadata": {},
     "output_type": "execute_result"
    }
   ],
   "source": [
    "df = pd.DataFrame()\n",
    "df['artist'] = list(map(lambda x: x.artist, music))\n",
    "df['song'] = list(map(lambda x: x.title, music))\n",
    "df['album'] = list(map(lambda x: x.album, music))\n",
    "df['lyrics'] = list(map(lambda x: x.lyrics, music))\n",
    "df.head()"
   ]
  },
  {
   "cell_type": "code",
   "execution_count": 25,
   "metadata": {
    "collapsed": false
   },
   "outputs": [
    {
     "name": "stdout",
     "output_type": "stream",
     "text": [
      "1996 Fat Beats Freestyle\n",
      "{'description': {'dom': {'children': [{'children': ['NYC record store Fat Beats relocated in 1996 and celebrated their move by hosting a cypher including the likes of ', {'children': ['Ill Bill'], 'data': {'api_path': '/artists/1780'}, 'tag': 'a', 'attributes': {'href': 'https://genius.com/artists/Ill-bill'}}, ', ', {'children': ['Lord Finesse'], 'data': {'api_path': '/artists/430'}, 'tag': 'a', 'attributes': {'href': 'https://genius.com/artists/Lord-finesse'}}, ', ', {'children': [\"Al' Tariq\"], 'data': {'api_path': '/artists/3047'}, 'tag': 'a', 'attributes': {'href': 'https://genius.com/artists/Al-tariq'}}, ', ', {'children': ['Xzibit'], 'data': {'api_path': '/artists/291'}, 'tag': 'a', 'attributes': {'href': 'https://genius.com/artists/Xzibit'}}, ', etc. Out of all of these big names, the 19 year old ', {'children': ['Kanye West'], 'data': {'api_path': '/artists/72'}, 'tag': 'a', 'attributes': {'href': 'https://genius.com/artists/Kanye-west'}}, ' stood out, debuting this amazing freestyle that would forecast the bright future he would create for himself.'], 'tag': 'p'}], 'tag': 'root'}}, 'pyongs_count': 25, 'verified_annotations_by': [], 'id': 480181, 'path': '/Kanye-west-1996-fat-beats-freestyle-lyrics', 'media': [{'start': 0, 'type': 'video', 'provider': 'youtube', 'url': 'http://www.youtube.com/watch?v=rd6NS7CIqVU'}], 'url': 'https://genius.com/Kanye-west-1996-fat-beats-freestyle-lyrics', 'header_image_thumbnail_url': 'https://images.genius.com/2182acf08ba673008132b0278baff86a.300x300x1.jpg', 'writer_artists': [], 'lyrics_owner_id': 104344, 'custom_performances': [], 'lyrics': \"Yo it's the Lake Shore Drive\\nKeep it live, tight, raw\\nYou better hurry up, they can't keep it in the store\\nTo be the format, your whole style on one beat\\nInsert the disk, watch a nigga press delete\\nTryna flex your technique\\nYou gettin' blasted with a TEC, that shit is mad ironic\\nLike Alanis Morisette, you try but can't jet\\nBunch of airline lyrics, rhymes for low fare\\nFlyin' out of O'Hare\\nWhile these no-name ass niggas wanna go there, nobodies\\nLivin' three blocks from nowhere, down the street from nothin'\\nLet me show these niggas somethin', visual aid, the page\\nAnd the nigga who fronted, word to God, they don't want it\\nBut they wanna play the role, actin' hardcore\\nWatch the whole career, flow, my style is too cold\\nAlways, forever like Luther, but it ain't original\\nBecause I stole it from the future, now I'm wanted in three centuries\\nThe verbal killin', ask me where I got the style\\nTold 'em from my grandchildren, put it on files\\nDocument it in the books\\nYou niggas can't see me so cease the hard looks\\nI'll rather it get took\\nLive and die for rhymes, dedicated to hip-hop\\nShit don't stop\\nNiggas they wanna know what and who's next\\nAnd you roll up in a Lex\\nThat's the train stop, my brain drop mad lyrics\\nI rhyme with the spirit off the top, I drop nonstop\\nVerbally killin', my style is ready to willin'\\nY'all niggas stay back chillin'\\nLike EPMD y'all niggas ain't seein' me, what\\nWe're enormous, nah, do or die\\nI got the rhymes on the brain\\nThey tried to bomb me on the plane so I rode the train\\nBefore I got here, spawned here\\nI'm 'bout to save this shit, yo it's my year, what!?\\nBring it on, pass it to my man Tariq\\nRock the mic all week\", 'description_annotation': {'annotations': [{'current_user_metadata': {'interactions': {'pyong': False, 'vote': None, 'cosign': False}, 'permissions': ['create_comment'], 'excluded_permissions': ['vote', 'edit', 'cosign', 'uncosign', 'destroy', 'accept', 'reject', 'see_unreviewed', 'clear_votes', 'propose_edit_to', 'pin_to_profile', 'unpin_from_profile', 'update_source', 'set_brand', 'clear_brand', 'edit_custom_preview'], 'iq_by_action': {}}, 'share_url': 'https://genius.com/3615761', 'rejection_comment': None, 'pinned': False, 'id': 3615761, 'community': True, 'source': None, 'state': 'accepted', 'url': 'https://genius.com/3615761/Kanye-west-1996-fat-beats-freestyle/1996-fat-beats-freestyle', 'verified': False, 'cosigned_by': [], 'has_voters': True, 'custom_preview': None, 'votes_total': 4, 'body': {'dom': {'children': [{'children': ['NYC record store Fat Beats relocated in 1996 and celebrated their move by hosting a cypher including the likes of ', {'children': ['Ill Bill'], 'data': {'api_path': '/artists/1780'}, 'tag': 'a', 'attributes': {'href': 'https://genius.com/artists/Ill-bill'}}, ', ', {'children': ['Lord Finesse'], 'data': {'api_path': '/artists/430'}, 'tag': 'a', 'attributes': {'href': 'https://genius.com/artists/Lord-finesse'}}, ', ', {'children': [\"Al' Tariq\"], 'data': {'api_path': '/artists/3047'}, 'tag': 'a', 'attributes': {'href': 'https://genius.com/artists/Al-tariq'}}, ', ', {'children': ['Xzibit'], 'data': {'api_path': '/artists/291'}, 'tag': 'a', 'attributes': {'href': 'https://genius.com/artists/Xzibit'}}, ', etc. Out of all of these big names, the 19 year old ', {'children': ['Kanye West'], 'data': {'api_path': '/artists/72'}, 'tag': 'a', 'attributes': {'href': 'https://genius.com/artists/Kanye-west'}}, ' stood out, debuting this amazing freestyle that would forecast the bright future he would create for himself.'], 'tag': 'p'}], 'tag': 'root'}}, 'verified_by': None, 'api_path': '/annotations/3615761', 'authors': [{'attribution': 0.9310344827586207, 'user': {'current_user_metadata': {'interactions': {'following': False}, 'permissions': [], 'features': [], 'excluded_permissions': ['follow']}, 'id': 104344, 'iq': 1907228, 'name': '\\u200bstreetlights', 'api_path': '/users/104344', 'header_image_url': 'https://images.genius.com/49f2b339a8580c0f005a77fffb709a7b.1000x668x1.jpg', 'human_readable_role_for_display': 'Staff', 'url': 'https://genius.com/streetlights', 'login': 'streetlights', 'avatar': {'tiny': {'bounding_box': {'width': 16, 'height': 16}, 'url': 'https://images.genius.com/9ac64405f08557cbf4062b5ca37643e6.1000x1000x1.jpg'}, 'small': {'bounding_box': {'width': 100, 'height': 100}, 'url': 'https://images.genius.com/9ac64405f08557cbf4062b5ca37643e6.1000x1000x1.jpg'}, 'thumb': {'bounding_box': {'width': 32, 'height': 32}, 'url': 'https://images.genius.com/9ac64405f08557cbf4062b5ca37643e6.1000x1000x1.jpg'}, 'medium': {'bounding_box': {'width': 300, 'height': 400}, 'url': 'https://images.genius.com/9ac64405f08557cbf4062b5ca37643e6.1000x1000x1.jpg'}}, 'role_for_display': 'staff'}, 'pinned_role': None}, {'attribution': 0.05172413793103448, 'user': {'current_user_metadata': {'interactions': {'following': False}, 'permissions': [], 'features': [], 'excluded_permissions': ['follow']}, 'id': 2895026, 'iq': 139, 'name': 'enovid', 'api_path': '/users/2895026', 'header_image_url': 'https://images.rapgenius.com/avatars/medium/cfaeda79c0659c3d39d742b924884454', 'human_readable_role_for_display': None, 'url': 'https://genius.com/enovid', 'login': 'enovid', 'avatar': {'tiny': {'bounding_box': {'width': 16, 'height': 16}, 'url': 'https://images.rapgenius.com/avatars/tiny/cfaeda79c0659c3d39d742b924884454'}, 'small': {'bounding_box': {'width': 100, 'height': 100}, 'url': 'https://images.rapgenius.com/avatars/small/cfaeda79c0659c3d39d742b924884454'}, 'thumb': {'bounding_box': {'width': 32, 'height': 32}, 'url': 'https://images.rapgenius.com/avatars/thumb/cfaeda79c0659c3d39d742b924884454'}, 'medium': {'bounding_box': {'width': 300, 'height': 400}, 'url': 'https://images.rapgenius.com/avatars/medium/cfaeda79c0659c3d39d742b924884454'}}, 'role_for_display': None}, 'pinned_role': None}, {'attribution': 0.017241379310344827, 'user': {'current_user_metadata': {'interactions': {'following': False}, 'permissions': [], 'features': [], 'excluded_permissions': ['follow']}, 'id': 30579, 'iq': 13997, 'name': 'Guv', 'api_path': '/users/30579', 'header_image_url': 'https://s3.amazonaws.com/rapgenius/avatars/medium/1358289005_30579_29756779-300x225.jpg', 'human_readable_role_for_display': 'Editor', 'url': 'https://genius.com/Guv', 'login': 'Guv', 'avatar': {'tiny': {'bounding_box': {'width': 16, 'height': 16}, 'url': 'https://s3.amazonaws.com/rapgenius/avatars/tiny/30579_29756779-300x225.jpg'}, 'small': {'bounding_box': {'width': 100, 'height': 100}, 'url': 'https://s3.amazonaws.com/rapgenius/avatars/small/1358289005_30579_29756779-300x225.jpg'}, 'thumb': {'bounding_box': {'width': 32, 'height': 32}, 'url': 'https://s3.amazonaws.com/rapgenius/avatars/thumb/1358289005_30579_29756779-300x225.jpg'}, 'medium': {'bounding_box': {'width': 300, 'height': 400}, 'url': 'https://s3.amazonaws.com/rapgenius/avatars/medium/1358289005_30579_29756779-300x225.jpg'}}, 'role_for_display': 'editor'}, 'pinned_role': None}], 'comment_count': 0}], 'fragment': '1996 Fat Beats Freestyle', 'id': 3615761, 'annotator_login': 'streetlights', 'path': '/3615761/Kanye-west-1996-fat-beats-freestyle/1996-fat-beats-freestyle', 'annotator_id': 104344, 'url': 'https://genius.com/3615761/Kanye-west-1996-fat-beats-freestyle/1996-fat-beats-freestyle', 'range': {'content': '1996 Fat Beats Freestyle'}, 'is_description': True, 'song_id': 480181, 'verified_annotator_ids': [], 'api_path': '/referents/3615761', 'annotatable': {'title': '1996 Fat Beats Freestyle', 'id': 480181, 'link_title': '1996 Fat Beats Freestyle by\\xa0Kanye\\xa0West', 'api_path': '/songs/480181', 'client_timestamps': {'lyrics_updated_at': 1496206369, 'updated_by_human_at': 1496206369}, 'url': 'https://genius.com/Kanye-west-1996-fat-beats-freestyle-lyrics', 'image_url': 'https://images.genius.com/2182acf08ba673008132b0278baff86a.803x803x1.jpg', 'context': 'Kanye West', 'type': 'Song'}, '_type': 'referent', 'classification': 'accepted'}, 'song_relationships': [{'type': 'samples', 'songs': []}, {'type': 'sampled_in', 'songs': []}, {'type': 'interpolates', 'songs': []}, {'type': 'interpolated_by', 'songs': []}, {'type': 'cover_of', 'songs': []}, {'type': 'covered_by', 'songs': []}, {'type': 'remix_of', 'songs': []}, {'type': 'remixed_by', 'songs': []}, {'type': 'live_version_of', 'songs': []}, {'type': 'performed_live_as', 'songs': []}], 'lyrics_state': 'complete', 'album': None, 'title': '1996 Fat Beats Freestyle', 'stats': {'iq_earners': 25, 'accepted_annotations': 12, 'contributors': 26, 'unreviewed_annotations': 0, 'transcribers': 3, 'pageviews': 6339, 'verified_annotations': 0, 'hot': False}, 'annotation_count': 13, 'title_with_featured': '1996 Fat Beats Freestyle', 'header_image_url': 'https://images.genius.com/2182acf08ba673008132b0278baff86a.803x803x1.jpg', 'embed_content': \"<div id='rg_embed_link_480181' class='rg_embed_link' data-song-id='480181'>Read <a href='https://genius.com/Kanye-west-1996-fat-beats-freestyle-lyrics'>“1996 Fat Beats Freestyle” by Kanye\\xa0West</a> on Genius</div> <script crossorigin src='//genius.com/songs/480181/embed.js'></script>\", 'recording_location': 'Second Floor of Fat Beats Records Store at 6th Avenue, New York City, New York', 'producer_artists': [], 'featured_artists': [], 'current_user_metadata': {'interactions': {'pyong': False, 'following': False}, 'permissions': ['see_pageviews', 'create_comment', 'view_song_story_gallery'], 'iq_by_action': {}, 'excluded_permissions': ['follow', 'award_transcription_iq', 'remove_transcription_iq', 'pyong', 'edit_lyrics', 'view_annotation_engagement_data', 'publish', 'unpublish', 'edit_spotify_details', 'hide', 'unhide', 'toggle_featured_video', 'add_pinned_annotation_to', 'add_community_annotation_to', 'destroy', 'mark_as_not_spam', 'edit_spotify_annotations_for', 'verify_lyrics', 'unverify_lyrics', 'edit_anything', 'edit_album_appearances', 'edit_any_media', 'edit', 'rename', 'edit_tags', 'watch_fact_track', 'reindex', 'view_lyrics_synchronization', 'enable_media', 'disable_media', 'edit_lyrics_or_annotation_brackets', 'see_editorial_indicators', 'view_attribution_visualization', 'edit_youtube_url', 'edit_soundcloud_url', 'edit_spotify_uuid', 'edit_apple_music_url', 'edit_vevo_url', 'moderate_annotations', 'create_annotation', 'see_short_id', 'manage_chart_item', 'create_tag'], 'relationships': {}}, 'primary_artist': {'id': 72, 'is_meme_verified': False, 'name': 'Kanye West', 'is_verified': False, 'api_path': '/artists/72', 'header_image_url': 'https://images.genius.com/93a98116162c07aa60e8a15fe7fb6977.800x480x1.jpg', 'image_url': 'https://images.genius.com/2182acf08ba673008132b0278baff86a.803x803x1.jpg', 'url': 'https://genius.com/artists/Kanye-west'}, 'song_art_image_url': 'https://images.genius.com/2182acf08ba673008132b0278baff86a.803x803x1.jpg', 'api_path': '/songs/480181', 'release_date': '1996-08-01', 'full_title': '1996 Fat Beats Freestyle by\\xa0Kanye\\xa0West', 'featured_video': True, 'verified_contributors': [], 'verified_lyrics_by': [], 'song_art_image_thumbnail_url': 'https://images.genius.com/2182acf08ba673008132b0278baff86a.300x300x1.jpg'}\n"
     ]
    },
    {
     "data": {
      "text/plain": [
       "[None]"
      ]
     },
     "execution_count": 25,
     "metadata": {},
     "output_type": "execute_result"
    }
   ],
   "source": [
    "# list(map(lambda x: x.annotation, music))\n",
    "# print(type(music[0]))\n",
    "# print(music[0].__dict__['_body'])\n",
    "\n",
    "import requests\n",
    "from bs4 import BeautifulSoup\n",
    "import json\n",
    "\n",
    "def get_annotations(song):\n",
    "    print(song.title)\n",
    "    api_calls = [annotation['api_path'] for annotation in\n",
    "                 song.__dict__['_body']['description_annotation']['annotations']]\n",
    "    print(song.__dict__['_body'])\n",
    "    #     print(api_calls)\n",
    "    def get_from_api(api_url):\n",
    "        #         print('http://api.genius.com' + api_url)\n",
    "        page = requests.get('http://api.genius.com' + api_url,\n",
    "                            headers={'Authorization': 'Bearer ' + genius_client_access_token})\n",
    "    #         print(page.__dict__)\n",
    "    #         print(page.__dict__.keys())\n",
    "    #         annotation_dict = json.loads(page.__dict__['_content'].decode())['response']['annotation']['body']['dom']\n",
    "    # #         print(annotation_dict)\n",
    "    #         for key in annotation_dict:\n",
    "    #             print(\"NEW\")\n",
    "    #             print(key)\n",
    "    #             print(annotation_dict[key])\n",
    "    return [get_from_api(url) for url in api_calls]\n",
    "get_annotations(music[2])\n"
   ]
  },
  {
   "cell_type": "code",
   "execution_count": 26,
   "metadata": {
    "collapsed": true
   },
   "outputs": [],
   "source": [
    "# headers = {'Authorization': 'Bearer %s' % genius_client_access_token}\n",
    "# search_url = base_url + '/search'\n",
    "# song_title = 'Mercy'\n",
    "# params = {'q': song_title}\n",
    "# response = requests.get(search_url, params=params, headers=headers)\n",
    "# json = response.json()\n",
    "# print(json)"
   ]
  },
  {
   "cell_type": "code",
   "execution_count": 27,
   "metadata": {
    "collapsed": true
   },
   "outputs": [],
   "source": [
    "df.to_pickle('data.pkl')"
   ]
  },
  {
   "cell_type": "code",
   "execution_count": 46,
   "metadata": {
    "collapsed": false
   },
   "outputs": [],
   "source": [
    "# spotify_token = 'BQCVEzRlbQgkEb06zkDYJKDQAzzGCm19cyf5pugp5RnUxls0OyJR-vlNyxa8bjIx-_vaBkXrY7FrSxMQCGsGieSXVgE8VnVlCtiNm-nNSnRDNsayJWUaMgKQwAk4iNisv_i6vx4FzpE'\n",
    "spotify_token = 'BQBippMPZbTosK050_kzP3uESjQxmMuaqRYeHaswETEjxl23bOoviQ2bbuID1WVUtN0oQ55o4tXGd9FH_9JfmQ6B-Hwysq_sycqrUfKPvYnC_cBPa845hzWbiJ3E6oN8iIBSUswuPWI'\n",
    "spotify = spotipy.Spotify(auth=spotify_token)\n",
    "def get_song(song):\n",
    "    \n",
    "spotify_artists = [spotify.search(q=song.title, type='track') for song in music]"
   ]
  },
  {
   "cell_type": "code",
   "execution_count": 80,
   "metadata": {
    "collapsed": false
   },
   "outputs": [
    {
     "name": "stdout",
     "output_type": "stream",
     "text": [
      "\"18 Years\" by Kanye West:\n",
      "    The next guest.. is my man\n",
      "    Bringing him back, its a pleasure to have him here\n",
      "    Please give it for my ...\n",
      "18 Years\n"
     ]
    },
    {
     "ename": "SpotifyException",
     "evalue": "http status: 401, code:-1 - https://api.spotify.com/v1/search?type=track&limit=10&q=name%3ABohemian%2BRhapsody&offset=0:\n The access token expired",
     "output_type": "error",
     "traceback": [
      "\u001b[1;31m---------------------------------------------------------------------------\u001b[0m",
      "\u001b[1;31mHTTPError\u001b[0m                                 Traceback (most recent call last)",
      "\u001b[1;32m/home/jeffreycheng/anaconda3/lib/python3.5/site-packages/spotipy/client.py\u001b[0m in \u001b[0;36m_internal_call\u001b[1;34m(self, method, url, payload, params)\u001b[0m\n\u001b[0;32m    118\u001b[0m         \u001b[1;32mtry\u001b[0m\u001b[1;33m:\u001b[0m\u001b[1;33m\u001b[0m\u001b[0m\n\u001b[1;32m--> 119\u001b[1;33m             \u001b[0mr\u001b[0m\u001b[1;33m.\u001b[0m\u001b[0mraise_for_status\u001b[0m\u001b[1;33m(\u001b[0m\u001b[1;33m)\u001b[0m\u001b[1;33m\u001b[0m\u001b[0m\n\u001b[0m\u001b[0;32m    120\u001b[0m         \u001b[1;32mexcept\u001b[0m\u001b[1;33m:\u001b[0m\u001b[1;33m\u001b[0m\u001b[0m\n",
      "\u001b[1;32m/home/jeffreycheng/anaconda3/lib/python3.5/site-packages/requests/models.py\u001b[0m in \u001b[0;36mraise_for_status\u001b[1;34m(self)\u001b[0m\n\u001b[0;32m    936\u001b[0m         \u001b[1;32mif\u001b[0m \u001b[0mhttp_error_msg\u001b[0m\u001b[1;33m:\u001b[0m\u001b[1;33m\u001b[0m\u001b[0m\n\u001b[1;32m--> 937\u001b[1;33m             \u001b[1;32mraise\u001b[0m \u001b[0mHTTPError\u001b[0m\u001b[1;33m(\u001b[0m\u001b[0mhttp_error_msg\u001b[0m\u001b[1;33m,\u001b[0m \u001b[0mresponse\u001b[0m\u001b[1;33m=\u001b[0m\u001b[0mself\u001b[0m\u001b[1;33m)\u001b[0m\u001b[1;33m\u001b[0m\u001b[0m\n\u001b[0m\u001b[0;32m    938\u001b[0m \u001b[1;33m\u001b[0m\u001b[0m\n",
      "\u001b[1;31mHTTPError\u001b[0m: 401 Client Error: Unauthorized for url: https://api.spotify.com/v1/search?type=track&limit=10&q=name%3ABohemian%2BRhapsody&offset=0",
      "\nDuring handling of the above exception, another exception occurred:\n",
      "\u001b[1;31mSpotifyException\u001b[0m                          Traceback (most recent call last)",
      "\u001b[1;32m<ipython-input-80-642c44b38ead>\u001b[0m in \u001b[0;36m<module>\u001b[1;34m()\u001b[0m\n\u001b[0;32m      2\u001b[0m \u001b[0mprint\u001b[0m\u001b[1;33m(\u001b[0m\u001b[0mmusic\u001b[0m\u001b[1;33m[\u001b[0m\u001b[1;36m1\u001b[0m\u001b[1;33m]\u001b[0m\u001b[1;33m.\u001b[0m\u001b[0mtitle\u001b[0m\u001b[1;33m)\u001b[0m\u001b[1;33m\u001b[0m\u001b[0m\n\u001b[0;32m      3\u001b[0m \u001b[1;31m# print(spotify_artists[1])\u001b[0m\u001b[1;33m\u001b[0m\u001b[1;33m\u001b[0m\u001b[0m\n\u001b[1;32m----> 4\u001b[1;33m \u001b[0mprint\u001b[0m\u001b[1;33m(\u001b[0m\u001b[0mspotify\u001b[0m\u001b[1;33m.\u001b[0m\u001b[0msearch\u001b[0m\u001b[1;33m(\u001b[0m\u001b[0mq\u001b[0m\u001b[1;33m=\u001b[0m\u001b[1;34m'name:Bohemian+Rhapsody'\u001b[0m\u001b[1;33m,\u001b[0m \u001b[0mtype\u001b[0m\u001b[1;33m=\u001b[0m\u001b[1;34m'track'\u001b[0m\u001b[1;33m)\u001b[0m\u001b[1;33m)\u001b[0m\u001b[1;33m\u001b[0m\u001b[0m\n\u001b[0m\u001b[0;32m      5\u001b[0m \u001b[0mprint\u001b[0m\u001b[1;33m\u001b[0m\u001b[0m\n",
      "\u001b[1;32m/home/jeffreycheng/anaconda3/lib/python3.5/site-packages/spotipy/client.py\u001b[0m in \u001b[0;36msearch\u001b[1;34m(self, q, limit, offset, type, market)\u001b[0m\n\u001b[0;32m    337\u001b[0m                 \u001b[1;33m-\u001b[0m \u001b[0mmarket\u001b[0m \u001b[1;33m-\u001b[0m \u001b[0mAn\u001b[0m \u001b[0mISO\u001b[0m \u001b[1;36m3166\u001b[0m\u001b[1;33m-\u001b[0m\u001b[1;36m1\u001b[0m \u001b[0malpha\u001b[0m\u001b[1;33m-\u001b[0m\u001b[1;36m2\u001b[0m \u001b[0mcountry\u001b[0m \u001b[0mcode\u001b[0m \u001b[1;32mor\u001b[0m \u001b[0mthe\u001b[0m \u001b[0mstring\u001b[0m \u001b[0mfrom_token\u001b[0m\u001b[1;33m.\u001b[0m\u001b[1;33m\u001b[0m\u001b[0m\n\u001b[0;32m    338\u001b[0m         '''\n\u001b[1;32m--> 339\u001b[1;33m         \u001b[1;32mreturn\u001b[0m \u001b[0mself\u001b[0m\u001b[1;33m.\u001b[0m\u001b[0m_get\u001b[0m\u001b[1;33m(\u001b[0m\u001b[1;34m'search'\u001b[0m\u001b[1;33m,\u001b[0m \u001b[0mq\u001b[0m\u001b[1;33m=\u001b[0m\u001b[0mq\u001b[0m\u001b[1;33m,\u001b[0m \u001b[0mlimit\u001b[0m\u001b[1;33m=\u001b[0m\u001b[0mlimit\u001b[0m\u001b[1;33m,\u001b[0m \u001b[0moffset\u001b[0m\u001b[1;33m=\u001b[0m\u001b[0moffset\u001b[0m\u001b[1;33m,\u001b[0m \u001b[0mtype\u001b[0m\u001b[1;33m=\u001b[0m\u001b[0mtype\u001b[0m\u001b[1;33m,\u001b[0m \u001b[0mmarket\u001b[0m\u001b[1;33m=\u001b[0m\u001b[0mmarket\u001b[0m\u001b[1;33m)\u001b[0m\u001b[1;33m\u001b[0m\u001b[0m\n\u001b[0m\u001b[0;32m    340\u001b[0m \u001b[1;33m\u001b[0m\u001b[0m\n\u001b[0;32m    341\u001b[0m     \u001b[1;32mdef\u001b[0m \u001b[0muser\u001b[0m\u001b[1;33m(\u001b[0m\u001b[0mself\u001b[0m\u001b[1;33m,\u001b[0m \u001b[0muser\u001b[0m\u001b[1;33m)\u001b[0m\u001b[1;33m:\u001b[0m\u001b[1;33m\u001b[0m\u001b[0m\n",
      "\u001b[1;32m/home/jeffreycheng/anaconda3/lib/python3.5/site-packages/spotipy/client.py\u001b[0m in \u001b[0;36m_get\u001b[1;34m(self, url, args, payload, **kwargs)\u001b[0m\n\u001b[0;32m    144\u001b[0m         \u001b[1;32mwhile\u001b[0m \u001b[0mretries\u001b[0m \u001b[1;33m>\u001b[0m \u001b[1;36m0\u001b[0m\u001b[1;33m:\u001b[0m\u001b[1;33m\u001b[0m\u001b[0m\n\u001b[0;32m    145\u001b[0m             \u001b[1;32mtry\u001b[0m\u001b[1;33m:\u001b[0m\u001b[1;33m\u001b[0m\u001b[0m\n\u001b[1;32m--> 146\u001b[1;33m                 \u001b[1;32mreturn\u001b[0m \u001b[0mself\u001b[0m\u001b[1;33m.\u001b[0m\u001b[0m_internal_call\u001b[0m\u001b[1;33m(\u001b[0m\u001b[1;34m'GET'\u001b[0m\u001b[1;33m,\u001b[0m \u001b[0murl\u001b[0m\u001b[1;33m,\u001b[0m \u001b[0mpayload\u001b[0m\u001b[1;33m,\u001b[0m \u001b[0mkwargs\u001b[0m\u001b[1;33m)\u001b[0m\u001b[1;33m\u001b[0m\u001b[0m\n\u001b[0m\u001b[0;32m    147\u001b[0m             \u001b[1;32mexcept\u001b[0m \u001b[0mSpotifyException\u001b[0m \u001b[1;32mas\u001b[0m \u001b[0me\u001b[0m\u001b[1;33m:\u001b[0m\u001b[1;33m\u001b[0m\u001b[0m\n\u001b[0;32m    148\u001b[0m                 \u001b[0mretries\u001b[0m \u001b[1;33m-=\u001b[0m \u001b[1;36m1\u001b[0m\u001b[1;33m\u001b[0m\u001b[0m\n",
      "\u001b[1;32m/home/jeffreycheng/anaconda3/lib/python3.5/site-packages/spotipy/client.py\u001b[0m in \u001b[0;36m_internal_call\u001b[1;34m(self, method, url, payload, params)\u001b[0m\n\u001b[0;32m    122\u001b[0m                 raise SpotifyException(r.status_code,\n\u001b[0;32m    123\u001b[0m                     \u001b[1;33m-\u001b[0m\u001b[1;36m1\u001b[0m\u001b[1;33m,\u001b[0m \u001b[1;34m'%s:\\n %s'\u001b[0m \u001b[1;33m%\u001b[0m \u001b[1;33m(\u001b[0m\u001b[0mr\u001b[0m\u001b[1;33m.\u001b[0m\u001b[0murl\u001b[0m\u001b[1;33m,\u001b[0m \u001b[0mr\u001b[0m\u001b[1;33m.\u001b[0m\u001b[0mjson\u001b[0m\u001b[1;33m(\u001b[0m\u001b[1;33m)\u001b[0m\u001b[1;33m[\u001b[0m\u001b[1;34m'error'\u001b[0m\u001b[1;33m]\u001b[0m\u001b[1;33m[\u001b[0m\u001b[1;34m'message'\u001b[0m\u001b[1;33m]\u001b[0m\u001b[1;33m)\u001b[0m\u001b[1;33m,\u001b[0m\u001b[1;33m\u001b[0m\u001b[0m\n\u001b[1;32m--> 124\u001b[1;33m                     headers=r.headers)\n\u001b[0m\u001b[0;32m    125\u001b[0m             \u001b[1;32melse\u001b[0m\u001b[1;33m:\u001b[0m\u001b[1;33m\u001b[0m\u001b[0m\n\u001b[0;32m    126\u001b[0m                 raise SpotifyException(r.status_code,\n",
      "\u001b[1;31mSpotifyException\u001b[0m: http status: 401, code:-1 - https://api.spotify.com/v1/search?type=track&limit=10&q=name%3ABohemian%2BRhapsody&offset=0:\n The access token expired"
     ]
    }
   ],
   "source": [
    "print(music[1])\n",
    "print(music[1].title)\n",
    "# print(spotify_artists[1])\n",
    "print(spotify.search(q='name:Bohemian+Rhapsody', type='track'))\n",
    "print"
   ]
  },
  {
   "cell_type": "code",
   "execution_count": null,
   "metadata": {
    "collapsed": false
   },
   "outputs": [],
   "source": [
    "yeezy = spotify.artist_top_tracks('5K4W6rqBFWDnAN6FQUkS6x')\n",
    "for track in yeezy['tracks'][:10]:\n",
    "    print('track    : ' + track['name'])"
   ]
  },
  {
   "cell_type": "code",
   "execution_count": null,
   "metadata": {
    "collapsed": true
   },
   "outputs": [],
   "source": []
  }
 ],
 "metadata": {
  "kernelspec": {
   "display_name": "Python 3",
   "language": "python",
   "name": "python3"
  },
  "language_info": {
   "codemirror_mode": {
    "name": "ipython",
    "version": 3
   },
   "file_extension": ".py",
   "mimetype": "text/x-python",
   "name": "python",
   "nbconvert_exporter": "python",
   "pygments_lexer": "ipython3",
   "version": "3.5.4"
  }
 },
 "nbformat": 4,
 "nbformat_minor": 1
}
