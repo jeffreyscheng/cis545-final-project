{
 "cells": [
  {
   "cell_type": "code",
   "execution_count": 1,
   "metadata": {
    "collapsed": false
   },
   "outputs": [
    {
     "name": "stdout",
     "output_type": "stream",
     "text": [
      "Requirement already satisfied: lyricsgenius in /home/jeffreycheng/anaconda3/lib/python3.5/site-packages (0.4.2)\n",
      "Requirement already satisfied: requests==2.18.1 in /home/jeffreycheng/anaconda3/lib/python3.5/site-packages (from lyricsgenius) (2.18.1)\n",
      "Requirement already satisfied: beautifulsoup4==4.6.0 in /home/jeffreycheng/anaconda3/lib/python3.5/site-packages (from lyricsgenius) (4.6.0)\n",
      "Requirement already satisfied: chardet<3.1.0,>=3.0.2 in /home/jeffreycheng/anaconda3/lib/python3.5/site-packages (from requests==2.18.1->lyricsgenius) (3.0.4)\n",
      "Requirement already satisfied: idna<2.6,>=2.5 in /home/jeffreycheng/anaconda3/lib/python3.5/site-packages (from requests==2.18.1->lyricsgenius) (2.5)\n",
      "Requirement already satisfied: urllib3<1.22,>=1.21.1 in /home/jeffreycheng/anaconda3/lib/python3.5/site-packages (from requests==2.18.1->lyricsgenius) (1.21.1)\n",
      "Requirement already satisfied: certifi>=2017.4.17 in /home/jeffreycheng/anaconda3/lib/python3.5/site-packages (from requests==2.18.1->lyricsgenius) (2018.1.18)\n",
      "Requirement already satisfied: spotipy in /home/jeffreycheng/anaconda3/lib/python3.5/site-packages (2.4.4)\n",
      "Requirement already satisfied: requests>=1.0 in /home/jeffreycheng/anaconda3/lib/python3.5/site-packages (from spotipy) (2.18.1)\n",
      "Requirement already satisfied: chardet<3.1.0,>=3.0.2 in /home/jeffreycheng/anaconda3/lib/python3.5/site-packages (from requests>=1.0->spotipy) (3.0.4)\n",
      "Requirement already satisfied: idna<2.6,>=2.5 in /home/jeffreycheng/anaconda3/lib/python3.5/site-packages (from requests>=1.0->spotipy) (2.5)\n",
      "Requirement already satisfied: urllib3<1.22,>=1.21.1 in /home/jeffreycheng/anaconda3/lib/python3.5/site-packages (from requests>=1.0->spotipy) (1.21.1)\n",
      "Requirement already satisfied: certifi>=2017.4.17 in /home/jeffreycheng/anaconda3/lib/python3.5/site-packages (from requests>=1.0->spotipy) (2018.1.18)\n",
      "Requirement already satisfied: selenium in /home/jeffreycheng/anaconda3/lib/python3.5/site-packages (3.11.0)\n"
     ]
    }
   ],
   "source": [
    "import sys\n",
    "!{sys.executable} -m pip install lyricsgenius\n",
    "!{sys.executable} -m pip install spotipy\n",
    "!{sys.executable} -m pip install selenium\n",
    "import pandas as pd\n",
    "import requests\n",
    "import lyricsgenius as genius\n",
    "import spotipy\n",
    "import time\n",
    "from selenium import webdriver\n",
    "from selenium.webdriver.common.keys import Keys"
   ]
  },
  {
   "cell_type": "code",
   "execution_count": 2,
   "metadata": {
    "collapsed": true
   },
   "outputs": [],
   "source": [
    "genius_client_id = 'Qeii-UKMUUwsAYCuuemsF7CZk7R2bFDhjP1FMkqpozASvYsA4wQDlLmd2JFM3Vhm'\n",
    "genius_secret_id = 'fWhV7VtwAL-5D32Ga9Y0Kyh_VFEo7XK0Jf8-3RMcZ5EoMXqsDpmFWFFPyobnibfMXJuJ-GZe69YEuXR-36VGAA'\n",
    "genius_client_access_token = '1QVL91jZbgdOIhvYhqKku_zkFDf6MHEyLpXEITHU2tE2HGvAqYIPInTrQaWcInD7'\n",
    "app_website_url = 'http://cis545genius.com'\n",
    "redirect_uri = 'cis545genius.com'\n",
    "base_url = 'https://api.genius.com'\n",
    "# driver_path = '/Users/ericdong/Downloads/chromedriver'\n",
    "driver_path = \"/mnt/c/Users/jeffr/Downloads/chromedriver_win32/chromedriver.exe\"\n",
    "artist_url = 'https://www.ranker.com/crowdranked-list/the-greatest-rappers-of-all-time'\n",
    "page_downs = 0\n",
    "api = genius.Genius(genius_client_access_token)"
   ]
  },
  {
   "cell_type": "code",
   "execution_count": 3,
   "metadata": {
    "collapsed": true
   },
   "outputs": [],
   "source": [
    "def get_artists(url, page_downs, driver_path):\n",
    "    driver = webdriver.Chrome(driver_path)\n",
    "    driver.get(url)\n",
    "    time.sleep(1)\n",
    "    page = driver.find_element_by_tag_name('body')\n",
    "    for i in range(page_downs):\n",
    "        page.send_keys(Keys.PAGE_DOWN)\n",
    "        time.sleep(0.2)\n",
    "    artists = driver.find_elements_by_class_name('listItem__data')\n",
    "    names = [artist.find_element_by_class_name('listItem__title').text for artist in artists[:-1]]\n",
    "    driver.quit()\n",
    "    \n",
    "    return names"
   ]
  },
  {
   "cell_type": "code",
   "execution_count": 4,
   "metadata": {
    "collapsed": true
   },
   "outputs": [],
   "source": [
    "def get_songs(artist):\n",
    "    return api.search_artist(artist, verbose=False, max_songs=2)"
   ]
  },
  {
   "cell_type": "code",
   "execution_count": 5,
   "metadata": {
    "collapsed": false
   },
   "outputs": [],
   "source": [
    "artists = get_artists(artist_url, page_downs, driver_path)"
   ]
  },
  {
   "cell_type": "code",
   "execution_count": 6,
   "metadata": {
    "collapsed": false
   },
   "outputs": [
    {
     "name": "stdout",
     "output_type": "stream",
     "text": [
      "['Eminem', 'Tupac', 'The Notorious B.I.G.', 'Nas', 'Ice Cube', 'Jay-Z', 'Snoop Dogg', 'Dr. Dre', 'Kendrick Lamar', 'Rakim', 'André 3000', 'Eazy-E', '50 Cent', 'Kanye West', 'DMX', 'J. Cole', 'Busta Rhymes', 'Method Man', 'Mos Def', 'Lil Wayne', 'Ludacris', 'KRS-One', 'LL Cool J', 'Common', 'Ghostface Killah', 'Big L', 'Redman', 'T.I.', 'Big Pun', 'Nate Dogg', 'Tech N9ne', 'Lauryn Hill', 'Scarface', 'Raekwon', 'Slick Rick', 'The Game', 'Big Daddy Kane', \"Ol' Dirty Bastard\", 'Mobb Deep', 'Chance the Rapper', 'Logic', 'Cypress Hill', 'Ice-T', 'Lupe Fiasco', 'RZA', 'GZA', 'Warren G', 'Q-Tip', 'Xzibit', 'Talib Kweli']\n"
     ]
    }
   ],
   "source": [
    "print(artists)"
   ]
  },
  {
   "cell_type": "code",
   "execution_count": null,
   "metadata": {
    "collapsed": true
   },
   "outputs": [],
   "source": [
    "music = []\n",
    "for artist in artists:\n",
    "    try:\n",
    "        music = music + get_songs(artist).songs\n",
    "    except AssertionError:\n",
    "        pass"
   ]
  },
  {
   "cell_type": "code",
   "execution_count": 79,
   "metadata": {
    "collapsed": false
   },
   "outputs": [
    {
     "name": "stdout",
     "output_type": "stream",
     "text": [
      "[('16 on Death Row', '2Pac'), ('187 On A Hook (Remix)', '2Pac'), ('1-833-2GET-REV (REVIVAL Voicemail)', 'Eminem'), ('1996 Underground Freestyle', 'Eminem'), (\"1970 Somethin'\", 'The Notorious B.I.G.'), ('1991 Block Party Freestyle', 'The Notorious B.I.G.'), ('1996 Freestyle', 'Nas'), ('1 Shot', 'Nas'), (\"$100 Dollar Bill Y'all\", 'Ice Cube'), ('24 Mo Hours', 'Ice Cube'), (\"'03 Bonnie & Clyde\", 'JAY-Z'), ('100$ Bill', 'JAY-Z'), (\"10 Lil' Crips\", 'Snoop Dogg'), ('1800', 'Snoop Dogg'), ('187um (Deep Cover Remix)', 'Dr. Dre'), ('2001 [Credits]', 'Dr. Dre'), ('2018 Grammys Performance', 'Kendrick Lamar'), ('2DopeBoyz Freestyle', 'Kendrick Lamar'), ('A Richer Shade Of Blue', 'André 3000'), ('Back to Black', 'André 3000'), ('24 Hours To Live (Remix)', 'Eazy-E'), ('24 Hrs to Live', 'Eazy-E'), ('187 Yayo', '50 Cent'), ('21 Questions', '50 Cent'), (\"'03 Electric Relaxation\", 'Kanye West'), ('18 Years', 'Kanye West'), ('4, 3, 2, 1 Freestyle', 'DMX'), ('56 Bars', 'DMX'), (\"03' Adolescence\", 'J. Cole'), ('1-888-88-DREAM', 'J. Cole'), ('60 seconds assasin', 'Busta Rhymes'), ('AAAHHHH!!!', 'Busta Rhymes'), ('1, 2, 1, 2', 'Method Man'), ('2 Minutes of Your Time', 'Method Man'), ('A Brighter Day', 'Yasiin Bey'), ('A Ha', 'Yasiin Bey'), ('10,000 Bars', 'Lil Wayne'), ('100 Bands', 'Lil Wayne'), ('1st & 10', 'Ludacris'), ('9 Times Out Of 10', 'Ludacris'), ('1st Quarter - The Commentary', 'KRS-One'), ('2nd Quarter - Free Throws', 'KRS-One'), ('10 Million Stars', 'LL Cool J'), ('1-900-LL Cool J', 'LL Cool J'), ('1, 2 Many', 'Common'), ('16 Bars', 'Common'), ('260', 'Ghostface Killah'), ('2getha Baby', 'Ghostface Killah'), ('139 - Tony Touch', 'Big L'), ('560 Tape Freestyle', 'Big L'), ('2 Tears In A Bucket', 'Redman'), ('A Day of Sooperman Lover', 'Redman'), (\"24's\", 'T.I.'), (\"24's (Hypnotize Remix)\", 'T.I.'), ('100%', 'Big Pun'), ('Air Pun (skit)', 'Big Pun'), ('All Night Long', 'Nate Dogg'), ('Almost in Love', 'Nate Dogg'), ('00N9NA', 'Tech N9ne'), ('1zie', 'Tech N9ne'), ('1996 Freestyle', 'Lauryn Hill'), ('Adam Lives in Theory', 'Lauryn Hill'), ('11-09-2000', 'Scarface'), ('2 Real', 'Scarface'), ('100 Rounds', 'Raekwon'), ('10 Bricks', 'Raekwon'), ('2 Way Street', 'Slick Rick'), ('Adults Only', 'Slick Rick'), ('100', 'The Game'), ('100 Bars and Runnin', 'The Game'), ('28 Bars Of Kane', 'Big Daddy Kane'), ('2 Da Good Tymz', 'Big Daddy Kane'), ('96 recreation (demo)', \"Ol' Dirty Bastard\"), ('All in Together Now', \"Ol' Dirty Bastard\"), ('Adrenaline', 'Mobb Deep'), ('Air It Out', 'Mobb Deep'), ('10 Day Outfit (10 Day Listening Party)', 'Chance The Rapper'), ('10 Day [Tracklist + Cover Art]', 'Chance The Rapper'), ('16 Bars Freestyle', 'Logic'), ('1-800-273-8255', 'Logic'), (\"16 Men Till There's No Men Left\", 'Cypress Hill'), (\"3 Lil' Putos\", 'Cypress Hill'), ('409', 'Ice-T'), (\"6 'N the Mornin'\", 'Ice-T'), ('1st & 15th', 'Lupe Fiasco'), ('4 Real', 'Lupe Fiasco'), ('2 Left Shoes', 'RZA'), ('A Day to God is 1,000 Years (Stay With Me)', 'RZA'), ('0% Finance', 'GZA'), ('1112', 'GZA'), (\"'94  Ho Draft\", 'Warren G'), ('A Dope Beat', 'Warren G'), ('Abstractionisms', 'Q-Tip'), ('All In', 'Q-Tip'), ('1983', 'Xzibit'), ('1983 Remix', 'Xzibit'), ('1st Time (feat. Consequence)', 'Talib Kweli'), ('2000 Seasons', 'Talib Kweli')]\n"
     ]
    }
   ],
   "source": [
    "print(music)"
   ]
  },
  {
   "cell_type": "code",
   "execution_count": 107,
   "metadata": {
    "collapsed": false
   },
   "outputs": [
    {
     "name": "stdout",
     "output_type": "stream",
     "text": [
      "                 artist                                song  \\\n",
      "0                  2Pac                     16 on Death Row   \n",
      "1                  2Pac               187 On A Hook (Remix)   \n",
      "2                Eminem  1-833-2GET-REV (REVIVAL Voicemail)   \n",
      "3                Eminem          1996 Underground Freestyle   \n",
      "4  The Notorious B.I.G.                      1970 Somethin'   \n",
      "\n",
      "                           album  \\\n",
      "0  R U Still Down? (Remember Me)   \n",
      "1                           None   \n",
      "2                           None   \n",
      "3                           None   \n",
      "4       Duets: The Final Chapter   \n",
      "\n",
      "                                              lyrics  \n",
      "0  Death Row\\nThat's where mothafuckas is endin' ...  \n",
      "1   (2X)\\nWest side, it's 187 on a motherfucking ...  \n",
      "2  Thank you for your interest in Revival, the nu...  \n",
      "3  Any rapper saying those kind of rhymes\\nIn thi...  \n",
      "4  1970 somethin', 1970 somethin'\\n1970 somethin'...  \n"
     ]
    }
   ],
   "source": [
    "df = pd.DataFrame()\n",
    "df['artist'] = list(map(lambda x: x.artist, music))\n",
    "df['song'] = list(map(lambda x: x.title, music))\n",
    "df['album'] = list(map(lambda x: x.album, music))\n",
    "df['lyrics'] = list(map(lambda x: x.lyrics, music))\n",
    "print(df.head())"
   ]
  },
  {
   "cell_type": "code",
   "execution_count": 37,
   "metadata": {
    "collapsed": true
   },
   "outputs": [],
   "source": [
    "# headers = {'Authorization': 'Bearer %s' % genius_client_access_token}\n",
    "# search_url = base_url + '/search'\n",
    "# song_title = 'Mercy'\n",
    "# params = {'q': song_title}\n",
    "# response = requests.get(search_url, params=params, headers=headers)\n",
    "# json = response.json()\n",
    "# print(json)"
   ]
  },
  {
   "cell_type": "code",
   "execution_count": null,
   "metadata": {
    "collapsed": true
   },
   "outputs": [],
   "source": [
    "df.to_csv('genius.csv')"
   ]
  }
 ],
 "metadata": {
  "kernelspec": {
   "display_name": "Python 3",
   "language": "python",
   "name": "python3"
  },
  "language_info": {
   "codemirror_mode": {
    "name": "ipython",
    "version": 3
   },
   "file_extension": ".py",
   "mimetype": "text/x-python",
   "name": "python",
   "nbconvert_exporter": "python",
   "pygments_lexer": "ipython3",
   "version": "3.5.4"
  }
 },
 "nbformat": 4,
 "nbformat_minor": 1
}
