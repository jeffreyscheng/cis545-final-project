{
 "cells": [
  {
   "cell_type": "code",
   "execution_count": 16,
   "metadata": {
    "collapsed": false
   },
   "outputs": [
    {
     "name": "stdout",
     "output_type": "stream",
     "text": [
      "Requirement already satisfied: lyricsgenius in /home/jeffreycheng/anaconda3/lib/python3.5/site-packages (0.4.2)\n",
      "Requirement already satisfied: requests==2.18.1 in /home/jeffreycheng/anaconda3/lib/python3.5/site-packages (from lyricsgenius) (2.18.1)\n",
      "Requirement already satisfied: beautifulsoup4==4.6.0 in /home/jeffreycheng/anaconda3/lib/python3.5/site-packages (from lyricsgenius) (4.6.0)\n",
      "Requirement already satisfied: certifi>=2017.4.17 in /home/jeffreycheng/anaconda3/lib/python3.5/site-packages (from requests==2.18.1->lyricsgenius) (2018.1.18)\n",
      "Requirement already satisfied: chardet<3.1.0,>=3.0.2 in /home/jeffreycheng/anaconda3/lib/python3.5/site-packages (from requests==2.18.1->lyricsgenius) (3.0.4)\n",
      "Requirement already satisfied: idna<2.6,>=2.5 in /home/jeffreycheng/anaconda3/lib/python3.5/site-packages (from requests==2.18.1->lyricsgenius) (2.5)\n",
      "Requirement already satisfied: urllib3<1.22,>=1.21.1 in /home/jeffreycheng/anaconda3/lib/python3.5/site-packages (from requests==2.18.1->lyricsgenius) (1.21.1)\n",
      "Requirement already satisfied: spotipy in /home/jeffreycheng/anaconda3/lib/python3.5/site-packages (2.4.4)\n",
      "Requirement already satisfied: requests>=1.0 in /home/jeffreycheng/anaconda3/lib/python3.5/site-packages (from spotipy) (2.18.1)\n",
      "Requirement already satisfied: chardet<3.1.0,>=3.0.2 in /home/jeffreycheng/anaconda3/lib/python3.5/site-packages (from requests>=1.0->spotipy) (3.0.4)\n",
      "Requirement already satisfied: urllib3<1.22,>=1.21.1 in /home/jeffreycheng/anaconda3/lib/python3.5/site-packages (from requests>=1.0->spotipy) (1.21.1)\n",
      "Requirement already satisfied: certifi>=2017.4.17 in /home/jeffreycheng/anaconda3/lib/python3.5/site-packages (from requests>=1.0->spotipy) (2018.1.18)\n",
      "Requirement already satisfied: idna<2.6,>=2.5 in /home/jeffreycheng/anaconda3/lib/python3.5/site-packages (from requests>=1.0->spotipy) (2.5)\n",
      "Requirement already satisfied: selenium in /home/jeffreycheng/anaconda3/lib/python3.5/site-packages (3.11.0)\n"
     ]
    }
   ],
   "source": [
    "import sys\n",
    "!{sys.executable} -m pip install lyricsgenius\n",
    "!{sys.executable} -m pip install spotipy\n",
    "!{sys.executable} -m pip install selenium\n",
    "import pandas as pd\n",
    "import requests\n",
    "import lyricsgenius as genius\n",
    "import spotipy\n",
    "import time\n",
    "from selenium import webdriver\n",
    "from selenium.webdriver.common.keys import Keys"
   ]
  },
  {
   "cell_type": "code",
   "execution_count": 17,
   "metadata": {
    "collapsed": true
   },
   "outputs": [],
   "source": [
    "genius_client_id = 'Qeii-UKMUUwsAYCuuemsF7CZk7R2bFDhjP1FMkqpozASvYsA4wQDlLmd2JFM3Vhm'\n",
    "genius_secret_id = 'fWhV7VtwAL-5D32Ga9Y0Kyh_VFEo7XK0Jf8-3RMcZ5EoMXqsDpmFWFFPyobnibfMXJuJ-GZe69YEuXR-36VGAA'\n",
    "genius_client_access_token = '1QVL91jZbgdOIhvYhqKku_zkFDf6MHEyLpXEITHU2tE2HGvAqYIPInTrQaWcInD7'\n",
    "app_website_url = 'http://cis545genius.com'\n",
    "redirect_uri = 'cis545genius.com'\n",
    "base_url = 'https://api.genius.com'\n",
    "# driver_path = '/Users/ericdong/Downloads/chromedriver'\n",
    "driver_path = \"/mnt/c/Users/jeffr/Downloads/chromedriver_win32/chromedriver.exe\"\n",
    "artist_url = 'https://www.ranker.com/crowdranked-list/the-greatest-rappers-of-all-time'\n",
    "page_downs = 0\n",
    "api = genius.Genius(genius_client_access_token)\n",
    "\n",
    "spotify_client_id = '96bdc763e3b5446ebbd6c44850055bcb'\n",
    "spotify_secret_id = 'f7a5054823ed491aa1856ecdc7849062'\n"
   ]
  },
  {
   "cell_type": "code",
   "execution_count": 18,
   "metadata": {
    "collapsed": true
   },
   "outputs": [],
   "source": [
    "def get_artists(url, page_downs, driver_path):\n",
    "    driver = webdriver.Chrome(driver_path)\n",
    "    driver.get(url)\n",
    "    time.sleep(1)\n",
    "    page = driver.find_element_by_tag_name('body')\n",
    "    for i in range(page_downs):\n",
    "        page.send_keys(Keys.PAGE_DOWN)\n",
    "        time.sleep(0.2)\n",
    "    artists = driver.find_elements_by_class_name('listItem__data')\n",
    "    names = [artist.find_element_by_class_name('listItem__title').text for artist in artists[:-1]]\n",
    "    driver.quit()\n",
    "    \n",
    "    return names"
   ]
  },
  {
   "cell_type": "code",
   "execution_count": 19,
   "metadata": {
    "collapsed": true
   },
   "outputs": [],
   "source": [
    "def get_songs(artist):\n",
    "    return api.search_artist(artist, verbose=False, max_songs=10)"
   ]
  },
  {
   "cell_type": "code",
   "execution_count": 20,
   "metadata": {
    "collapsed": false
   },
   "outputs": [],
   "source": [
    "artists = get_artists(artist_url, page_downs, driver_path)"
   ]
  },
  {
   "cell_type": "code",
   "execution_count": 21,
   "metadata": {
    "collapsed": false
   },
   "outputs": [
    {
     "name": "stdout",
     "output_type": "stream",
     "text": [
      "['Tupac', 'Eminem', 'The Notorious B.I.G.', 'Nas', 'Ice Cube', 'Jay-Z', 'Snoop Dogg', 'Dr. Dre', 'Kendrick Lamar', 'Rakim', 'André 3000', 'Eazy-E', '50 Cent', 'Kanye West', 'DMX', 'J. Cole', 'Busta Rhymes', 'Method Man', 'Mos Def', 'Lil Wayne', 'Ludacris', 'KRS-One', 'LL Cool J', 'Common', 'Ghostface Killah', 'Big L', 'Redman', 'T.I.', 'Big Pun', 'Nate Dogg', 'Tech N9ne', 'Lauryn Hill', 'Scarface', 'Slick Rick', 'The Game', 'Raekwon', 'Big Daddy Kane', \"Ol' Dirty Bastard\", 'Mobb Deep', 'Chance the Rapper', 'Logic', 'Cypress Hill', 'Ice-T', 'Lupe Fiasco', 'RZA', 'GZA', 'Warren G', 'Q-Tip', 'Xzibit', 'ASAP Rocky']\n"
     ]
    }
   ],
   "source": [
    "print(artists)"
   ]
  },
  {
   "cell_type": "code",
   "execution_count": 22,
   "metadata": {
    "collapsed": true
   },
   "outputs": [],
   "source": [
    "# test set of artists\n",
    "artists = ['Kanye West', 'Migos']"
   ]
  },
  {
   "cell_type": "code",
   "execution_count": 23,
   "metadata": {
    "collapsed": true
   },
   "outputs": [],
   "source": [
    "music = []\n",
    "for artist in artists:\n",
    "    try:\n",
    "        music = music + get_songs(artist).songs\n",
    "    except AssertionError:\n",
    "        pass"
   ]
  },
  {
   "cell_type": "code",
   "execution_count": 24,
   "metadata": {
    "collapsed": false
   },
   "outputs": [
    {
     "name": "stdout",
     "output_type": "stream",
     "text": [
      "[(\"'03 Electric Relaxation\", 'Kanye West'), ('18 Years', 'Kanye West'), ('1996 Fat Beats Freestyle', 'Kanye West'), ('2002 Unreleased Freestyle', 'Kanye West'), ('2004 Tim Westwood Freestyle', 'Kanye West'), ('2013 Yeezus Tour Dates', 'Kanye West'), ('2013 Zane Lowe BBC Radio Interview Part 1', 'Kanye West'), ('2013 Zane Lowe BBC Radio Interview Part 2', 'Kanye West'), ('2014 Yeezus Tour Dates', 'Kanye West'), ('2015 BET Honors Visionary Award Acceptance Speech', 'Kanye West'), ('1017', 'Migos'), ('11 Birds', 'Migos'), ('2Pac & Biggie', 'Migos'), ('3 Mics', 'Migos'), ('3 Way EP [Album Art + Tracklist]', 'Migos'), ('3 Way (Intro)', 'Migos'), ('50 Bitches (Lick It Off)', 'Migos'), ('50 Chicks', 'Migos'), ('9 On Me', 'Migos'), ('Add It Up', 'Migos')]\n"
     ]
    }
   ],
   "source": [
    "print(music)"
   ]
  },
  {
   "cell_type": "code",
   "execution_count": 25,
   "metadata": {
    "collapsed": false
   },
   "outputs": [
    {
     "data": {
      "text/html": [
       "<div>\n",
       "<table border=\"1\" class=\"dataframe\">\n",
       "  <thead>\n",
       "    <tr style=\"text-align: right;\">\n",
       "      <th></th>\n",
       "      <th>artist</th>\n",
       "      <th>song</th>\n",
       "      <th>album</th>\n",
       "      <th>lyrics</th>\n",
       "    </tr>\n",
       "  </thead>\n",
       "  <tbody>\n",
       "    <tr>\n",
       "      <th>0</th>\n",
       "      <td>Kanye West</td>\n",
       "      <td>'03 Electric Relaxation</td>\n",
       "      <td>None</td>\n",
       "      <td>You got to\\n\\nRelax yourself or we'll whack ya...</td>\n",
       "    </tr>\n",
       "    <tr>\n",
       "      <th>1</th>\n",
       "      <td>Kanye West</td>\n",
       "      <td>18 Years</td>\n",
       "      <td>Def Poetry Jam</td>\n",
       "      <td>The next guest.. is my man\\nBringing him back,...</td>\n",
       "    </tr>\n",
       "    <tr>\n",
       "      <th>2</th>\n",
       "      <td>Kanye West</td>\n",
       "      <td>1996 Fat Beats Freestyle</td>\n",
       "      <td>None</td>\n",
       "      <td>Yo it's the Lake Shore Drive\\nKeep it live, ti...</td>\n",
       "    </tr>\n",
       "    <tr>\n",
       "      <th>3</th>\n",
       "      <td>Kanye West</td>\n",
       "      <td>2002 Unreleased Freestyle</td>\n",
       "      <td>None</td>\n",
       "      <td>Ayo\\nPlanes, trains, automobiles\\nThe G500s wi...</td>\n",
       "    </tr>\n",
       "    <tr>\n",
       "      <th>4</th>\n",
       "      <td>Kanye West</td>\n",
       "      <td>2004 Tim Westwood Freestyle</td>\n",
       "      <td>None</td>\n",
       "      <td>I told her to drive over after dude crib\\nBrin...</td>\n",
       "    </tr>\n",
       "  </tbody>\n",
       "</table>\n",
       "</div>"
      ],
      "text/plain": [
       "       artist                         song           album  \\\n",
       "0  Kanye West      '03 Electric Relaxation            None   \n",
       "1  Kanye West                     18 Years  Def Poetry Jam   \n",
       "2  Kanye West     1996 Fat Beats Freestyle            None   \n",
       "3  Kanye West    2002 Unreleased Freestyle            None   \n",
       "4  Kanye West  2004 Tim Westwood Freestyle            None   \n",
       "\n",
       "                                              lyrics  \n",
       "0  You got to\\n\\nRelax yourself or we'll whack ya...  \n",
       "1  The next guest.. is my man\\nBringing him back,...  \n",
       "2  Yo it's the Lake Shore Drive\\nKeep it live, ti...  \n",
       "3  Ayo\\nPlanes, trains, automobiles\\nThe G500s wi...  \n",
       "4  I told her to drive over after dude crib\\nBrin...  "
      ]
     },
     "execution_count": 25,
     "metadata": {},
     "output_type": "execute_result"
    }
   ],
   "source": [
    "df = pd.DataFrame()\n",
    "df['artist'] = list(map(lambda x: x.artist, music))\n",
    "df['song'] = list(map(lambda x: x.title, music))\n",
    "df['album'] = list(map(lambda x: x.album, music))\n",
    "df['lyrics'] = list(map(lambda x: x.lyrics, music))\n",
    "df.head()"
   ]
  },
  {
   "cell_type": "code",
   "execution_count": 104,
   "metadata": {
    "collapsed": false
   },
   "outputs": [
    {
     "name": "stdout",
     "output_type": "stream",
     "text": [
      "1996 Fat Beats Freestyle\n",
      "{'current_user_metadata': {'permissions': ['see_pageviews', 'create_comment', 'view_song_story_gallery'], 'relationships': {}, 'iq_by_action': {}, 'excluded_permissions': ['follow', 'award_transcription_iq', 'remove_transcription_iq', 'pyong', 'edit_lyrics', 'view_annotation_engagement_data', 'publish', 'unpublish', 'edit_spotify_details', 'hide', 'unhide', 'toggle_featured_video', 'add_pinned_annotation_to', 'add_community_annotation_to', 'destroy', 'mark_as_not_spam', 'edit_spotify_annotations_for', 'verify_lyrics', 'unverify_lyrics', 'edit_anything', 'edit_album_appearances', 'edit_any_media', 'edit', 'rename', 'edit_tags', 'watch_fact_track', 'reindex', 'view_lyrics_synchronization', 'enable_media', 'disable_media', 'edit_lyrics_or_annotation_brackets', 'see_editorial_indicators', 'view_attribution_visualization', 'edit_youtube_url', 'edit_soundcloud_url', 'edit_spotify_uuid', 'edit_apple_music_url', 'edit_vevo_url', 'moderate_annotations', 'create_annotation', 'see_short_id', 'manage_chart_item', 'create_tag'], 'interactions': {'following': False, 'pyong': False}}, 'annotation_count': 13, 'song_art_image_thumbnail_url': 'https://images.genius.com/2182acf08ba673008132b0278baff86a.300x300x1.jpg', 'writer_artists': [], 'primary_artist': {'id': 72, 'api_path': '/artists/72', 'is_verified': False, 'is_meme_verified': False, 'url': 'https://genius.com/artists/Kanye-west', 'header_image_url': 'https://images.genius.com/93a98116162c07aa60e8a15fe7fb6977.800x480x1.jpg', 'image_url': 'https://images.genius.com/2182acf08ba673008132b0278baff86a.803x803x1.jpg', 'name': 'Kanye West'}, 'album': None, 'release_date': '1996-08-01', 'full_title': '1996 Fat Beats Freestyle by\\xa0Kanye\\xa0West', 'stats': {'transcribers': 3, 'hot': False, 'verified_annotations': 0, 'accepted_annotations': 12, 'iq_earners': 25, 'unreviewed_annotations': 0, 'pageviews': 6337, 'contributors': 26}, 'path': '/Kanye-west-1996-fat-beats-freestyle-lyrics', 'verified_annotations_by': [], 'title_with_featured': '1996 Fat Beats Freestyle', 'description_annotation': {'classification': 'accepted', 'fragment': '1996 Fat Beats Freestyle', 'is_description': True, 'verified_annotator_ids': [], 'annotations': [{'current_user_metadata': {'permissions': ['create_comment'], 'iq_by_action': {}, 'excluded_permissions': ['vote', 'edit', 'cosign', 'uncosign', 'destroy', 'accept', 'reject', 'see_unreviewed', 'clear_votes', 'propose_edit_to', 'pin_to_profile', 'unpin_from_profile', 'update_source', 'set_brand', 'clear_brand', 'edit_custom_preview'], 'interactions': {'vote': None, 'cosign': False, 'pyong': False}}, 'custom_preview': None, 'authors': [{'pinned_role': None, 'attribution': 0.9310344827586207, 'user': {'iq': 1905880, 'role_for_display': 'staff', 'id': 104344, 'api_path': '/users/104344', 'current_user_metadata': {'permissions': [], 'features': [], 'excluded_permissions': ['follow'], 'interactions': {'following': False}}, 'avatar': {'tiny': {'bounding_box': {'height': 16, 'width': 16}, 'url': 'https://images.genius.com/9ac64405f08557cbf4062b5ca37643e6.1000x1000x1.jpg'}, 'thumb': {'bounding_box': {'height': 32, 'width': 32}, 'url': 'https://images.genius.com/9ac64405f08557cbf4062b5ca37643e6.1000x1000x1.jpg'}, 'small': {'bounding_box': {'height': 100, 'width': 100}, 'url': 'https://images.genius.com/9ac64405f08557cbf4062b5ca37643e6.1000x1000x1.jpg'}, 'medium': {'bounding_box': {'height': 400, 'width': 300}, 'url': 'https://images.genius.com/9ac64405f08557cbf4062b5ca37643e6.1000x1000x1.jpg'}}, 'url': 'https://genius.com/streetlights', 'header_image_url': 'https://images.genius.com/49f2b339a8580c0f005a77fffb709a7b.1000x668x1.jpg', 'login': 'streetlights', 'human_readable_role_for_display': 'Staff', 'name': '\\u200bstreetlights'}}, {'pinned_role': None, 'attribution': 0.05172413793103448, 'user': {'iq': 139, 'role_for_display': None, 'id': 2895026, 'api_path': '/users/2895026', 'current_user_metadata': {'permissions': [], 'features': [], 'excluded_permissions': ['follow'], 'interactions': {'following': False}}, 'avatar': {'tiny': {'bounding_box': {'height': 16, 'width': 16}, 'url': 'https://images.rapgenius.com/avatars/tiny/cfaeda79c0659c3d39d742b924884454'}, 'thumb': {'bounding_box': {'height': 32, 'width': 32}, 'url': 'https://images.rapgenius.com/avatars/thumb/cfaeda79c0659c3d39d742b924884454'}, 'small': {'bounding_box': {'height': 100, 'width': 100}, 'url': 'https://images.rapgenius.com/avatars/small/cfaeda79c0659c3d39d742b924884454'}, 'medium': {'bounding_box': {'height': 400, 'width': 300}, 'url': 'https://images.rapgenius.com/avatars/medium/cfaeda79c0659c3d39d742b924884454'}}, 'url': 'https://genius.com/enovid', 'header_image_url': 'https://images.rapgenius.com/avatars/medium/cfaeda79c0659c3d39d742b924884454', 'login': 'enovid', 'human_readable_role_for_display': None, 'name': 'enovid'}}, {'pinned_role': None, 'attribution': 0.017241379310344827, 'user': {'iq': 13997, 'role_for_display': 'editor', 'id': 30579, 'api_path': '/users/30579', 'current_user_metadata': {'permissions': [], 'features': [], 'excluded_permissions': ['follow'], 'interactions': {'following': False}}, 'avatar': {'tiny': {'bounding_box': {'height': 16, 'width': 16}, 'url': 'https://s3.amazonaws.com/rapgenius/avatars/tiny/30579_29756779-300x225.jpg'}, 'thumb': {'bounding_box': {'height': 32, 'width': 32}, 'url': 'https://s3.amazonaws.com/rapgenius/avatars/thumb/1358289005_30579_29756779-300x225.jpg'}, 'small': {'bounding_box': {'height': 100, 'width': 100}, 'url': 'https://s3.amazonaws.com/rapgenius/avatars/small/1358289005_30579_29756779-300x225.jpg'}, 'medium': {'bounding_box': {'height': 400, 'width': 300}, 'url': 'https://s3.amazonaws.com/rapgenius/avatars/medium/1358289005_30579_29756779-300x225.jpg'}}, 'url': 'https://genius.com/Guv', 'header_image_url': 'https://s3.amazonaws.com/rapgenius/avatars/medium/1358289005_30579_29756779-300x225.jpg', 'login': 'Guv', 'human_readable_role_for_display': 'Editor', 'name': 'Guv'}}], 'verified_by': None, 'community': True, 'has_voters': True, 'body': {'dom': {'tag': 'root', 'children': [{'tag': 'p', 'children': ['NYC record store Fat Beats relocated in 1996 and celebrated their move by hosting a cypher including the likes of ', {'tag': 'a', 'attributes': {'href': 'https://genius.com/artists/Ill-bill'}, 'data': {'api_path': '/artists/1780'}, 'children': ['Ill Bill']}, ', ', {'tag': 'a', 'attributes': {'href': 'https://genius.com/artists/Lord-finesse'}, 'data': {'api_path': '/artists/430'}, 'children': ['Lord Finesse']}, ', ', {'tag': 'a', 'attributes': {'href': 'https://genius.com/artists/Al-tariq'}, 'data': {'api_path': '/artists/3047'}, 'children': [\"Al' Tariq\"]}, ', ', {'tag': 'a', 'attributes': {'href': 'https://genius.com/artists/Xzibit'}, 'data': {'api_path': '/artists/291'}, 'children': ['Xzibit']}, ', etc. Out of all of these big names, the 19 year old ', {'tag': 'a', 'attributes': {'href': 'https://genius.com/artists/Kanye-west'}, 'data': {'api_path': '/artists/72'}, 'children': ['Kanye West']}, ' stood out, debuting this amazing freestyle that would forecast the bright future he would create for himself.']}]}}, 'cosigned_by': [], 'state': 'accepted', 'verified': False, 'pinned': False, 'rejection_comment': None, 'comment_count': 0, 'id': 3615761, 'api_path': '/annotations/3615761', 'source': None, 'url': 'https://genius.com/3615761/Kanye-west-1996-fat-beats-freestyle/1996-fat-beats-freestyle', 'votes_total': 4, 'share_url': 'https://genius.com/3615761'}], 'song_id': 480181, 'annotator_id': 104344, 'id': 3615761, 'annotator_login': 'streetlights', 'range': {'content': '1996 Fat Beats Freestyle'}, 'path': '/3615761/Kanye-west-1996-fat-beats-freestyle/1996-fat-beats-freestyle', 'url': 'https://genius.com/3615761/Kanye-west-1996-fat-beats-freestyle/1996-fat-beats-freestyle', '_type': 'referent', 'annotatable': {'client_timestamps': {'lyrics_updated_at': 1496206369, 'updated_by_human_at': 1496206369}, 'id': 480181, 'api_path': '/songs/480181', 'type': 'Song', 'title': '1996 Fat Beats Freestyle', 'link_title': '1996 Fat Beats Freestyle by\\xa0Kanye\\xa0West', 'url': 'https://genius.com/Kanye-west-1996-fat-beats-freestyle-lyrics', 'image_url': 'https://images.genius.com/2182acf08ba673008132b0278baff86a.803x803x1.jpg', 'context': 'Kanye West'}, 'api_path': '/referents/3615761'}, 'producer_artists': [], 'lyrics': \"Yo it's the Lake Shore Drive\\nKeep it live, tight, raw\\nYou better hurry up, they can't keep it in the store\\nTo be the format, your whole style on one beat\\nInsert the disk, watch a nigga press delete\\nTryna flex your technique\\nYou gettin' blasted with a TEC, that shit is mad ironic\\nLike Alanis Morisette, you try but can't jet\\nBunch of airline lyrics, rhymes for low fare\\nFlyin' out of O'Hare\\nWhile these no-name ass niggas wanna go there, nobodies\\nLivin' three blocks from nowhere, down the street from nothin'\\nLet me show these niggas somethin', visual aid, the page\\nAnd the nigga who fronted, word to God, they don't want it\\nBut they wanna play the role, actin' hardcore\\nWatch the whole career, flow, my style is too cold\\nAlways, forever like Luther, but it ain't original\\nBecause I stole it from the future, now I'm wanted in three centuries\\nThe verbal killin', ask me where I got the style\\nTold 'em from my grandchildren, put it on files\\nDocument it in the books\\nYou niggas can't see me so cease the hard looks\\nI'll rather it get took\\nLive and die for rhymes, dedicated to hip-hop\\nShit don't stop\\nNiggas they wanna know what and who's next\\nAnd you roll up in a Lex\\nThat's the train stop, my brain drop mad lyrics\\nI rhyme with the spirit off the top, I drop nonstop\\nVerbally killin', my style is ready to willin'\\nY'all niggas stay back chillin'\\nLike EPMD y'all niggas ain't seein' me, what\\nWe're enormous, nah, do or die\\nI got the rhymes on the brain\\nThey tried to bomb me on the plane so I rode the train\\nBefore I got here, spawned here\\nI'm 'bout to save this shit, yo it's my year, what!?\\nBring it on, pass it to my man Tariq\\nRock the mic all week\", 'media': [{'type': 'video', 'url': 'http://www.youtube.com/watch?v=rd6NS7CIqVU', 'provider': 'youtube', 'start': 0}], 'lyrics_owner_id': 104344, 'header_image_thumbnail_url': 'https://images.genius.com/2182acf08ba673008132b0278baff86a.300x300x1.jpg', 'recording_location': 'Second Floor of Fat Beats Records Store at 6th Avenue, New York City, New York', 'description': {'dom': {'tag': 'root', 'children': [{'tag': 'p', 'children': ['NYC record store Fat Beats relocated in 1996 and celebrated their move by hosting a cypher including the likes of ', {'tag': 'a', 'attributes': {'href': 'https://genius.com/artists/Ill-bill'}, 'data': {'api_path': '/artists/1780'}, 'children': ['Ill Bill']}, ', ', {'tag': 'a', 'attributes': {'href': 'https://genius.com/artists/Lord-finesse'}, 'data': {'api_path': '/artists/430'}, 'children': ['Lord Finesse']}, ', ', {'tag': 'a', 'attributes': {'href': 'https://genius.com/artists/Al-tariq'}, 'data': {'api_path': '/artists/3047'}, 'children': [\"Al' Tariq\"]}, ', ', {'tag': 'a', 'attributes': {'href': 'https://genius.com/artists/Xzibit'}, 'data': {'api_path': '/artists/291'}, 'children': ['Xzibit']}, ', etc. Out of all of these big names, the 19 year old ', {'tag': 'a', 'attributes': {'href': 'https://genius.com/artists/Kanye-west'}, 'data': {'api_path': '/artists/72'}, 'children': ['Kanye West']}, ' stood out, debuting this amazing freestyle that would forecast the bright future he would create for himself.']}]}}, 'header_image_url': 'https://images.genius.com/2182acf08ba673008132b0278baff86a.803x803x1.jpg', 'featured_artists': [], 'lyrics_state': 'complete', 'embed_content': \"<div id='rg_embed_link_480181' class='rg_embed_link' data-song-id='480181'>Read <a href='https://genius.com/Kanye-west-1996-fat-beats-freestyle-lyrics'>“1996 Fat Beats Freestyle” by Kanye\\xa0West</a> on Genius</div> <script crossorigin src='//genius.com/songs/480181/embed.js'></script>\", 'featured_video': True, 'song_relationships': [{'songs': [], 'type': 'samples'}, {'songs': [], 'type': 'sampled_in'}, {'songs': [], 'type': 'interpolates'}, {'songs': [], 'type': 'interpolated_by'}, {'songs': [], 'type': 'cover_of'}, {'songs': [], 'type': 'covered_by'}, {'songs': [], 'type': 'remix_of'}, {'songs': [], 'type': 'remixed_by'}, {'songs': [], 'type': 'live_version_of'}, {'songs': [], 'type': 'performed_live_as'}], 'verified_lyrics_by': [], 'song_art_image_url': 'https://images.genius.com/2182acf08ba673008132b0278baff86a.803x803x1.jpg', 'title': '1996 Fat Beats Freestyle', 'api_path': '/songs/480181', 'verified_contributors': [], 'id': 480181, 'pyongs_count': 25, 'url': 'https://genius.com/Kanye-west-1996-fat-beats-freestyle-lyrics', 'custom_performances': []}\n"
     ]
    },
    {
     "data": {
      "text/plain": [
       "[None]"
      ]
     },
     "execution_count": 104,
     "metadata": {},
     "output_type": "execute_result"
    }
   ],
   "source": [
    "# list(map(lambda x: x.annotation, music))\n",
    "# print(type(music[0]))\n",
    "# print(music[0].__dict__['_body'])\n",
    "\n",
    "import requests\n",
    "from bs4 import BeautifulSoup\n",
    "import json\n",
    "\n",
    "\n",
    "def get_annotations(song):\n",
    "    print(song.title)\n",
    "    api_calls=[annotation['api_path'] for annotation in song.__dict__['_body']['description_annotation']['annotations']]\n",
    "    print(song.__dict__['_body'])\n",
    "#     print(api_calls)\n",
    "    def get_from_api(api_url):\n",
    "#         print('http://api.genius.com' + api_url)\n",
    "        page = requests.get('http://api.genius.com' + api_url, headers={'Authorization': 'Bearer ' + genius_client_access_token}) \n",
    "#         print(page.__dict__)\n",
    "#         print(page.__dict__.keys())\n",
    "#         annotation_dict = json.loads(page.__dict__['_content'].decode())['response']['annotation']['body']['dom']\n",
    "# #         print(annotation_dict)\n",
    "#         for key in annotation_dict:\n",
    "#             print(\"NEW\")\n",
    "#             print(key)\n",
    "#             print(annotation_dict[key])\n",
    "    return [get_from_api(url) for url in api_calls]\n",
    "get_annotations(music[2])"
   ]
  },
  {
   "cell_type": "code",
   "execution_count": 18,
   "metadata": {
    "collapsed": true
   },
   "outputs": [],
   "source": [
    "# headers = {'Authorization': 'Bearer %s' % genius_client_access_token}\n",
    "# search_url = base_url + '/search'\n",
    "# song_title = 'Mercy'\n",
    "# params = {'q': song_title}\n",
    "# response = requests.get(search_url, params=params, headers=headers)\n",
    "# json = response.json()\n",
    "# print(json)"
   ]
  },
  {
   "cell_type": "code",
   "execution_count": 21,
   "metadata": {
    "collapsed": true
   },
   "outputs": [],
   "source": [
    "df.to_pickle('data.pkl')"
   ]
  },
  {
   "cell_type": "code",
   "execution_count": 34,
   "metadata": {
    "collapsed": true
   },
   "outputs": [],
   "source": [
    "spotify_token = 'BQCVEzRlbQgkEb06zkDYJKDQAzzGCm19cyf5pugp5RnUxls0OyJR-vlNyxa8bjIx-_vaBkXrY7FrSxMQCGsGieSXVgE8VnVlCtiNm-nNSnRDNsayJWUaMgKQwAk4iNisv_i6vx4FzpE'\n",
    "spotify = spotipy.Spotify(auth=spotify_token)\n",
    "spotify_artists = [spotify.search(q='artist:' + artist, type='artist') for artist in artists]"
   ]
  },
  {
   "cell_type": "code",
   "execution_count": 35,
   "metadata": {
    "collapsed": false
   },
   "outputs": [
    {
     "name": "stdout",
     "output_type": "stream",
     "text": [
      "[{'artists': {'href': 'https://api.spotify.com/v1/search?query=artist%3AKanye+West&type=artist&market=US&offset=0&limit=10', 'items': [{'external_urls': {'spotify': 'https://open.spotify.com/artist/5K4W6rqBFWDnAN6FQUkS6x'}, 'followers': {'href': None, 'total': 7141349}, 'genres': ['pop', 'pop rap', 'rap'], 'href': 'https://api.spotify.com/v1/artists/5K4W6rqBFWDnAN6FQUkS6x', 'id': '5K4W6rqBFWDnAN6FQUkS6x', 'images': [{'height': 1000, 'url': 'https://i.scdn.co/image/651370b09316c3851153b1ccf04e7d6f29bf39df', 'width': 1000}, {'height': 640, 'url': 'https://i.scdn.co/image/69813307d0aabd163bd206455fd1d8a45484e2d1', 'width': 640}, {'height': 200, 'url': 'https://i.scdn.co/image/f30e0dfe57e25c2ee133b15242a7fc0eb917232c', 'width': 200}, {'height': 64, 'url': 'https://i.scdn.co/image/78ff00bb0c95d64f016739628bac1198b0ac6e98', 'width': 64}], 'name': 'Kanye West', 'popularity': 89, 'type': 'artist', 'uri': 'spotify:artist:5K4W6rqBFWDnAN6FQUkS6x'}, {'external_urls': {'spotify': 'https://open.spotify.com/artist/780joy6Tg2HvyYAczsohZf'}, 'followers': {'href': None, 'total': 1490}, 'genres': [], 'href': 'https://api.spotify.com/v1/artists/780joy6Tg2HvyYAczsohZf', 'id': '780joy6Tg2HvyYAczsohZf', 'images': [], 'name': 'T-PAIN & KANYE WEST', 'popularity': 25, 'type': 'artist', 'uri': 'spotify:artist:780joy6Tg2HvyYAczsohZf'}, {'external_urls': {'spotify': 'https://open.spotify.com/artist/2BYfXvfV9YJR4orpk4PET2'}, 'followers': {'href': None, 'total': 0}, 'genres': [], 'href': 'https://api.spotify.com/v1/artists/2BYfXvfV9YJR4orpk4PET2', 'id': '2BYfXvfV9YJR4orpk4PET2', 'images': [], 'name': 'Kanye Omari West', 'popularity': 8, 'type': 'artist', 'uri': 'spotify:artist:2BYfXvfV9YJR4orpk4PET2'}, {'external_urls': {'spotify': 'https://open.spotify.com/artist/0JzERClnaGwpsLlQZG9PNY'}, 'followers': {'href': None, 'total': 21}, 'genres': [], 'href': 'https://api.spotify.com/v1/artists/0JzERClnaGwpsLlQZG9PNY', 'id': '0JzERClnaGwpsLlQZG9PNY', 'images': [], 'name': 'Hot Karl & Kanye West', 'popularity': 0, 'type': 'artist', 'uri': 'spotify:artist:0JzERClnaGwpsLlQZG9PNY'}, {'external_urls': {'spotify': 'https://open.spotify.com/artist/1ns5i3B9M11trSx0HcO4B1'}, 'followers': {'href': None, 'total': 5}, 'genres': [], 'href': 'https://api.spotify.com/v1/artists/1ns5i3B9M11trSx0HcO4B1', 'id': '1ns5i3B9M11trSx0HcO4B1', 'images': [], 'name': '\"The Public Perception of Kanye West\"', 'popularity': 0, 'type': 'artist', 'uri': 'spotify:artist:1ns5i3B9M11trSx0HcO4B1'}, {'external_urls': {'spotify': 'https://open.spotify.com/artist/1FSBOmsZvUb3sjGO0EeFkA'}, 'followers': {'href': None, 'total': 162}, 'genres': [], 'href': 'https://api.spotify.com/v1/artists/1FSBOmsZvUb3sjGO0EeFkA', 'id': '1FSBOmsZvUb3sjGO0EeFkA', 'images': [], 'name': 'Rihanna & Kanye West', 'popularity': 0, 'type': 'artist', 'uri': 'spotify:artist:1FSBOmsZvUb3sjGO0EeFkA'}, {'external_urls': {'spotify': 'https://open.spotify.com/artist/5IbkSI5jXbcHgmOCQeL1Tj'}, 'followers': {'href': None, 'total': 57}, 'genres': [], 'href': 'https://api.spotify.com/v1/artists/5IbkSI5jXbcHgmOCQeL1Tj', 'id': '5IbkSI5jXbcHgmOCQeL1Tj', 'images': [{'height': 640, 'url': 'https://i.scdn.co/image/4ff3b8049438ab87452cc0e9b141375cf616a3f7', 'width': 640}, {'height': 300, 'url': 'https://i.scdn.co/image/932f90891766d1c0eb12bcb1c1b967c2ca785d8c', 'width': 300}, {'height': 64, 'url': 'https://i.scdn.co/image/f5f344afaa6e591a5ff4e8470178d9b06e23e940', 'width': 64}], 'name': 'Kanye West Tribute Team', 'popularity': 2, 'type': 'artist', 'uri': 'spotify:artist:5IbkSI5jXbcHgmOCQeL1Tj'}, {'external_urls': {'spotify': 'https://open.spotify.com/artist/2k9CWxElb7Z6749jgeylsE'}, 'followers': {'href': None, 'total': 26}, 'genres': [], 'href': 'https://api.spotify.com/v1/artists/2k9CWxElb7Z6749jgeylsE', 'id': '2k9CWxElb7Z6749jgeylsE', 'images': [], 'name': 'Made famous by Kanye West', 'popularity': 0, 'type': 'artist', 'uri': 'spotify:artist:2k9CWxElb7Z6749jgeylsE'}, {'external_urls': {'spotify': 'https://open.spotify.com/artist/0JI5J5OgHKVgtKfPoZuOmT'}, 'followers': {'href': None, 'total': 15}, 'genres': [], 'href': 'https://api.spotify.com/v1/artists/0JI5J5OgHKVgtKfPoZuOmT', 'id': '0JI5J5OgHKVgtKfPoZuOmT', 'images': [], 'name': 'made famous by Kid Cudi feat Kanye West', 'popularity': 9, 'type': 'artist', 'uri': 'spotify:artist:0JI5J5OgHKVgtKfPoZuOmT'}, {'external_urls': {'spotify': 'https://open.spotify.com/artist/7qXdTtH5LqGTiWEX65aZMX'}, 'followers': {'href': None, 'total': 21}, 'genres': [], 'href': 'https://api.spotify.com/v1/artists/7qXdTtH5LqGTiWEX65aZMX', 'id': '7qXdTtH5LqGTiWEX65aZMX', 'images': [], 'name': 'Made famous by Katy Perry feat Kanye West', 'popularity': 7, 'type': 'artist', 'uri': 'spotify:artist:7qXdTtH5LqGTiWEX65aZMX'}], 'limit': 10, 'next': None, 'offset': 0, 'previous': None, 'total': 10}}, {'artists': {'href': 'https://api.spotify.com/v1/search?query=artist%3AMigos&type=artist&market=US&offset=0&limit=10', 'items': [{'external_urls': {'spotify': 'https://open.spotify.com/artist/6oMuImdp5ZcFhWP0ESe6mG'}, 'followers': {'href': None, 'total': 5088184}, 'genres': ['pop', 'rap', 'trap music'], 'href': 'https://api.spotify.com/v1/artists/6oMuImdp5ZcFhWP0ESe6mG', 'id': '6oMuImdp5ZcFhWP0ESe6mG', 'images': [{'height': 640, 'url': 'https://i.scdn.co/image/29180f7f9c945e04de9b39cb5188f6a9171ae485', 'width': 640}, {'height': 320, 'url': 'https://i.scdn.co/image/f31fe04e6bfd7d154cc6434cbec87483b8d2d46e', 'width': 320}, {'height': 160, 'url': 'https://i.scdn.co/image/98b8cc9b24841b0f516dfc52e9228ff7f47041f2', 'width': 160}], 'name': 'Migos', 'popularity': 92, 'type': 'artist', 'uri': 'spotify:artist:6oMuImdp5ZcFhWP0ESe6mG'}, {'external_urls': {'spotify': 'https://open.spotify.com/artist/3dn4XHZRNPUxC2UkepJmxy'}, 'followers': {'href': None, 'total': 14621}, 'genres': [], 'href': 'https://api.spotify.com/v1/artists/3dn4XHZRNPUxC2UkepJmxy', 'id': '3dn4XHZRNPUxC2UkepJmxy', 'images': [{'height': 640, 'url': 'https://i.scdn.co/image/c4fe44c42badeb54256a3c9ad8fc585a502dbe1b', 'width': 640}, {'height': 300, 'url': 'https://i.scdn.co/image/eea5b20cd6474913ecd5e7da16d5c88fddc20b67', 'width': 300}, {'height': 64, 'url': 'https://i.scdn.co/image/0cc33f189381bb9e0e89722bc999cc4953239baf', 'width': 64}], 'name': 'Migos', 'popularity': 32, 'type': 'artist', 'uri': 'spotify:artist:3dn4XHZRNPUxC2UkepJmxy'}, {'external_urls': {'spotify': 'https://open.spotify.com/artist/1kS8DeegHwSYnebbxejf3W'}, 'followers': {'href': None, 'total': 63}, 'genres': [], 'href': 'https://api.spotify.com/v1/artists/1kS8DeegHwSYnebbxejf3W', 'id': '1kS8DeegHwSYnebbxejf3W', 'images': [], 'name': 'Migos', 'popularity': 1, 'type': 'artist', 'uri': 'spotify:artist:1kS8DeegHwSYnebbxejf3W'}, {'external_urls': {'spotify': 'https://open.spotify.com/artist/6oaIMC8E7iemi5SQfkvTfQ'}, 'followers': {'href': None, 'total': 13}, 'genres': [], 'href': 'https://api.spotify.com/v1/artists/6oaIMC8E7iemi5SQfkvTfQ', 'id': '6oaIMC8E7iemi5SQfkvTfQ', 'images': [], 'name': 'Migos', 'popularity': 0, 'type': 'artist', 'uri': 'spotify:artist:6oaIMC8E7iemi5SQfkvTfQ'}, {'external_urls': {'spotify': 'https://open.spotify.com/artist/0UA3DS6MF4O2KjaaSfsRpN'}, 'followers': {'href': None, 'total': 7644}, 'genres': [], 'href': 'https://api.spotify.com/v1/artists/0UA3DS6MF4O2KjaaSfsRpN', 'id': '0UA3DS6MF4O2KjaaSfsRpN', 'images': [], 'name': 'Trap Migos', 'popularity': 7, 'type': 'artist', 'uri': 'spotify:artist:0UA3DS6MF4O2KjaaSfsRpN'}, {'external_urls': {'spotify': 'https://open.spotify.com/artist/7j4DVAyiIuYWeaffOMM5xs'}, 'followers': {'href': None, 'total': 89}, 'genres': [], 'href': 'https://api.spotify.com/v1/artists/7j4DVAyiIuYWeaffOMM5xs', 'id': '7j4DVAyiIuYWeaffOMM5xs', 'images': [], 'name': 'QC Migos', 'popularity': 4, 'type': 'artist', 'uri': 'spotify:artist:7j4DVAyiIuYWeaffOMM5xs'}, {'external_urls': {'spotify': 'https://open.spotify.com/artist/6Jb6hHhHqw670g6XlZpNng'}, 'followers': {'href': None, 'total': 0}, 'genres': [], 'href': 'https://api.spotify.com/v1/artists/6Jb6hHhHqw670g6XlZpNng', 'id': '6Jb6hHhHqw670g6XlZpNng', 'images': [], 'name': '600B, Migos', 'popularity': 0, 'type': 'artist', 'uri': 'spotify:artist:6Jb6hHhHqw670g6XlZpNng'}, {'external_urls': {'spotify': 'https://open.spotify.com/artist/5RKYrWg58SP33s9YlaWCeC'}, 'followers': {'href': None, 'total': 175}, 'genres': [], 'href': 'https://api.spotify.com/v1/artists/5RKYrWg58SP33s9YlaWCeC', 'id': '5RKYrWg58SP33s9YlaWCeC', 'images': [{'height': 640, 'url': 'https://i.scdn.co/image/bf95b3f71c016a0090a69aa599b0f9d38cc8ce8d', 'width': 640}, {'height': 300, 'url': 'https://i.scdn.co/image/ac000c6f01b7ee0c157c78991f25a960bab73529', 'width': 300}, {'height': 64, 'url': 'https://i.scdn.co/image/0ab0a7531e559fe1f23b8dc904420dc9b053f25d', 'width': 64}], 'name': 'Migos and Bg', 'popularity': 0, 'type': 'artist', 'uri': 'spotify:artist:5RKYrWg58SP33s9YlaWCeC'}, {'external_urls': {'spotify': 'https://open.spotify.com/artist/2fHdRV05N73wA1HxVeuy5R'}, 'followers': {'href': None, 'total': 197}, 'genres': [], 'href': 'https://api.spotify.com/v1/artists/2fHdRV05N73wA1HxVeuy5R', 'id': '2fHdRV05N73wA1HxVeuy5R', 'images': [], 'name': 'Takeoff of Migos', 'popularity': 0, 'type': 'artist', 'uri': 'spotify:artist:2fHdRV05N73wA1HxVeuy5R'}, {'external_urls': {'spotify': 'https://open.spotify.com/artist/6hjoojhxsDTJVAZyBMwrVB'}, 'followers': {'href': None, 'total': 71}, 'genres': [], 'href': 'https://api.spotify.com/v1/artists/6hjoojhxsDTJVAZyBMwrVB', 'id': '6hjoojhxsDTJVAZyBMwrVB', 'images': [], 'name': 'Skippa Da Flippa Migos', 'popularity': 0, 'type': 'artist', 'uri': 'spotify:artist:6hjoojhxsDTJVAZyBMwrVB'}], 'limit': 10, 'next': 'https://api.spotify.com/v1/search?query=artist%3AMigos&type=artist&market=US&offset=10&limit=10', 'offset': 0, 'previous': None, 'total': 14}}]\n"
     ]
    }
   ],
   "source": [
    "print(spotify_artists)"
   ]
  },
  {
   "cell_type": "code",
   "execution_count": 36,
   "metadata": {
    "collapsed": false
   },
   "outputs": [
    {
     "name": "stdout",
     "output_type": "stream",
     "text": [
      "track    : Stronger\n",
      "track    : FourFiveSeconds\n",
      "track    : Gold Digger\n",
      "track    : POWER\n",
      "track    : Ni**as In Paris\n",
      "track    : Father Stretch My Hands Pt. 1\n",
      "track    : Waves\n",
      "track    : Famous\n",
      "track    : Heartless\n",
      "track    : All Of The Lights\n"
     ]
    }
   ],
   "source": [
    "yeezy = spotify.artist_top_tracks('5K4W6rqBFWDnAN6FQUkS6x')\n",
    "for track in yeezy['tracks'][:10]:\n",
    "    print('track    : ' + track['name'])"
   ]
  },
  {
   "cell_type": "code",
   "execution_count": null,
   "metadata": {
    "collapsed": true
   },
   "outputs": [],
   "source": []
  }
 ],
 "metadata": {
  "kernelspec": {
   "display_name": "Python 3",
   "language": "python",
   "name": "python3"
  },
  "language_info": {
   "codemirror_mode": {
    "name": "ipython",
    "version": 3
   },
   "file_extension": ".py",
   "mimetype": "text/x-python",
   "name": "python",
   "nbconvert_exporter": "python",
   "pygments_lexer": "ipython3",
   "version": "3.5.4"
  }
 },
 "nbformat": 4,
 "nbformat_minor": 1
}
