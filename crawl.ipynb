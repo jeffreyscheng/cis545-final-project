{
 "cells": [
  {
   "cell_type": "code",
   "execution_count": 15,
   "metadata": {
    "collapsed": false
   },
   "outputs": [
    {
     "name": "stdout",
     "output_type": "stream",
     "text": [
      "Requirement already satisfied: lyricsgenius in /home/jeffreycheng/anaconda3/lib/python3.5/site-packages (0.4.2)\n",
      "Requirement already satisfied: beautifulsoup4==4.6.0 in /home/jeffreycheng/anaconda3/lib/python3.5/site-packages (from lyricsgenius) (4.6.0)\n",
      "Requirement already satisfied: requests==2.18.1 in /home/jeffreycheng/anaconda3/lib/python3.5/site-packages (from lyricsgenius) (2.18.1)\n",
      "Requirement already satisfied: chardet<3.1.0,>=3.0.2 in /home/jeffreycheng/anaconda3/lib/python3.5/site-packages (from requests==2.18.1->lyricsgenius) (3.0.4)\n",
      "Requirement already satisfied: urllib3<1.22,>=1.21.1 in /home/jeffreycheng/anaconda3/lib/python3.5/site-packages (from requests==2.18.1->lyricsgenius) (1.21.1)\n",
      "Requirement already satisfied: idna<2.6,>=2.5 in /home/jeffreycheng/anaconda3/lib/python3.5/site-packages (from requests==2.18.1->lyricsgenius) (2.5)\n",
      "Requirement already satisfied: certifi>=2017.4.17 in /home/jeffreycheng/anaconda3/lib/python3.5/site-packages (from requests==2.18.1->lyricsgenius) (2018.1.18)\n",
      "Requirement already satisfied: spotipy in /home/jeffreycheng/anaconda3/lib/python3.5/site-packages (2.4.4)\n",
      "Requirement already satisfied: requests>=1.0 in /home/jeffreycheng/anaconda3/lib/python3.5/site-packages (from spotipy) (2.18.1)\n",
      "Requirement already satisfied: certifi>=2017.4.17 in /home/jeffreycheng/anaconda3/lib/python3.5/site-packages (from requests>=1.0->spotipy) (2018.1.18)\n",
      "Requirement already satisfied: idna<2.6,>=2.5 in /home/jeffreycheng/anaconda3/lib/python3.5/site-packages (from requests>=1.0->spotipy) (2.5)\n",
      "Requirement already satisfied: urllib3<1.22,>=1.21.1 in /home/jeffreycheng/anaconda3/lib/python3.5/site-packages (from requests>=1.0->spotipy) (1.21.1)\n",
      "Requirement already satisfied: chardet<3.1.0,>=3.0.2 in /home/jeffreycheng/anaconda3/lib/python3.5/site-packages (from requests>=1.0->spotipy) (3.0.4)\n",
      "Requirement already satisfied: selenium in /home/jeffreycheng/anaconda3/lib/python3.5/site-packages (3.11.0)\n"
     ]
    }
   ],
   "source": [
    "import sys\n",
    "!{sys.executable} -m pip install lyricsgenius\n",
    "!{sys.executable} -m pip install spotipy\n",
    "!{sys.executable} -m pip install selenium\n",
    "import pandas as pd\n",
    "import requests\n",
    "import lyricsgenius as genius\n",
    "import spotipy\n",
    "import time\n",
    "from selenium import webdriver\n",
    "from selenium.webdriver.common.keys import Keys"
   ]
  },
  {
   "cell_type": "code",
   "execution_count": 147,
   "metadata": {
    "collapsed": true
   },
   "outputs": [],
   "source": [
    "genius_client_id = 'Qeii-UKMUUwsAYCuuemsF7CZk7R2bFDhjP1FMkqpozASvYsA4wQDlLmd2JFM3Vhm'\n",
    "genius_secret_id = 'fWhV7VtwAL-5D32Ga9Y0Kyh_VFEo7XK0Jf8-3RMcZ5EoMXqsDpmFWFFPyobnibfMXJuJ-GZe69YEuXR-36VGAA'\n",
    "genius_client_access_token = '1QVL91jZbgdOIhvYhqKku_zkFDf6MHEyLpXEITHU2tE2HGvAqYIPInTrQaWcInD7'\n",
    "app_website_url = 'http://cis545genius.com'\n",
    "redirect_uri = 'cis545genius.com'\n",
    "base_url = 'https://api.genius.com'\n",
    "# driver_path = '/Users/ericdong/Downloads/chromedriver'\n",
    "driver_path = \"/mnt/c/Users/jeffr/Downloads/chromedriver_win32/chromedriver.exe\"\n",
    "artist_url = 'https://www.ranker.com/crowdranked-list/the-greatest-rappers-of-all-time'\n",
    "page_downs = 20\n",
    "api = genius.Genius(genius_client_access_token)\n",
    "\n",
    "# eric's creds\n",
    "# spotify_client_id = '96bdc763e3b5446ebbd6c44850055bcb'\n",
    "# spotify_secret_id = 'f7a5054823ed491aa1856ecdc7849062'\n",
    "#jeffrey's creds\n",
    "spotify_client_id = '1e482b4980804a4a95e1f213a1780763'\n",
    "spotify_secret_id = 'd624a1a562294382b9af1de69983c452'\n",
    "spotify_token = 'AQCggMnntrbJH6DdrP5uOZqDz8tgTCj2yNg4btlRC2CSmC4h4pOGltElI1PvU6DVpx2J-suPVUUuBa0VyZwu_kejvUeNt9Xv3DfiGnRvrpuE9-7vyfziBLUKcRQsih-wTzGAmakFdWrUMPCrwwGoVVoT8dN4LI0iqZF1dDAbERumRMtZOUU87zwF24_1KPlWOKLj28A'\n"
   ]
  },
  {
   "cell_type": "code",
   "execution_count": 136,
   "metadata": {
    "collapsed": true
   },
   "outputs": [],
   "source": [
    "def get_artists(url, page_downs, driver_path):\n",
    "    driver = webdriver.Chrome(driver_path)\n",
    "    driver.get(url)\n",
    "    time.sleep(1)\n",
    "    page = driver.find_element_by_tag_name('body')\n",
    "    for i in range(page_downs):\n",
    "        page.send_keys(Keys.PAGE_DOWN)\n",
    "        time.sleep(0.2)\n",
    "    artists = driver.find_elements_by_class_name('listItem__data')\n",
    "    names = [artist.find_element_by_class_name('listItem__title').text for artist in artists[:-1]]\n",
    "    driver.quit()\n",
    "    \n",
    "    return names"
   ]
  },
  {
   "cell_type": "code",
   "execution_count": 151,
   "metadata": {
    "collapsed": true
   },
   "outputs": [],
   "source": [
    "def get_songs(artist):\n",
    "    return api.search_artist(artist, verbose=False, max_songs=10)"
   ]
  },
  {
   "cell_type": "code",
   "execution_count": 152,
   "metadata": {
    "collapsed": false
   },
   "outputs": [
    {
     "ename": "KeyboardInterrupt",
     "evalue": "",
     "output_type": "error",
     "traceback": [
      "\u001b[1;31m---------------------------------------------------------------------------\u001b[0m",
      "\u001b[1;31mKeyboardInterrupt\u001b[0m                         Traceback (most recent call last)",
      "\u001b[1;32m<ipython-input-152-b6512aa42470>\u001b[0m in \u001b[0;36m<module>\u001b[1;34m()\u001b[0m\n\u001b[1;32m----> 1\u001b[1;33m \u001b[0martists\u001b[0m \u001b[1;33m=\u001b[0m \u001b[0mget_artists\u001b[0m\u001b[1;33m(\u001b[0m\u001b[0martist_url\u001b[0m\u001b[1;33m,\u001b[0m \u001b[0mpage_downs\u001b[0m\u001b[1;33m,\u001b[0m \u001b[0mdriver_path\u001b[0m\u001b[1;33m)\u001b[0m\u001b[1;33m\u001b[0m\u001b[0m\n\u001b[0m",
      "\u001b[1;32m<ipython-input-136-0a9258f3ee44>\u001b[0m in \u001b[0;36mget_artists\u001b[1;34m(url, page_downs, driver_path)\u001b[0m\n\u001b[0;32m      3\u001b[0m     \u001b[0mdriver\u001b[0m\u001b[1;33m.\u001b[0m\u001b[0mget\u001b[0m\u001b[1;33m(\u001b[0m\u001b[0murl\u001b[0m\u001b[1;33m)\u001b[0m\u001b[1;33m\u001b[0m\u001b[0m\n\u001b[0;32m      4\u001b[0m     \u001b[0mtime\u001b[0m\u001b[1;33m.\u001b[0m\u001b[0msleep\u001b[0m\u001b[1;33m(\u001b[0m\u001b[1;36m1\u001b[0m\u001b[1;33m)\u001b[0m\u001b[1;33m\u001b[0m\u001b[0m\n\u001b[1;32m----> 5\u001b[1;33m     \u001b[0mpage\u001b[0m \u001b[1;33m=\u001b[0m \u001b[0mdriver\u001b[0m\u001b[1;33m.\u001b[0m\u001b[0mfind_element_by_tag_name\u001b[0m\u001b[1;33m(\u001b[0m\u001b[1;34m'body'\u001b[0m\u001b[1;33m)\u001b[0m\u001b[1;33m\u001b[0m\u001b[0m\n\u001b[0m\u001b[0;32m      6\u001b[0m     \u001b[1;32mfor\u001b[0m \u001b[0mi\u001b[0m \u001b[1;32min\u001b[0m \u001b[0mrange\u001b[0m\u001b[1;33m(\u001b[0m\u001b[0mpage_downs\u001b[0m\u001b[1;33m)\u001b[0m\u001b[1;33m:\u001b[0m\u001b[1;33m\u001b[0m\u001b[0m\n\u001b[0;32m      7\u001b[0m         \u001b[0mpage\u001b[0m\u001b[1;33m.\u001b[0m\u001b[0msend_keys\u001b[0m\u001b[1;33m(\u001b[0m\u001b[0mKeys\u001b[0m\u001b[1;33m.\u001b[0m\u001b[0mPAGE_DOWN\u001b[0m\u001b[1;33m)\u001b[0m\u001b[1;33m\u001b[0m\u001b[0m\n",
      "\u001b[1;32m/home/jeffreycheng/anaconda3/lib/python3.5/site-packages/selenium/webdriver/remote/webdriver.py\u001b[0m in \u001b[0;36mfind_element_by_tag_name\u001b[1;34m(self, name)\u001b[0m\n\u001b[0;32m    519\u001b[0m             \u001b[0melement\u001b[0m \u001b[1;33m=\u001b[0m \u001b[0mdriver\u001b[0m\u001b[1;33m.\u001b[0m\u001b[0mfind_element_by_tag_name\u001b[0m\u001b[1;33m(\u001b[0m\u001b[1;34m'h1'\u001b[0m\u001b[1;33m)\u001b[0m\u001b[1;33m\u001b[0m\u001b[0m\n\u001b[0;32m    520\u001b[0m         \"\"\"\n\u001b[1;32m--> 521\u001b[1;33m         \u001b[1;32mreturn\u001b[0m \u001b[0mself\u001b[0m\u001b[1;33m.\u001b[0m\u001b[0mfind_element\u001b[0m\u001b[1;33m(\u001b[0m\u001b[0mby\u001b[0m\u001b[1;33m=\u001b[0m\u001b[0mBy\u001b[0m\u001b[1;33m.\u001b[0m\u001b[0mTAG_NAME\u001b[0m\u001b[1;33m,\u001b[0m \u001b[0mvalue\u001b[0m\u001b[1;33m=\u001b[0m\u001b[0mname\u001b[0m\u001b[1;33m)\u001b[0m\u001b[1;33m\u001b[0m\u001b[0m\n\u001b[0m\u001b[0;32m    522\u001b[0m \u001b[1;33m\u001b[0m\u001b[0m\n\u001b[0;32m    523\u001b[0m     \u001b[1;32mdef\u001b[0m \u001b[0mfind_elements_by_tag_name\u001b[0m\u001b[1;33m(\u001b[0m\u001b[0mself\u001b[0m\u001b[1;33m,\u001b[0m \u001b[0mname\u001b[0m\u001b[1;33m)\u001b[0m\u001b[1;33m:\u001b[0m\u001b[1;33m\u001b[0m\u001b[0m\n",
      "\u001b[1;32m/home/jeffreycheng/anaconda3/lib/python3.5/site-packages/selenium/webdriver/remote/webdriver.py\u001b[0m in \u001b[0;36mfind_element\u001b[1;34m(self, by, value)\u001b[0m\n\u001b[0;32m    953\u001b[0m         return self.execute(Command.FIND_ELEMENT, {\n\u001b[0;32m    954\u001b[0m             \u001b[1;34m'using'\u001b[0m\u001b[1;33m:\u001b[0m \u001b[0mby\u001b[0m\u001b[1;33m,\u001b[0m\u001b[1;33m\u001b[0m\u001b[0m\n\u001b[1;32m--> 955\u001b[1;33m             'value': value})['value']\n\u001b[0m\u001b[0;32m    956\u001b[0m \u001b[1;33m\u001b[0m\u001b[0m\n\u001b[0;32m    957\u001b[0m     \u001b[1;32mdef\u001b[0m \u001b[0mfind_elements\u001b[0m\u001b[1;33m(\u001b[0m\u001b[0mself\u001b[0m\u001b[1;33m,\u001b[0m \u001b[0mby\u001b[0m\u001b[1;33m=\u001b[0m\u001b[0mBy\u001b[0m\u001b[1;33m.\u001b[0m\u001b[0mID\u001b[0m\u001b[1;33m,\u001b[0m \u001b[0mvalue\u001b[0m\u001b[1;33m=\u001b[0m\u001b[1;32mNone\u001b[0m\u001b[1;33m)\u001b[0m\u001b[1;33m:\u001b[0m\u001b[1;33m\u001b[0m\u001b[0m\n",
      "\u001b[1;32m/home/jeffreycheng/anaconda3/lib/python3.5/site-packages/selenium/webdriver/remote/webdriver.py\u001b[0m in \u001b[0;36mexecute\u001b[1;34m(self, driver_command, params)\u001b[0m\n\u001b[0;32m    308\u001b[0m \u001b[1;33m\u001b[0m\u001b[0m\n\u001b[0;32m    309\u001b[0m         \u001b[0mparams\u001b[0m \u001b[1;33m=\u001b[0m \u001b[0mself\u001b[0m\u001b[1;33m.\u001b[0m\u001b[0m_wrap_value\u001b[0m\u001b[1;33m(\u001b[0m\u001b[0mparams\u001b[0m\u001b[1;33m)\u001b[0m\u001b[1;33m\u001b[0m\u001b[0m\n\u001b[1;32m--> 310\u001b[1;33m         \u001b[0mresponse\u001b[0m \u001b[1;33m=\u001b[0m \u001b[0mself\u001b[0m\u001b[1;33m.\u001b[0m\u001b[0mcommand_executor\u001b[0m\u001b[1;33m.\u001b[0m\u001b[0mexecute\u001b[0m\u001b[1;33m(\u001b[0m\u001b[0mdriver_command\u001b[0m\u001b[1;33m,\u001b[0m \u001b[0mparams\u001b[0m\u001b[1;33m)\u001b[0m\u001b[1;33m\u001b[0m\u001b[0m\n\u001b[0m\u001b[0;32m    311\u001b[0m         \u001b[1;32mif\u001b[0m \u001b[0mresponse\u001b[0m\u001b[1;33m:\u001b[0m\u001b[1;33m\u001b[0m\u001b[0m\n\u001b[0;32m    312\u001b[0m             \u001b[0mself\u001b[0m\u001b[1;33m.\u001b[0m\u001b[0merror_handler\u001b[0m\u001b[1;33m.\u001b[0m\u001b[0mcheck_response\u001b[0m\u001b[1;33m(\u001b[0m\u001b[0mresponse\u001b[0m\u001b[1;33m)\u001b[0m\u001b[1;33m\u001b[0m\u001b[0m\n",
      "\u001b[1;32m/home/jeffreycheng/anaconda3/lib/python3.5/site-packages/selenium/webdriver/remote/remote_connection.py\u001b[0m in \u001b[0;36mexecute\u001b[1;34m(self, command, params)\u001b[0m\n\u001b[0;32m    464\u001b[0m         \u001b[0mdata\u001b[0m \u001b[1;33m=\u001b[0m \u001b[0mutils\u001b[0m\u001b[1;33m.\u001b[0m\u001b[0mdump_json\u001b[0m\u001b[1;33m(\u001b[0m\u001b[0mparams\u001b[0m\u001b[1;33m)\u001b[0m\u001b[1;33m\u001b[0m\u001b[0m\n\u001b[0;32m    465\u001b[0m         \u001b[0murl\u001b[0m \u001b[1;33m=\u001b[0m \u001b[1;34m'%s%s'\u001b[0m \u001b[1;33m%\u001b[0m \u001b[1;33m(\u001b[0m\u001b[0mself\u001b[0m\u001b[1;33m.\u001b[0m\u001b[0m_url\u001b[0m\u001b[1;33m,\u001b[0m \u001b[0mpath\u001b[0m\u001b[1;33m)\u001b[0m\u001b[1;33m\u001b[0m\u001b[0m\n\u001b[1;32m--> 466\u001b[1;33m         \u001b[1;32mreturn\u001b[0m \u001b[0mself\u001b[0m\u001b[1;33m.\u001b[0m\u001b[0m_request\u001b[0m\u001b[1;33m(\u001b[0m\u001b[0mcommand_info\u001b[0m\u001b[1;33m[\u001b[0m\u001b[1;36m0\u001b[0m\u001b[1;33m]\u001b[0m\u001b[1;33m,\u001b[0m \u001b[0murl\u001b[0m\u001b[1;33m,\u001b[0m \u001b[0mbody\u001b[0m\u001b[1;33m=\u001b[0m\u001b[0mdata\u001b[0m\u001b[1;33m)\u001b[0m\u001b[1;33m\u001b[0m\u001b[0m\n\u001b[0m\u001b[0;32m    467\u001b[0m \u001b[1;33m\u001b[0m\u001b[0m\n\u001b[0;32m    468\u001b[0m     \u001b[1;32mdef\u001b[0m \u001b[0m_request\u001b[0m\u001b[1;33m(\u001b[0m\u001b[0mself\u001b[0m\u001b[1;33m,\u001b[0m \u001b[0mmethod\u001b[0m\u001b[1;33m,\u001b[0m \u001b[0murl\u001b[0m\u001b[1;33m,\u001b[0m \u001b[0mbody\u001b[0m\u001b[1;33m=\u001b[0m\u001b[1;32mNone\u001b[0m\u001b[1;33m)\u001b[0m\u001b[1;33m:\u001b[0m\u001b[1;33m\u001b[0m\u001b[0m\n",
      "\u001b[1;32m/home/jeffreycheng/anaconda3/lib/python3.5/site-packages/selenium/webdriver/remote/remote_connection.py\u001b[0m in \u001b[0;36m_request\u001b[1;34m(self, method, url, body)\u001b[0m\n\u001b[0;32m    488\u001b[0m             \u001b[1;32mtry\u001b[0m\u001b[1;33m:\u001b[0m\u001b[1;33m\u001b[0m\u001b[0m\n\u001b[0;32m    489\u001b[0m                 \u001b[0mself\u001b[0m\u001b[1;33m.\u001b[0m\u001b[0m_conn\u001b[0m\u001b[1;33m.\u001b[0m\u001b[0mrequest\u001b[0m\u001b[1;33m(\u001b[0m\u001b[0mmethod\u001b[0m\u001b[1;33m,\u001b[0m \u001b[0mparsed_url\u001b[0m\u001b[1;33m.\u001b[0m\u001b[0mpath\u001b[0m\u001b[1;33m,\u001b[0m \u001b[0mbody\u001b[0m\u001b[1;33m,\u001b[0m \u001b[0mheaders\u001b[0m\u001b[1;33m)\u001b[0m\u001b[1;33m\u001b[0m\u001b[0m\n\u001b[1;32m--> 490\u001b[1;33m                 \u001b[0mresp\u001b[0m \u001b[1;33m=\u001b[0m \u001b[0mself\u001b[0m\u001b[1;33m.\u001b[0m\u001b[0m_conn\u001b[0m\u001b[1;33m.\u001b[0m\u001b[0mgetresponse\u001b[0m\u001b[1;33m(\u001b[0m\u001b[1;33m)\u001b[0m\u001b[1;33m\u001b[0m\u001b[0m\n\u001b[0m\u001b[0;32m    491\u001b[0m             \u001b[1;32mexcept\u001b[0m \u001b[1;33m(\u001b[0m\u001b[0mhttplib\u001b[0m\u001b[1;33m.\u001b[0m\u001b[0mHTTPException\u001b[0m\u001b[1;33m,\u001b[0m \u001b[0msocket\u001b[0m\u001b[1;33m.\u001b[0m\u001b[0merror\u001b[0m\u001b[1;33m)\u001b[0m\u001b[1;33m:\u001b[0m\u001b[1;33m\u001b[0m\u001b[0m\n\u001b[0;32m    492\u001b[0m                 \u001b[0mself\u001b[0m\u001b[1;33m.\u001b[0m\u001b[0m_conn\u001b[0m\u001b[1;33m.\u001b[0m\u001b[0mclose\u001b[0m\u001b[1;33m(\u001b[0m\u001b[1;33m)\u001b[0m\u001b[1;33m\u001b[0m\u001b[0m\n",
      "\u001b[1;32m/home/jeffreycheng/anaconda3/lib/python3.5/http/client.py\u001b[0m in \u001b[0;36mgetresponse\u001b[1;34m(self)\u001b[0m\n\u001b[0;32m   1196\u001b[0m         \u001b[1;32mtry\u001b[0m\u001b[1;33m:\u001b[0m\u001b[1;33m\u001b[0m\u001b[0m\n\u001b[0;32m   1197\u001b[0m             \u001b[1;32mtry\u001b[0m\u001b[1;33m:\u001b[0m\u001b[1;33m\u001b[0m\u001b[0m\n\u001b[1;32m-> 1198\u001b[1;33m                 \u001b[0mresponse\u001b[0m\u001b[1;33m.\u001b[0m\u001b[0mbegin\u001b[0m\u001b[1;33m(\u001b[0m\u001b[1;33m)\u001b[0m\u001b[1;33m\u001b[0m\u001b[0m\n\u001b[0m\u001b[0;32m   1199\u001b[0m             \u001b[1;32mexcept\u001b[0m \u001b[0mConnectionError\u001b[0m\u001b[1;33m:\u001b[0m\u001b[1;33m\u001b[0m\u001b[0m\n\u001b[0;32m   1200\u001b[0m                 \u001b[0mself\u001b[0m\u001b[1;33m.\u001b[0m\u001b[0mclose\u001b[0m\u001b[1;33m(\u001b[0m\u001b[1;33m)\u001b[0m\u001b[1;33m\u001b[0m\u001b[0m\n",
      "\u001b[1;32m/home/jeffreycheng/anaconda3/lib/python3.5/http/client.py\u001b[0m in \u001b[0;36mbegin\u001b[1;34m(self)\u001b[0m\n\u001b[0;32m    295\u001b[0m         \u001b[1;31m# read until we get a non-100 response\u001b[0m\u001b[1;33m\u001b[0m\u001b[1;33m\u001b[0m\u001b[0m\n\u001b[0;32m    296\u001b[0m         \u001b[1;32mwhile\u001b[0m \u001b[1;32mTrue\u001b[0m\u001b[1;33m:\u001b[0m\u001b[1;33m\u001b[0m\u001b[0m\n\u001b[1;32m--> 297\u001b[1;33m             \u001b[0mversion\u001b[0m\u001b[1;33m,\u001b[0m \u001b[0mstatus\u001b[0m\u001b[1;33m,\u001b[0m \u001b[0mreason\u001b[0m \u001b[1;33m=\u001b[0m \u001b[0mself\u001b[0m\u001b[1;33m.\u001b[0m\u001b[0m_read_status\u001b[0m\u001b[1;33m(\u001b[0m\u001b[1;33m)\u001b[0m\u001b[1;33m\u001b[0m\u001b[0m\n\u001b[0m\u001b[0;32m    298\u001b[0m             \u001b[1;32mif\u001b[0m \u001b[0mstatus\u001b[0m \u001b[1;33m!=\u001b[0m \u001b[0mCONTINUE\u001b[0m\u001b[1;33m:\u001b[0m\u001b[1;33m\u001b[0m\u001b[0m\n\u001b[0;32m    299\u001b[0m                 \u001b[1;32mbreak\u001b[0m\u001b[1;33m\u001b[0m\u001b[0m\n",
      "\u001b[1;32m/home/jeffreycheng/anaconda3/lib/python3.5/http/client.py\u001b[0m in \u001b[0;36m_read_status\u001b[1;34m(self)\u001b[0m\n\u001b[0;32m    256\u001b[0m \u001b[1;33m\u001b[0m\u001b[0m\n\u001b[0;32m    257\u001b[0m     \u001b[1;32mdef\u001b[0m \u001b[0m_read_status\u001b[0m\u001b[1;33m(\u001b[0m\u001b[0mself\u001b[0m\u001b[1;33m)\u001b[0m\u001b[1;33m:\u001b[0m\u001b[1;33m\u001b[0m\u001b[0m\n\u001b[1;32m--> 258\u001b[1;33m         \u001b[0mline\u001b[0m \u001b[1;33m=\u001b[0m \u001b[0mstr\u001b[0m\u001b[1;33m(\u001b[0m\u001b[0mself\u001b[0m\u001b[1;33m.\u001b[0m\u001b[0mfp\u001b[0m\u001b[1;33m.\u001b[0m\u001b[0mreadline\u001b[0m\u001b[1;33m(\u001b[0m\u001b[0m_MAXLINE\u001b[0m \u001b[1;33m+\u001b[0m \u001b[1;36m1\u001b[0m\u001b[1;33m)\u001b[0m\u001b[1;33m,\u001b[0m \u001b[1;34m\"iso-8859-1\"\u001b[0m\u001b[1;33m)\u001b[0m\u001b[1;33m\u001b[0m\u001b[0m\n\u001b[0m\u001b[0;32m    259\u001b[0m         \u001b[1;32mif\u001b[0m \u001b[0mlen\u001b[0m\u001b[1;33m(\u001b[0m\u001b[0mline\u001b[0m\u001b[1;33m)\u001b[0m \u001b[1;33m>\u001b[0m \u001b[0m_MAXLINE\u001b[0m\u001b[1;33m:\u001b[0m\u001b[1;33m\u001b[0m\u001b[0m\n\u001b[0;32m    260\u001b[0m             \u001b[1;32mraise\u001b[0m \u001b[0mLineTooLong\u001b[0m\u001b[1;33m(\u001b[0m\u001b[1;34m\"status line\"\u001b[0m\u001b[1;33m)\u001b[0m\u001b[1;33m\u001b[0m\u001b[0m\n",
      "\u001b[1;32m/home/jeffreycheng/anaconda3/lib/python3.5/socket.py\u001b[0m in \u001b[0;36mreadinto\u001b[1;34m(self, b)\u001b[0m\n\u001b[0;32m    574\u001b[0m         \u001b[1;32mwhile\u001b[0m \u001b[1;32mTrue\u001b[0m\u001b[1;33m:\u001b[0m\u001b[1;33m\u001b[0m\u001b[0m\n\u001b[0;32m    575\u001b[0m             \u001b[1;32mtry\u001b[0m\u001b[1;33m:\u001b[0m\u001b[1;33m\u001b[0m\u001b[0m\n\u001b[1;32m--> 576\u001b[1;33m                 \u001b[1;32mreturn\u001b[0m \u001b[0mself\u001b[0m\u001b[1;33m.\u001b[0m\u001b[0m_sock\u001b[0m\u001b[1;33m.\u001b[0m\u001b[0mrecv_into\u001b[0m\u001b[1;33m(\u001b[0m\u001b[0mb\u001b[0m\u001b[1;33m)\u001b[0m\u001b[1;33m\u001b[0m\u001b[0m\n\u001b[0m\u001b[0;32m    577\u001b[0m             \u001b[1;32mexcept\u001b[0m \u001b[0mtimeout\u001b[0m\u001b[1;33m:\u001b[0m\u001b[1;33m\u001b[0m\u001b[0m\n\u001b[0;32m    578\u001b[0m                 \u001b[0mself\u001b[0m\u001b[1;33m.\u001b[0m\u001b[0m_timeout_occurred\u001b[0m \u001b[1;33m=\u001b[0m \u001b[1;32mTrue\u001b[0m\u001b[1;33m\u001b[0m\u001b[0m\n",
      "\u001b[1;31mKeyboardInterrupt\u001b[0m: "
     ]
    }
   ],
   "source": [
    "artists = get_artists(artist_url, page_downs, driver_path)"
   ]
  },
  {
   "cell_type": "code",
   "execution_count": 149,
   "metadata": {
    "collapsed": false
   },
   "outputs": [
    {
     "name": "stdout",
     "output_type": "stream",
     "text": [
      "['Tupac', 'Eminem', 'The Notorious B.I.G.', 'Nas', 'Ice Cube', 'Jay-Z', 'Snoop Dogg', 'Dr. Dre', 'Kendrick Lamar', 'Rakim', 'André 3000', 'Eazy-E', '50 Cent', 'Kanye West', 'DMX', 'J. Cole', 'Busta Rhymes', 'Method Man', 'Mos Def', 'Lil Wayne', 'Ludacris', 'KRS-One', 'LL Cool J', 'Common', 'Ghostface Killah', 'Big L', 'Redman', 'T.I.', 'Big Pun', 'Nate Dogg', 'Tech N9ne', 'Lauryn Hill', 'Scarface', 'Slick Rick', 'The Game', 'Raekwon', 'Big Daddy Kane', \"Ol' Dirty Bastard\", 'Mobb Deep', 'Chance the Rapper', 'Logic', 'Cypress Hill', 'Ice-T', 'Lupe Fiasco', 'RZA', 'GZA', 'Warren G', 'Q-Tip', 'ASAP Rocky', 'Xzibit', 'Talib Kweli', 'Big Sean', 'Joey Badass', 'Missy Elliott', 'Drake', 'Kid Cudi', 'Donald Glover', 'Immortal Technique', 'Twista', 'Chuck D', 'Big Boi', 'Eric B. & Rakim', 'Wiz Khalifa', 'Schoolboy Q', 'Tyler, the Creator', 'Hopsin', 'Nelly', 'DMC', 'Royce da 5\\'9\"', 'D12', 'Jadakiss', 'Kurupt', 'Grandmaster Flash and the Furious Five', 'MC Ren', 'Gang Starr', 'Too $hort', 'E-40', 'Pusha T', 'Coolio', 'De La Soul', 'Proof', 'Bad Meets Evil', 'Will Smith', 'Black Thought', 'Guru', 'B.o.B', 'Krayzie Bone', 'AZ', 'Earl Sweatshirt', 'The Sugarhill Gang', 'Fabolous', 'Yelawolf', 'Prodigy', 'Fat Joe', 'Mac Miller', 'Young Jeezy', '2 Chainz', 'Kool G Rap', 'Bizzy Bone', 'Rick Ross']\n"
     ]
    }
   ],
   "source": [
    "print(artists)"
   ]
  },
  {
   "cell_type": "code",
   "execution_count": 154,
   "metadata": {
    "collapsed": true
   },
   "outputs": [],
   "source": [
    "# test set of artists\n",
    "artists = ['Kanye West', 'Migos']"
   ]
  },
  {
   "cell_type": "code",
   "execution_count": 155,
   "metadata": {
    "collapsed": false
   },
   "outputs": [],
   "source": [
    "music = []\n",
    "for artist in artists:\n",
    "    try:\n",
    "        music = music + get_songs(artist).songs\n",
    "    except AssertionError:\n",
    "        pass"
   ]
  },
  {
   "cell_type": "code",
   "execution_count": 156,
   "metadata": {
    "collapsed": false
   },
   "outputs": [
    {
     "name": "stdout",
     "output_type": "stream",
     "text": [
      "[(\"'03 Electric Relaxation\", 'Kanye West'), ('18 Years', 'Kanye West'), ('1996 Fat Beats Freestyle', 'Kanye West'), ('2002 Unreleased Freestyle', 'Kanye West'), ('2004 Tim Westwood Freestyle', 'Kanye West'), ('2013 Yeezus Tour Dates', 'Kanye West'), ('2013 Zane Lowe BBC Radio Interview Part 1', 'Kanye West'), ('2013 Zane Lowe BBC Radio Interview Part 2', 'Kanye West'), ('2014 Yeezus Tour Dates', 'Kanye West'), ('2015 BET Honors Visionary Award Acceptance Speech', 'Kanye West'), ('1017', 'Migos'), ('11 Birds', 'Migos'), ('2Pac & Biggie', 'Migos'), ('3 Mics', 'Migos'), ('3 Way EP [Album Art + Tracklist]', 'Migos'), ('3 Way (Intro)', 'Migos'), ('50 Bitches (Lick It Off)', 'Migos'), ('50 Chicks', 'Migos'), ('9 On Me', 'Migos'), ('Add It Up', 'Migos')]\n"
     ]
    }
   ],
   "source": [
    "print(music)"
   ]
  },
  {
   "cell_type": "code",
   "execution_count": 24,
   "metadata": {
    "collapsed": false
   },
   "outputs": [
    {
     "data": {
      "text/html": [
       "<div>\n",
       "<table border=\"1\" class=\"dataframe\">\n",
       "  <thead>\n",
       "    <tr style=\"text-align: right;\">\n",
       "      <th></th>\n",
       "      <th>artist</th>\n",
       "      <th>song</th>\n",
       "      <th>album</th>\n",
       "      <th>lyrics</th>\n",
       "    </tr>\n",
       "  </thead>\n",
       "  <tbody>\n",
       "    <tr>\n",
       "      <th>0</th>\n",
       "      <td>Kanye West</td>\n",
       "      <td>'03 Electric Relaxation</td>\n",
       "      <td>None</td>\n",
       "      <td>You got to\\n\\nRelax yourself or we'll whack ya...</td>\n",
       "    </tr>\n",
       "    <tr>\n",
       "      <th>1</th>\n",
       "      <td>Kanye West</td>\n",
       "      <td>18 Years</td>\n",
       "      <td>Def Poetry Jam</td>\n",
       "      <td>The next guest.. is my man\\nBringing him back,...</td>\n",
       "    </tr>\n",
       "    <tr>\n",
       "      <th>2</th>\n",
       "      <td>Kanye West</td>\n",
       "      <td>1996 Fat Beats Freestyle</td>\n",
       "      <td>None</td>\n",
       "      <td>Yo it's the Lake Shore Drive\\nKeep it live, ti...</td>\n",
       "    </tr>\n",
       "    <tr>\n",
       "      <th>3</th>\n",
       "      <td>Kanye West</td>\n",
       "      <td>2002 Unreleased Freestyle</td>\n",
       "      <td>None</td>\n",
       "      <td>Ayo\\nPlanes, trains, automobiles\\nThe G500s wi...</td>\n",
       "    </tr>\n",
       "    <tr>\n",
       "      <th>4</th>\n",
       "      <td>Kanye West</td>\n",
       "      <td>2004 Tim Westwood Freestyle</td>\n",
       "      <td>None</td>\n",
       "      <td>I told her to drive over after dude crib\\nBrin...</td>\n",
       "    </tr>\n",
       "  </tbody>\n",
       "</table>\n",
       "</div>"
      ],
      "text/plain": [
       "       artist                         song           album  \\\n",
       "0  Kanye West      '03 Electric Relaxation            None   \n",
       "1  Kanye West                     18 Years  Def Poetry Jam   \n",
       "2  Kanye West     1996 Fat Beats Freestyle            None   \n",
       "3  Kanye West    2002 Unreleased Freestyle            None   \n",
       "4  Kanye West  2004 Tim Westwood Freestyle            None   \n",
       "\n",
       "                                              lyrics  \n",
       "0  You got to\\n\\nRelax yourself or we'll whack ya...  \n",
       "1  The next guest.. is my man\\nBringing him back,...  \n",
       "2  Yo it's the Lake Shore Drive\\nKeep it live, ti...  \n",
       "3  Ayo\\nPlanes, trains, automobiles\\nThe G500s wi...  \n",
       "4  I told her to drive over after dude crib\\nBrin...  "
      ]
     },
     "execution_count": 24,
     "metadata": {},
     "output_type": "execute_result"
    }
   ],
   "source": [
    "df = pd.DataFrame()\n",
    "df['artist'] = list(map(lambda x: x.artist, music))\n",
    "df['song'] = list(map(lambda x: x.title, music))\n",
    "df['album'] = list(map(lambda x: x.album, music))\n",
    "df['lyrics'] = list(map(lambda x: x.lyrics, music))\n",
    "df.head()"
   ]
  },
  {
   "cell_type": "code",
   "execution_count": 163,
   "metadata": {
    "collapsed": false
   },
   "outputs": [
    {
     "name": "stdout",
     "output_type": "stream",
     "text": [
      "1996 Fat Beats Freestyle\n",
      "http://api.genius.com/annotations/3615761\n",
      "{'encoding': 'utf-8', 'history': [<Response [301]>], 'raw': <urllib3.response.HTTPResponse object at 0x7f0b6db5eb00>, 'cookies': <RequestsCookieJar[]>, 'reason': 'OK', 'url': 'https://api.genius.com/annotations/3615761', 'status_code': 200, '_content_consumed': True, 'elapsed': datetime.timedelta(0, 0, 230939), 'connection': <requests.adapters.HTTPAdapter object at 0x7f0b6e4c5940>, '_next': None, 'request': <PreparedRequest [GET]>, '_content': b'{\"meta\":{\"status\":200},\"response\":{\"annotation\":{\"api_path\":\"/annotations/3615761\",\"body\":{\"dom\":{\"tag\":\"root\",\"children\":[{\"tag\":\"p\",\"children\":[\"NYC record store Fat Beats relocated in 1996 and celebrated their move by hosting a cypher including the likes of \",{\"tag\":\"a\",\"attributes\":{\"href\":\"https://genius.com/artists/Ill-bill\"},\"data\":{\"api_path\":\"/artists/1780\"},\"children\":[\"Ill Bill\"]},\", \",{\"tag\":\"a\",\"attributes\":{\"href\":\"https://genius.com/artists/Lord-finesse\"},\"data\":{\"api_path\":\"/artists/430\"},\"children\":[\"Lord Finesse\"]},\", \",{\"tag\":\"a\",\"attributes\":{\"href\":\"https://genius.com/artists/Al-tariq\"},\"data\":{\"api_path\":\"/artists/3047\"},\"children\":[\"Al\\' Tariq\"]},\", \",{\"tag\":\"a\",\"attributes\":{\"href\":\"https://genius.com/artists/Xzibit\"},\"data\":{\"api_path\":\"/artists/291\"},\"children\":[\"Xzibit\"]},\", etc. Out of all of these big names, the 19 year old \",{\"tag\":\"a\",\"attributes\":{\"href\":\"https://genius.com/artists/Kanye-west\"},\"data\":{\"api_path\":\"/artists/72\"},\"children\":[\"Kanye West\"]},\" stood out, debuting this amazing freestyle that would forecast the bright future he would create for himself.\"]}]}},\"comment_count\":0,\"community\":true,\"custom_preview\":null,\"has_voters\":true,\"id\":3615761,\"pinned\":false,\"share_url\":\"https://genius.com/3615761\",\"source\":null,\"state\":\"accepted\",\"url\":\"https://genius.com/3615761/Kanye-west-1996-fat-beats-freestyle/1996-fat-beats-freestyle\",\"verified\":false,\"votes_total\":4,\"current_user_metadata\":{\"permissions\":[\"create_comment\"],\"excluded_permissions\":[\"vote\",\"edit\",\"cosign\",\"uncosign\",\"destroy\",\"accept\",\"reject\",\"see_unreviewed\",\"clear_votes\",\"propose_edit_to\",\"pin_to_profile\",\"unpin_from_profile\",\"update_source\",\"set_brand\",\"clear_brand\",\"edit_custom_preview\"],\"interactions\":{\"cosign\":false,\"pyong\":false,\"vote\":null},\"iq_by_action\":{}},\"authors\":[{\"attribution\":0.9310344827586207,\"pinned_role\":null,\"user\":{\"api_path\":\"/users/104344\",\"avatar\":{\"tiny\":{\"url\":\"https://images.genius.com/9ac64405f08557cbf4062b5ca37643e6.1000x1000x1.jpg\",\"bounding_box\":{\"width\":16,\"height\":16}},\"thumb\":{\"url\":\"https://images.genius.com/9ac64405f08557cbf4062b5ca37643e6.1000x1000x1.jpg\",\"bounding_box\":{\"width\":32,\"height\":32}},\"small\":{\"url\":\"https://images.genius.com/9ac64405f08557cbf4062b5ca37643e6.1000x1000x1.jpg\",\"bounding_box\":{\"width\":100,\"height\":100}},\"medium\":{\"url\":\"https://images.genius.com/9ac64405f08557cbf4062b5ca37643e6.1000x1000x1.jpg\",\"bounding_box\":{\"width\":300,\"height\":400}}},\"header_image_url\":\"https://images.genius.com/49f2b339a8580c0f005a77fffb709a7b.1000x668x1.jpg\",\"human_readable_role_for_display\":\"Staff\",\"id\":104344,\"iq\":1907384,\"login\":\"streetlights\",\"name\":\"\\xe2\\x80\\x8bstreetlights\",\"role_for_display\":\"staff\",\"url\":\"https://genius.com/streetlights\",\"current_user_metadata\":{\"permissions\":[],\"excluded_permissions\":[\"follow\"],\"interactions\":{\"following\":false},\"features\":[]}}},{\"attribution\":0.05172413793103448,\"pinned_role\":null,\"user\":{\"api_path\":\"/users/2895026\",\"avatar\":{\"tiny\":{\"url\":\"https://images.rapgenius.com/avatars/tiny/cfaeda79c0659c3d39d742b924884454\",\"bounding_box\":{\"width\":16,\"height\":16}},\"thumb\":{\"url\":\"https://images.rapgenius.com/avatars/thumb/cfaeda79c0659c3d39d742b924884454\",\"bounding_box\":{\"width\":32,\"height\":32}},\"small\":{\"url\":\"https://images.rapgenius.com/avatars/small/cfaeda79c0659c3d39d742b924884454\",\"bounding_box\":{\"width\":100,\"height\":100}},\"medium\":{\"url\":\"https://images.rapgenius.com/avatars/medium/cfaeda79c0659c3d39d742b924884454\",\"bounding_box\":{\"width\":300,\"height\":400}}},\"header_image_url\":\"https://images.rapgenius.com/avatars/medium/cfaeda79c0659c3d39d742b924884454\",\"human_readable_role_for_display\":null,\"id\":2895026,\"iq\":139,\"login\":\"enovid\",\"name\":\"enovid\",\"role_for_display\":null,\"url\":\"https://genius.com/enovid\",\"current_user_metadata\":{\"permissions\":[],\"excluded_permissions\":[\"follow\"],\"interactions\":{\"following\":false},\"features\":[]}}},{\"attribution\":0.017241379310344827,\"pinned_role\":null,\"user\":{\"api_path\":\"/users/30579\",\"avatar\":{\"tiny\":{\"url\":\"https://s3.amazonaws.com/rapgenius/avatars/tiny/30579_29756779-300x225.jpg\",\"bounding_box\":{\"width\":16,\"height\":16}},\"thumb\":{\"url\":\"https://s3.amazonaws.com/rapgenius/avatars/thumb/1358289005_30579_29756779-300x225.jpg\",\"bounding_box\":{\"width\":32,\"height\":32}},\"small\":{\"url\":\"https://s3.amazonaws.com/rapgenius/avatars/small/1358289005_30579_29756779-300x225.jpg\",\"bounding_box\":{\"width\":100,\"height\":100}},\"medium\":{\"url\":\"https://s3.amazonaws.com/rapgenius/avatars/medium/1358289005_30579_29756779-300x225.jpg\",\"bounding_box\":{\"width\":300,\"height\":400}}},\"header_image_url\":\"https://s3.amazonaws.com/rapgenius/avatars/medium/1358289005_30579_29756779-300x225.jpg\",\"human_readable_role_for_display\":\"Editor\",\"id\":30579,\"iq\":13997,\"login\":\"Guv\",\"name\":\"Guv\",\"role_for_display\":\"editor\",\"url\":\"https://genius.com/Guv\",\"current_user_metadata\":{\"permissions\":[],\"excluded_permissions\":[\"follow\"],\"interactions\":{\"following\":false},\"features\":[]}}}],\"cosigned_by\":[],\"rejection_comment\":null,\"verified_by\":null},\"referent\":{\"_type\":\"referent\",\"annotator_id\":104344,\"annotator_login\":\"streetlights\",\"api_path\":\"/referents/3615761\",\"classification\":\"accepted\",\"fragment\":\"1996 Fat Beats Freestyle\",\"id\":3615761,\"is_description\":true,\"path\":\"/3615761/Kanye-west-1996-fat-beats-freestyle/1996-fat-beats-freestyle\",\"range\":{\"content\":\"1996 Fat Beats Freestyle\"},\"song_id\":480181,\"url\":\"https://genius.com/3615761/Kanye-west-1996-fat-beats-freestyle/1996-fat-beats-freestyle\",\"verified_annotator_ids\":[],\"annotatable\":{\"api_path\":\"/songs/480181\",\"client_timestamps\":{\"updated_by_human_at\":1496206369,\"lyrics_updated_at\":1496206369},\"context\":\"Kanye West\",\"id\":480181,\"image_url\":\"https://images.genius.com/2182acf08ba673008132b0278baff86a.803x803x1.jpg\",\"link_title\":\"1996 Fat Beats Freestyle by\\xc2\\xa0Kanye\\xc2\\xa0West\",\"title\":\"1996 Fat Beats Freestyle\",\"type\":\"Song\",\"url\":\"https://genius.com/Kanye-west-1996-fat-beats-freestyle-lyrics\"}}}}', 'headers': {'Expect-CT': 'max-age=604800, report-uri=\"https://report-uri.cloudflare.com/cdn-cgi/beacon/expect-ct\"', 'Access-Control-Allow-Origin': '*', 'CF-RAY': '411cc472bd812198-EWR', 'Transfer-Encoding': 'chunked', 'X-Runtime': '100', 'Content-Encoding': 'gzip', 'Etag': 'W/\"27aaa3f03af6c53b8f9ad5fea4f78d18\"', 'Access-Control-Allow-Methods': 'GET, PUT, POST, OPTIONS, DELETE', 'Status': '200 OK', 'Server': 'cloudflare', 'Connection': 'keep-alive', 'Via': '1.1 vegur', 'Access-Control-Allow-Headers': 'Origin, Access-Control-Request-Method, Access-Control-Request-Headers, Content-Type, Accept, X-Auth-Token, Authorization', 'Cache-Control': 'private, max-age=0, must-revalidate', 'Content-Type': 'application/json; charset=utf-8', 'Date': 'Thu, 26 Apr 2018 23:18:14 GMT'}}\n"
     ]
    },
    {
     "data": {
      "text/plain": [
       "[None]"
      ]
     },
     "execution_count": 163,
     "metadata": {},
     "output_type": "execute_result"
    }
   ],
   "source": [
    "# list(map(lambda x: x.annotation, music))\n",
    "# print(type(music[0]))\n",
    "# print(music[0].__dict__['_body'])\n",
    "\n",
    "import requests\n",
    "from bs4 import BeautifulSoup\n",
    "import json\n",
    "\n",
    "def get_annotations(song):\n",
    "    print(song.title)\n",
    "    api_calls = [annotation['api_path'] for annotation in\n",
    "                 song.__dict__['_body']['description_annotation']['annotations']]\n",
    "#     print(song.__dict__.keys())\n",
    "#     print(song.__dict__)\n",
    "#     print(song.__dict__['_body'])\n",
    "    #     print(api_calls)\n",
    "    def get_from_api(api_url):\n",
    "        print('http://api.genius.com' + api_url)\n",
    "        page = requests.get('http://api.genius.com' + api_url,\n",
    "                            headers={'Authorization': 'Bearer ' + genius_client_access_token})\n",
    "        print(page.__dict__)\n",
    "#         print(page.__dict__.keys())\n",
    "    #         annotation_dict = json.loads(page.__dict__['_content'].decode())['response']['annotation']['body']['dom']\n",
    "    # #         print(annotation_dict)\n",
    "    #         for key in annotation_dict:\n",
    "    #             print(\"NEW\")\n",
    "    #             print(key)\n",
    "    #             print(annotation_dict[key])\n",
    "    return [get_from_api(url) for url in api_calls]\n",
    "get_annotations(music[2])\n"
   ]
  },
  {
   "cell_type": "code",
   "execution_count": 26,
   "metadata": {
    "collapsed": true
   },
   "outputs": [],
   "source": [
    "# headers = {'Authorization': 'Bearer %s' % genius_client_access_token}\n",
    "# search_url = base_url + '/search'\n",
    "# song_title = 'Mercy'\n",
    "# params = {'q': song_title}\n",
    "# response = requests.get(search_url, params=params, headers=headers)\n",
    "# json = response.json()\n",
    "# print(json)"
   ]
  },
  {
   "cell_type": "code",
   "execution_count": 27,
   "metadata": {
    "collapsed": true
   },
   "outputs": [],
   "source": [
    "df.to_pickle('data.pkl')"
   ]
  },
  {
   "cell_type": "code",
   "execution_count": 46,
   "metadata": {
    "collapsed": false
   },
   "outputs": [],
   "source": [
    "# spotify_token = 'BQCVEzRlbQgkEb06zkDYJKDQAzzGCm19cyf5pugp5RnUxls0OyJR-vlNyxa8bjIx-_vaBkXrY7FrSxMQCGsGieSXVgE8VnVlCtiNm-nNSnRDNsayJWUaMgKQwAk4iNisv_i6vx4FzpE'\n",
    "spotify_token = 'BQBippMPZbTosK050_kzP3uESjQxmMuaqRYeHaswETEjxl23bOoviQ2bbuID1WVUtN0oQ55o4tXGd9FH_9JfmQ6B-Hwysq_sycqrUfKPvYnC_cBPa845hzWbiJ3E6oN8iIBSUswuPWI'\n",
    "spotify = spotipy.Spotify(auth=spotify_token)\n",
    "def get_song(song):\n",
    "    \n",
    "spotify_artists = [spotify.search(q=song.title, type='track') for song in music]"
   ]
  },
  {
   "cell_type": "code",
   "execution_count": 80,
   "metadata": {
    "collapsed": false
   },
   "outputs": [
    {
     "name": "stdout",
     "output_type": "stream",
     "text": [
      "\"18 Years\" by Kanye West:\n",
      "    The next guest.. is my man\n",
      "    Bringing him back, its a pleasure to have him here\n",
      "    Please give it for my ...\n",
      "18 Years\n"
     ]
    },
    {
     "ename": "SpotifyException",
     "evalue": "http status: 401, code:-1 - https://api.spotify.com/v1/search?type=track&limit=10&q=name%3ABohemian%2BRhapsody&offset=0:\n The access token expired",
     "output_type": "error",
     "traceback": [
      "\u001b[1;31m---------------------------------------------------------------------------\u001b[0m",
      "\u001b[1;31mHTTPError\u001b[0m                                 Traceback (most recent call last)",
      "\u001b[1;32m/home/jeffreycheng/anaconda3/lib/python3.5/site-packages/spotipy/client.py\u001b[0m in \u001b[0;36m_internal_call\u001b[1;34m(self, method, url, payload, params)\u001b[0m\n\u001b[0;32m    118\u001b[0m         \u001b[1;32mtry\u001b[0m\u001b[1;33m:\u001b[0m\u001b[1;33m\u001b[0m\u001b[0m\n\u001b[1;32m--> 119\u001b[1;33m             \u001b[0mr\u001b[0m\u001b[1;33m.\u001b[0m\u001b[0mraise_for_status\u001b[0m\u001b[1;33m(\u001b[0m\u001b[1;33m)\u001b[0m\u001b[1;33m\u001b[0m\u001b[0m\n\u001b[0m\u001b[0;32m    120\u001b[0m         \u001b[1;32mexcept\u001b[0m\u001b[1;33m:\u001b[0m\u001b[1;33m\u001b[0m\u001b[0m\n",
      "\u001b[1;32m/home/jeffreycheng/anaconda3/lib/python3.5/site-packages/requests/models.py\u001b[0m in \u001b[0;36mraise_for_status\u001b[1;34m(self)\u001b[0m\n\u001b[0;32m    936\u001b[0m         \u001b[1;32mif\u001b[0m \u001b[0mhttp_error_msg\u001b[0m\u001b[1;33m:\u001b[0m\u001b[1;33m\u001b[0m\u001b[0m\n\u001b[1;32m--> 937\u001b[1;33m             \u001b[1;32mraise\u001b[0m \u001b[0mHTTPError\u001b[0m\u001b[1;33m(\u001b[0m\u001b[0mhttp_error_msg\u001b[0m\u001b[1;33m,\u001b[0m \u001b[0mresponse\u001b[0m\u001b[1;33m=\u001b[0m\u001b[0mself\u001b[0m\u001b[1;33m)\u001b[0m\u001b[1;33m\u001b[0m\u001b[0m\n\u001b[0m\u001b[0;32m    938\u001b[0m \u001b[1;33m\u001b[0m\u001b[0m\n",
      "\u001b[1;31mHTTPError\u001b[0m: 401 Client Error: Unauthorized for url: https://api.spotify.com/v1/search?type=track&limit=10&q=name%3ABohemian%2BRhapsody&offset=0",
      "\nDuring handling of the above exception, another exception occurred:\n",
      "\u001b[1;31mSpotifyException\u001b[0m                          Traceback (most recent call last)",
      "\u001b[1;32m<ipython-input-80-642c44b38ead>\u001b[0m in \u001b[0;36m<module>\u001b[1;34m()\u001b[0m\n\u001b[0;32m      2\u001b[0m \u001b[0mprint\u001b[0m\u001b[1;33m(\u001b[0m\u001b[0mmusic\u001b[0m\u001b[1;33m[\u001b[0m\u001b[1;36m1\u001b[0m\u001b[1;33m]\u001b[0m\u001b[1;33m.\u001b[0m\u001b[0mtitle\u001b[0m\u001b[1;33m)\u001b[0m\u001b[1;33m\u001b[0m\u001b[0m\n\u001b[0;32m      3\u001b[0m \u001b[1;31m# print(spotify_artists[1])\u001b[0m\u001b[1;33m\u001b[0m\u001b[1;33m\u001b[0m\u001b[0m\n\u001b[1;32m----> 4\u001b[1;33m \u001b[0mprint\u001b[0m\u001b[1;33m(\u001b[0m\u001b[0mspotify\u001b[0m\u001b[1;33m.\u001b[0m\u001b[0msearch\u001b[0m\u001b[1;33m(\u001b[0m\u001b[0mq\u001b[0m\u001b[1;33m=\u001b[0m\u001b[1;34m'name:Bohemian+Rhapsody'\u001b[0m\u001b[1;33m,\u001b[0m \u001b[0mtype\u001b[0m\u001b[1;33m=\u001b[0m\u001b[1;34m'track'\u001b[0m\u001b[1;33m)\u001b[0m\u001b[1;33m)\u001b[0m\u001b[1;33m\u001b[0m\u001b[0m\n\u001b[0m\u001b[0;32m      5\u001b[0m \u001b[0mprint\u001b[0m\u001b[1;33m\u001b[0m\u001b[0m\n",
      "\u001b[1;32m/home/jeffreycheng/anaconda3/lib/python3.5/site-packages/spotipy/client.py\u001b[0m in \u001b[0;36msearch\u001b[1;34m(self, q, limit, offset, type, market)\u001b[0m\n\u001b[0;32m    337\u001b[0m                 \u001b[1;33m-\u001b[0m \u001b[0mmarket\u001b[0m \u001b[1;33m-\u001b[0m \u001b[0mAn\u001b[0m \u001b[0mISO\u001b[0m \u001b[1;36m3166\u001b[0m\u001b[1;33m-\u001b[0m\u001b[1;36m1\u001b[0m \u001b[0malpha\u001b[0m\u001b[1;33m-\u001b[0m\u001b[1;36m2\u001b[0m \u001b[0mcountry\u001b[0m \u001b[0mcode\u001b[0m \u001b[1;32mor\u001b[0m \u001b[0mthe\u001b[0m \u001b[0mstring\u001b[0m \u001b[0mfrom_token\u001b[0m\u001b[1;33m.\u001b[0m\u001b[1;33m\u001b[0m\u001b[0m\n\u001b[0;32m    338\u001b[0m         '''\n\u001b[1;32m--> 339\u001b[1;33m         \u001b[1;32mreturn\u001b[0m \u001b[0mself\u001b[0m\u001b[1;33m.\u001b[0m\u001b[0m_get\u001b[0m\u001b[1;33m(\u001b[0m\u001b[1;34m'search'\u001b[0m\u001b[1;33m,\u001b[0m \u001b[0mq\u001b[0m\u001b[1;33m=\u001b[0m\u001b[0mq\u001b[0m\u001b[1;33m,\u001b[0m \u001b[0mlimit\u001b[0m\u001b[1;33m=\u001b[0m\u001b[0mlimit\u001b[0m\u001b[1;33m,\u001b[0m \u001b[0moffset\u001b[0m\u001b[1;33m=\u001b[0m\u001b[0moffset\u001b[0m\u001b[1;33m,\u001b[0m \u001b[0mtype\u001b[0m\u001b[1;33m=\u001b[0m\u001b[0mtype\u001b[0m\u001b[1;33m,\u001b[0m \u001b[0mmarket\u001b[0m\u001b[1;33m=\u001b[0m\u001b[0mmarket\u001b[0m\u001b[1;33m)\u001b[0m\u001b[1;33m\u001b[0m\u001b[0m\n\u001b[0m\u001b[0;32m    340\u001b[0m \u001b[1;33m\u001b[0m\u001b[0m\n\u001b[0;32m    341\u001b[0m     \u001b[1;32mdef\u001b[0m \u001b[0muser\u001b[0m\u001b[1;33m(\u001b[0m\u001b[0mself\u001b[0m\u001b[1;33m,\u001b[0m \u001b[0muser\u001b[0m\u001b[1;33m)\u001b[0m\u001b[1;33m:\u001b[0m\u001b[1;33m\u001b[0m\u001b[0m\n",
      "\u001b[1;32m/home/jeffreycheng/anaconda3/lib/python3.5/site-packages/spotipy/client.py\u001b[0m in \u001b[0;36m_get\u001b[1;34m(self, url, args, payload, **kwargs)\u001b[0m\n\u001b[0;32m    144\u001b[0m         \u001b[1;32mwhile\u001b[0m \u001b[0mretries\u001b[0m \u001b[1;33m>\u001b[0m \u001b[1;36m0\u001b[0m\u001b[1;33m:\u001b[0m\u001b[1;33m\u001b[0m\u001b[0m\n\u001b[0;32m    145\u001b[0m             \u001b[1;32mtry\u001b[0m\u001b[1;33m:\u001b[0m\u001b[1;33m\u001b[0m\u001b[0m\n\u001b[1;32m--> 146\u001b[1;33m                 \u001b[1;32mreturn\u001b[0m \u001b[0mself\u001b[0m\u001b[1;33m.\u001b[0m\u001b[0m_internal_call\u001b[0m\u001b[1;33m(\u001b[0m\u001b[1;34m'GET'\u001b[0m\u001b[1;33m,\u001b[0m \u001b[0murl\u001b[0m\u001b[1;33m,\u001b[0m \u001b[0mpayload\u001b[0m\u001b[1;33m,\u001b[0m \u001b[0mkwargs\u001b[0m\u001b[1;33m)\u001b[0m\u001b[1;33m\u001b[0m\u001b[0m\n\u001b[0m\u001b[0;32m    147\u001b[0m             \u001b[1;32mexcept\u001b[0m \u001b[0mSpotifyException\u001b[0m \u001b[1;32mas\u001b[0m \u001b[0me\u001b[0m\u001b[1;33m:\u001b[0m\u001b[1;33m\u001b[0m\u001b[0m\n\u001b[0;32m    148\u001b[0m                 \u001b[0mretries\u001b[0m \u001b[1;33m-=\u001b[0m \u001b[1;36m1\u001b[0m\u001b[1;33m\u001b[0m\u001b[0m\n",
      "\u001b[1;32m/home/jeffreycheng/anaconda3/lib/python3.5/site-packages/spotipy/client.py\u001b[0m in \u001b[0;36m_internal_call\u001b[1;34m(self, method, url, payload, params)\u001b[0m\n\u001b[0;32m    122\u001b[0m                 raise SpotifyException(r.status_code,\n\u001b[0;32m    123\u001b[0m                     \u001b[1;33m-\u001b[0m\u001b[1;36m1\u001b[0m\u001b[1;33m,\u001b[0m \u001b[1;34m'%s:\\n %s'\u001b[0m \u001b[1;33m%\u001b[0m \u001b[1;33m(\u001b[0m\u001b[0mr\u001b[0m\u001b[1;33m.\u001b[0m\u001b[0murl\u001b[0m\u001b[1;33m,\u001b[0m \u001b[0mr\u001b[0m\u001b[1;33m.\u001b[0m\u001b[0mjson\u001b[0m\u001b[1;33m(\u001b[0m\u001b[1;33m)\u001b[0m\u001b[1;33m[\u001b[0m\u001b[1;34m'error'\u001b[0m\u001b[1;33m]\u001b[0m\u001b[1;33m[\u001b[0m\u001b[1;34m'message'\u001b[0m\u001b[1;33m]\u001b[0m\u001b[1;33m)\u001b[0m\u001b[1;33m,\u001b[0m\u001b[1;33m\u001b[0m\u001b[0m\n\u001b[1;32m--> 124\u001b[1;33m                     headers=r.headers)\n\u001b[0m\u001b[0;32m    125\u001b[0m             \u001b[1;32melse\u001b[0m\u001b[1;33m:\u001b[0m\u001b[1;33m\u001b[0m\u001b[0m\n\u001b[0;32m    126\u001b[0m                 raise SpotifyException(r.status_code,\n",
      "\u001b[1;31mSpotifyException\u001b[0m: http status: 401, code:-1 - https://api.spotify.com/v1/search?type=track&limit=10&q=name%3ABohemian%2BRhapsody&offset=0:\n The access token expired"
     ]
    }
   ],
   "source": [
    "print(music[1])\n",
    "print(music[1].title)\n",
    "# print(spotify_artists[1])\n",
    "print(spotify.search(q='name:Bohemian+Rhapsody', type='track'))\n",
    "print"
   ]
  },
  {
   "cell_type": "code",
   "execution_count": null,
   "metadata": {
    "collapsed": false
   },
   "outputs": [],
   "source": [
    "yeezy = spotify.artist_top_tracks('5K4W6rqBFWDnAN6FQUkS6x')\n",
    "for track in yeezy['tracks'][:10]:\n",
    "    print('track    : ' + track['name'])"
   ]
  },
  {
   "cell_type": "code",
   "execution_count": null,
   "metadata": {
    "collapsed": true
   },
   "outputs": [],
   "source": []
  }
 ],
 "metadata": {
  "kernelspec": {
   "display_name": "Python 3",
   "language": "python",
   "name": "python3"
  },
  "language_info": {
   "codemirror_mode": {
    "name": "ipython",
    "version": 3
   },
   "file_extension": ".py",
   "mimetype": "text/x-python",
   "name": "python",
   "nbconvert_exporter": "python",
   "pygments_lexer": "ipython3",
   "version": "3.5.4"
  }
 },
 "nbformat": 4,
 "nbformat_minor": 1
}
