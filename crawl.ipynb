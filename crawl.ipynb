{
 "cells": [
  {
   "cell_type": "code",
   "execution_count": 1,
   "metadata": {},
   "outputs": [
    {
     "name": "stdout",
     "output_type": "stream",
     "text": [
      "Requirement already satisfied: lyricsgenius in /Users/ericdong/anaconda3/lib/python3.6/site-packages\n",
      "Requirement already satisfied: beautifulsoup4==4.6.0 in /Users/ericdong/anaconda3/lib/python3.6/site-packages (from lyricsgenius)\n",
      "Requirement already satisfied: requests==2.18.1 in /Users/ericdong/anaconda3/lib/python3.6/site-packages (from lyricsgenius)\n",
      "Requirement already satisfied: urllib3<1.22,>=1.21.1 in /Users/ericdong/anaconda3/lib/python3.6/site-packages (from requests==2.18.1->lyricsgenius)\n",
      "Requirement already satisfied: idna<2.6,>=2.5 in /Users/ericdong/anaconda3/lib/python3.6/site-packages (from requests==2.18.1->lyricsgenius)\n",
      "Requirement already satisfied: certifi>=2017.4.17 in /Users/ericdong/anaconda3/lib/python3.6/site-packages (from requests==2.18.1->lyricsgenius)\n",
      "Requirement already satisfied: chardet<3.1.0,>=3.0.2 in /Users/ericdong/anaconda3/lib/python3.6/site-packages (from requests==2.18.1->lyricsgenius)\n",
      "\u001b[33mYou are using pip version 9.0.3, however version 10.0.1 is available.\n",
      "You should consider upgrading via the 'pip install --upgrade pip' command.\u001b[0m\n",
      "Requirement already satisfied: spotipy in /Users/ericdong/anaconda3/lib/python3.6/site-packages\n",
      "Requirement already satisfied: requests>=1.0 in /Users/ericdong/anaconda3/lib/python3.6/site-packages (from spotipy)\n",
      "Requirement already satisfied: certifi>=2017.4.17 in /Users/ericdong/anaconda3/lib/python3.6/site-packages (from requests>=1.0->spotipy)\n",
      "Requirement already satisfied: idna<2.6,>=2.5 in /Users/ericdong/anaconda3/lib/python3.6/site-packages (from requests>=1.0->spotipy)\n",
      "Requirement already satisfied: chardet<3.1.0,>=3.0.2 in /Users/ericdong/anaconda3/lib/python3.6/site-packages (from requests>=1.0->spotipy)\n",
      "Requirement already satisfied: urllib3<1.22,>=1.21.1 in /Users/ericdong/anaconda3/lib/python3.6/site-packages (from requests>=1.0->spotipy)\n",
      "\u001b[33mYou are using pip version 9.0.3, however version 10.0.1 is available.\n",
      "You should consider upgrading via the 'pip install --upgrade pip' command.\u001b[0m\n",
      "Requirement already satisfied: selenium in /Users/ericdong/anaconda3/lib/python3.6/site-packages\n",
      "\u001b[33mYou are using pip version 9.0.3, however version 10.0.1 is available.\n",
      "You should consider upgrading via the 'pip install --upgrade pip' command.\u001b[0m\n"
     ]
    }
   ],
   "source": [
    "import sys\n",
    "!{sys.executable} -m pip install lyricsgenius\n",
    "!{sys.executable} -m pip install spotipy\n",
    "!{sys.executable} -m pip install selenium\n",
    "import pandas as pd\n",
    "import requests\n",
    "import lyricsgenius as genius\n",
    "import spotipy\n",
    "import time\n",
    "from selenium import webdriver\n",
    "from selenium.webdriver.common.keys import Keys"
   ]
  },
  {
   "cell_type": "code",
   "execution_count": 2,
   "metadata": {
    "collapsed": true
   },
   "outputs": [],
   "source": [
    "genius_client_id = 'Qeii-UKMUUwsAYCuuemsF7CZk7R2bFDhjP1FMkqpozASvYsA4wQDlLmd2JFM3Vhm'\n",
    "genius_secret_id = 'fWhV7VtwAL-5D32Ga9Y0Kyh_VFEo7XK0Jf8-3RMcZ5EoMXqsDpmFWFFPyobnibfMXJuJ-GZe69YEuXR-36VGAA'\n",
    "genius_client_access_token = '1QVL91jZbgdOIhvYhqKku_zkFDf6MHEyLpXEITHU2tE2HGvAqYIPInTrQaWcInD7'\n",
    "app_website_url = 'http://cis545genius.com'\n",
    "redirect_uri = 'cis545genius.com'\n",
    "base_url = 'https://api.genius.com'\n",
    "driver_path = '/Users/ericdong/Downloads/chromedriver'\n",
    "# driver_path = \"/mnt/c/Users/jeffr/Downloads/chromedriver_win32/chromedriver.exe\"\n",
    "artist_url = 'https://www.ranker.com/crowdranked-list/the-greatest-rappers-of-all-time'\n",
    "page_downs = 0\n",
    "api = genius.Genius(genius_client_access_token)\n",
    "\n",
    "spotify_client_id = '96bdc763e3b5446ebbd6c44850055bcb'\n",
    "spotify_secret_id = 'f7a5054823ed491aa1856ecdc7849062'\n"
   ]
  },
  {
   "cell_type": "code",
   "execution_count": 3,
   "metadata": {
    "collapsed": true
   },
   "outputs": [],
   "source": [
    "def get_artists(url, page_downs, driver_path):\n",
    "    driver = webdriver.Chrome(driver_path)\n",
    "    driver.get(url)\n",
    "    time.sleep(1)\n",
    "    page = driver.find_element_by_tag_name('body')\n",
    "    for i in range(page_downs):\n",
    "        page.send_keys(Keys.PAGE_DOWN)\n",
    "        time.sleep(0.2)\n",
    "    artists = driver.find_elements_by_class_name('listItem__data')\n",
    "    names = [artist.find_element_by_class_name('listItem__title').text for artist in artists[:-1]]\n",
    "    driver.quit()\n",
    "    \n",
    "    return names"
   ]
  },
  {
   "cell_type": "code",
   "execution_count": 12,
   "metadata": {
    "collapsed": true
   },
   "outputs": [],
   "source": [
    "def get_songs(artist):\n",
    "    return api.search_artist(artist, verbose=False, max_songs=10)"
   ]
  },
  {
   "cell_type": "code",
   "execution_count": 5,
   "metadata": {},
   "outputs": [],
   "source": [
    "artists = get_artists(artist_url, page_downs, driver_path)"
   ]
  },
  {
   "cell_type": "code",
   "execution_count": 7,
   "metadata": {},
   "outputs": [
    {
     "name": "stdout",
     "output_type": "stream",
     "text": [
      "['Tupac', 'Eminem', 'The Notorious B.I.G.', 'Nas', 'Ice Cube', 'Jay-Z', 'Snoop Dogg', 'Dr. Dre', 'Kendrick Lamar', 'Rakim', 'André 3000', 'Eazy-E', '50 Cent', 'Kanye West', 'DMX', 'J. Cole', 'Busta Rhymes', 'Method Man', 'Mos Def', 'Lil Wayne', 'Ludacris', 'KRS-One', 'LL Cool J', 'Common', 'Ghostface Killah', 'Big L', 'Redman', 'T.I.', 'Big Pun', 'Nate Dogg', 'Tech N9ne', 'Lauryn Hill', 'Scarface', 'Slick Rick', 'The Game', 'Raekwon', 'Big Daddy Kane', \"Ol' Dirty Bastard\", 'Mobb Deep', 'Chance the Rapper', 'Logic', 'Cypress Hill', 'Ice-T', 'Lupe Fiasco', 'RZA', 'GZA', 'Warren G', 'Q-Tip', 'Xzibit', 'ASAP Rocky']\n"
     ]
    }
   ],
   "source": [
    "print(artists)"
   ]
  },
  {
   "cell_type": "code",
   "execution_count": 8,
   "metadata": {
    "collapsed": true
   },
   "outputs": [],
   "source": [
    "# test set of artists\n",
    "artists = ['Kanye West', 'Migos']"
   ]
  },
  {
   "cell_type": "code",
   "execution_count": 13,
   "metadata": {
    "collapsed": true
   },
   "outputs": [],
   "source": [
    "music = []\n",
    "for artist in artists:\n",
    "    try:\n",
    "        music = music + get_songs(artist).songs\n",
    "    except AssertionError:\n",
    "        pass"
   ]
  },
  {
   "cell_type": "code",
   "execution_count": 14,
   "metadata": {},
   "outputs": [
    {
     "name": "stdout",
     "output_type": "stream",
     "text": [
      "[(\"'03 Electric Relaxation\", 'Kanye West'), ('18 Years', 'Kanye West'), ('1996 Fat Beats Freestyle', 'Kanye West'), ('2002 Unreleased Freestyle', 'Kanye West'), ('2004 Tim Westwood Freestyle', 'Kanye West'), ('2013 Yeezus Tour Dates', 'Kanye West'), ('2013 Zane Lowe BBC Radio Interview Part 1', 'Kanye West'), ('2013 Zane Lowe BBC Radio Interview Part 2', 'Kanye West'), ('2014 Yeezus Tour Dates', 'Kanye West'), ('2015 BET Honors Visionary Award Acceptance Speech', 'Kanye West'), ('1017', 'Migos'), ('11 Birds', 'Migos'), ('2Pac & Biggie', 'Migos'), ('3 Mics', 'Migos'), ('3 Way EP [Album Art + Tracklist]', 'Migos'), ('3 Way (Intro)', 'Migos'), ('50 Bitches (Lick It Off)', 'Migos'), ('50 Chicks', 'Migos'), ('9 On Me', 'Migos'), ('Add It Up', 'Migos')]\n"
     ]
    }
   ],
   "source": [
    "print(music)"
   ]
  },
  {
   "cell_type": "code",
   "execution_count": 17,
   "metadata": {},
   "outputs": [
    {
     "data": {
      "text/html": [
       "<div>\n",
       "<style>\n",
       "    .dataframe thead tr:only-child th {\n",
       "        text-align: right;\n",
       "    }\n",
       "\n",
       "    .dataframe thead th {\n",
       "        text-align: left;\n",
       "    }\n",
       "\n",
       "    .dataframe tbody tr th {\n",
       "        vertical-align: top;\n",
       "    }\n",
       "</style>\n",
       "<table border=\"1\" class=\"dataframe\">\n",
       "  <thead>\n",
       "    <tr style=\"text-align: right;\">\n",
       "      <th></th>\n",
       "      <th>artist</th>\n",
       "      <th>song</th>\n",
       "      <th>album</th>\n",
       "      <th>lyrics</th>\n",
       "    </tr>\n",
       "  </thead>\n",
       "  <tbody>\n",
       "    <tr>\n",
       "      <th>0</th>\n",
       "      <td>Kanye West</td>\n",
       "      <td>'03 Electric Relaxation</td>\n",
       "      <td>None</td>\n",
       "      <td>You got to\\n\\nRelax yourself or we'll whack ya...</td>\n",
       "    </tr>\n",
       "    <tr>\n",
       "      <th>1</th>\n",
       "      <td>Kanye West</td>\n",
       "      <td>18 Years</td>\n",
       "      <td>Def Poetry Jam</td>\n",
       "      <td>The next guest.. is my man\\nBringing him back,...</td>\n",
       "    </tr>\n",
       "    <tr>\n",
       "      <th>2</th>\n",
       "      <td>Kanye West</td>\n",
       "      <td>1996 Fat Beats Freestyle</td>\n",
       "      <td>None</td>\n",
       "      <td>Yo it's the Lake Shore Drive\\nKeep it live, ti...</td>\n",
       "    </tr>\n",
       "    <tr>\n",
       "      <th>3</th>\n",
       "      <td>Kanye West</td>\n",
       "      <td>2002 Unreleased Freestyle</td>\n",
       "      <td>None</td>\n",
       "      <td>Ayo\\nPlanes, trains, automobiles\\nThe G500s wi...</td>\n",
       "    </tr>\n",
       "    <tr>\n",
       "      <th>4</th>\n",
       "      <td>Kanye West</td>\n",
       "      <td>2004 Tim Westwood Freestyle</td>\n",
       "      <td>None</td>\n",
       "      <td>I told her to drive over after dude crib\\nBrin...</td>\n",
       "    </tr>\n",
       "  </tbody>\n",
       "</table>\n",
       "</div>"
      ],
      "text/plain": [
       "       artist                         song           album  \\\n",
       "0  Kanye West      '03 Electric Relaxation            None   \n",
       "1  Kanye West                     18 Years  Def Poetry Jam   \n",
       "2  Kanye West     1996 Fat Beats Freestyle            None   \n",
       "3  Kanye West    2002 Unreleased Freestyle            None   \n",
       "4  Kanye West  2004 Tim Westwood Freestyle            None   \n",
       "\n",
       "                                              lyrics  \n",
       "0  You got to\\n\\nRelax yourself or we'll whack ya...  \n",
       "1  The next guest.. is my man\\nBringing him back,...  \n",
       "2  Yo it's the Lake Shore Drive\\nKeep it live, ti...  \n",
       "3  Ayo\\nPlanes, trains, automobiles\\nThe G500s wi...  \n",
       "4  I told her to drive over after dude crib\\nBrin...  "
      ]
     },
     "execution_count": 17,
     "metadata": {},
     "output_type": "execute_result"
    }
   ],
   "source": [
    "df = pd.DataFrame()\n",
    "df['artist'] = list(map(lambda x: x.artist, music))\n",
    "df['song'] = list(map(lambda x: x.title, music))\n",
    "df['album'] = list(map(lambda x: x.album, music))\n",
    "df['lyrics'] = list(map(lambda x: x.lyrics, music))\n",
    "df.head()"
   ]
  },
  {
   "cell_type": "code",
   "execution_count": 33,
   "metadata": {},
   "outputs": [],
   "source": [
    "# list(map(lambda x: x.annotation, music))"
   ]
  },
  {
   "cell_type": "code",
   "execution_count": 18,
   "metadata": {
    "collapsed": true
   },
   "outputs": [],
   "source": [
    "# headers = {'Authorization': 'Bearer %s' % genius_client_access_token}\n",
    "# search_url = base_url + '/search'\n",
    "# song_title = 'Mercy'\n",
    "# params = {'q': song_title}\n",
    "# response = requests.get(search_url, params=params, headers=headers)\n",
    "# json = response.json()\n",
    "# print(json)"
   ]
  },
  {
   "cell_type": "code",
   "execution_count": 21,
   "metadata": {
    "collapsed": true
   },
   "outputs": [],
   "source": [
    "df.to_pickle('data.pkl')"
   ]
  },
  {
   "cell_type": "code",
   "execution_count": 34,
   "metadata": {},
   "outputs": [],
   "source": [
    "spotify_token = 'BQCVEzRlbQgkEb06zkDYJKDQAzzGCm19cyf5pugp5RnUxls0OyJR-vlNyxa8bjIx-_vaBkXrY7FrSxMQCGsGieSXVgE8VnVlCtiNm-nNSnRDNsayJWUaMgKQwAk4iNisv_i6vx4FzpE'\n",
    "spotify = spotipy.Spotify(auth=spotify_token)\n",
    "spotify_artists = [spotify.search(q='artist:' + artist, type='artist') for artist in artists]"
   ]
  },
  {
   "cell_type": "code",
   "execution_count": 35,
   "metadata": {},
   "outputs": [
    {
     "name": "stdout",
     "output_type": "stream",
     "text": [
      "[{'artists': {'href': 'https://api.spotify.com/v1/search?query=artist%3AKanye+West&type=artist&market=US&offset=0&limit=10', 'items': [{'external_urls': {'spotify': 'https://open.spotify.com/artist/5K4W6rqBFWDnAN6FQUkS6x'}, 'followers': {'href': None, 'total': 7141349}, 'genres': ['pop', 'pop rap', 'rap'], 'href': 'https://api.spotify.com/v1/artists/5K4W6rqBFWDnAN6FQUkS6x', 'id': '5K4W6rqBFWDnAN6FQUkS6x', 'images': [{'height': 1000, 'url': 'https://i.scdn.co/image/651370b09316c3851153b1ccf04e7d6f29bf39df', 'width': 1000}, {'height': 640, 'url': 'https://i.scdn.co/image/69813307d0aabd163bd206455fd1d8a45484e2d1', 'width': 640}, {'height': 200, 'url': 'https://i.scdn.co/image/f30e0dfe57e25c2ee133b15242a7fc0eb917232c', 'width': 200}, {'height': 64, 'url': 'https://i.scdn.co/image/78ff00bb0c95d64f016739628bac1198b0ac6e98', 'width': 64}], 'name': 'Kanye West', 'popularity': 89, 'type': 'artist', 'uri': 'spotify:artist:5K4W6rqBFWDnAN6FQUkS6x'}, {'external_urls': {'spotify': 'https://open.spotify.com/artist/780joy6Tg2HvyYAczsohZf'}, 'followers': {'href': None, 'total': 1490}, 'genres': [], 'href': 'https://api.spotify.com/v1/artists/780joy6Tg2HvyYAczsohZf', 'id': '780joy6Tg2HvyYAczsohZf', 'images': [], 'name': 'T-PAIN & KANYE WEST', 'popularity': 25, 'type': 'artist', 'uri': 'spotify:artist:780joy6Tg2HvyYAczsohZf'}, {'external_urls': {'spotify': 'https://open.spotify.com/artist/2BYfXvfV9YJR4orpk4PET2'}, 'followers': {'href': None, 'total': 0}, 'genres': [], 'href': 'https://api.spotify.com/v1/artists/2BYfXvfV9YJR4orpk4PET2', 'id': '2BYfXvfV9YJR4orpk4PET2', 'images': [], 'name': 'Kanye Omari West', 'popularity': 8, 'type': 'artist', 'uri': 'spotify:artist:2BYfXvfV9YJR4orpk4PET2'}, {'external_urls': {'spotify': 'https://open.spotify.com/artist/0JzERClnaGwpsLlQZG9PNY'}, 'followers': {'href': None, 'total': 21}, 'genres': [], 'href': 'https://api.spotify.com/v1/artists/0JzERClnaGwpsLlQZG9PNY', 'id': '0JzERClnaGwpsLlQZG9PNY', 'images': [], 'name': 'Hot Karl & Kanye West', 'popularity': 0, 'type': 'artist', 'uri': 'spotify:artist:0JzERClnaGwpsLlQZG9PNY'}, {'external_urls': {'spotify': 'https://open.spotify.com/artist/1ns5i3B9M11trSx0HcO4B1'}, 'followers': {'href': None, 'total': 5}, 'genres': [], 'href': 'https://api.spotify.com/v1/artists/1ns5i3B9M11trSx0HcO4B1', 'id': '1ns5i3B9M11trSx0HcO4B1', 'images': [], 'name': '\"The Public Perception of Kanye West\"', 'popularity': 0, 'type': 'artist', 'uri': 'spotify:artist:1ns5i3B9M11trSx0HcO4B1'}, {'external_urls': {'spotify': 'https://open.spotify.com/artist/1FSBOmsZvUb3sjGO0EeFkA'}, 'followers': {'href': None, 'total': 162}, 'genres': [], 'href': 'https://api.spotify.com/v1/artists/1FSBOmsZvUb3sjGO0EeFkA', 'id': '1FSBOmsZvUb3sjGO0EeFkA', 'images': [], 'name': 'Rihanna & Kanye West', 'popularity': 0, 'type': 'artist', 'uri': 'spotify:artist:1FSBOmsZvUb3sjGO0EeFkA'}, {'external_urls': {'spotify': 'https://open.spotify.com/artist/5IbkSI5jXbcHgmOCQeL1Tj'}, 'followers': {'href': None, 'total': 57}, 'genres': [], 'href': 'https://api.spotify.com/v1/artists/5IbkSI5jXbcHgmOCQeL1Tj', 'id': '5IbkSI5jXbcHgmOCQeL1Tj', 'images': [{'height': 640, 'url': 'https://i.scdn.co/image/4ff3b8049438ab87452cc0e9b141375cf616a3f7', 'width': 640}, {'height': 300, 'url': 'https://i.scdn.co/image/932f90891766d1c0eb12bcb1c1b967c2ca785d8c', 'width': 300}, {'height': 64, 'url': 'https://i.scdn.co/image/f5f344afaa6e591a5ff4e8470178d9b06e23e940', 'width': 64}], 'name': 'Kanye West Tribute Team', 'popularity': 2, 'type': 'artist', 'uri': 'spotify:artist:5IbkSI5jXbcHgmOCQeL1Tj'}, {'external_urls': {'spotify': 'https://open.spotify.com/artist/2k9CWxElb7Z6749jgeylsE'}, 'followers': {'href': None, 'total': 26}, 'genres': [], 'href': 'https://api.spotify.com/v1/artists/2k9CWxElb7Z6749jgeylsE', 'id': '2k9CWxElb7Z6749jgeylsE', 'images': [], 'name': 'Made famous by Kanye West', 'popularity': 0, 'type': 'artist', 'uri': 'spotify:artist:2k9CWxElb7Z6749jgeylsE'}, {'external_urls': {'spotify': 'https://open.spotify.com/artist/0JI5J5OgHKVgtKfPoZuOmT'}, 'followers': {'href': None, 'total': 15}, 'genres': [], 'href': 'https://api.spotify.com/v1/artists/0JI5J5OgHKVgtKfPoZuOmT', 'id': '0JI5J5OgHKVgtKfPoZuOmT', 'images': [], 'name': 'made famous by Kid Cudi feat Kanye West', 'popularity': 9, 'type': 'artist', 'uri': 'spotify:artist:0JI5J5OgHKVgtKfPoZuOmT'}, {'external_urls': {'spotify': 'https://open.spotify.com/artist/7qXdTtH5LqGTiWEX65aZMX'}, 'followers': {'href': None, 'total': 21}, 'genres': [], 'href': 'https://api.spotify.com/v1/artists/7qXdTtH5LqGTiWEX65aZMX', 'id': '7qXdTtH5LqGTiWEX65aZMX', 'images': [], 'name': 'Made famous by Katy Perry feat Kanye West', 'popularity': 7, 'type': 'artist', 'uri': 'spotify:artist:7qXdTtH5LqGTiWEX65aZMX'}], 'limit': 10, 'next': None, 'offset': 0, 'previous': None, 'total': 10}}, {'artists': {'href': 'https://api.spotify.com/v1/search?query=artist%3AMigos&type=artist&market=US&offset=0&limit=10', 'items': [{'external_urls': {'spotify': 'https://open.spotify.com/artist/6oMuImdp5ZcFhWP0ESe6mG'}, 'followers': {'href': None, 'total': 5088184}, 'genres': ['pop', 'rap', 'trap music'], 'href': 'https://api.spotify.com/v1/artists/6oMuImdp5ZcFhWP0ESe6mG', 'id': '6oMuImdp5ZcFhWP0ESe6mG', 'images': [{'height': 640, 'url': 'https://i.scdn.co/image/29180f7f9c945e04de9b39cb5188f6a9171ae485', 'width': 640}, {'height': 320, 'url': 'https://i.scdn.co/image/f31fe04e6bfd7d154cc6434cbec87483b8d2d46e', 'width': 320}, {'height': 160, 'url': 'https://i.scdn.co/image/98b8cc9b24841b0f516dfc52e9228ff7f47041f2', 'width': 160}], 'name': 'Migos', 'popularity': 92, 'type': 'artist', 'uri': 'spotify:artist:6oMuImdp5ZcFhWP0ESe6mG'}, {'external_urls': {'spotify': 'https://open.spotify.com/artist/3dn4XHZRNPUxC2UkepJmxy'}, 'followers': {'href': None, 'total': 14621}, 'genres': [], 'href': 'https://api.spotify.com/v1/artists/3dn4XHZRNPUxC2UkepJmxy', 'id': '3dn4XHZRNPUxC2UkepJmxy', 'images': [{'height': 640, 'url': 'https://i.scdn.co/image/c4fe44c42badeb54256a3c9ad8fc585a502dbe1b', 'width': 640}, {'height': 300, 'url': 'https://i.scdn.co/image/eea5b20cd6474913ecd5e7da16d5c88fddc20b67', 'width': 300}, {'height': 64, 'url': 'https://i.scdn.co/image/0cc33f189381bb9e0e89722bc999cc4953239baf', 'width': 64}], 'name': 'Migos', 'popularity': 32, 'type': 'artist', 'uri': 'spotify:artist:3dn4XHZRNPUxC2UkepJmxy'}, {'external_urls': {'spotify': 'https://open.spotify.com/artist/1kS8DeegHwSYnebbxejf3W'}, 'followers': {'href': None, 'total': 63}, 'genres': [], 'href': 'https://api.spotify.com/v1/artists/1kS8DeegHwSYnebbxejf3W', 'id': '1kS8DeegHwSYnebbxejf3W', 'images': [], 'name': 'Migos', 'popularity': 1, 'type': 'artist', 'uri': 'spotify:artist:1kS8DeegHwSYnebbxejf3W'}, {'external_urls': {'spotify': 'https://open.spotify.com/artist/6oaIMC8E7iemi5SQfkvTfQ'}, 'followers': {'href': None, 'total': 13}, 'genres': [], 'href': 'https://api.spotify.com/v1/artists/6oaIMC8E7iemi5SQfkvTfQ', 'id': '6oaIMC8E7iemi5SQfkvTfQ', 'images': [], 'name': 'Migos', 'popularity': 0, 'type': 'artist', 'uri': 'spotify:artist:6oaIMC8E7iemi5SQfkvTfQ'}, {'external_urls': {'spotify': 'https://open.spotify.com/artist/0UA3DS6MF4O2KjaaSfsRpN'}, 'followers': {'href': None, 'total': 7644}, 'genres': [], 'href': 'https://api.spotify.com/v1/artists/0UA3DS6MF4O2KjaaSfsRpN', 'id': '0UA3DS6MF4O2KjaaSfsRpN', 'images': [], 'name': 'Trap Migos', 'popularity': 7, 'type': 'artist', 'uri': 'spotify:artist:0UA3DS6MF4O2KjaaSfsRpN'}, {'external_urls': {'spotify': 'https://open.spotify.com/artist/7j4DVAyiIuYWeaffOMM5xs'}, 'followers': {'href': None, 'total': 89}, 'genres': [], 'href': 'https://api.spotify.com/v1/artists/7j4DVAyiIuYWeaffOMM5xs', 'id': '7j4DVAyiIuYWeaffOMM5xs', 'images': [], 'name': 'QC Migos', 'popularity': 4, 'type': 'artist', 'uri': 'spotify:artist:7j4DVAyiIuYWeaffOMM5xs'}, {'external_urls': {'spotify': 'https://open.spotify.com/artist/6Jb6hHhHqw670g6XlZpNng'}, 'followers': {'href': None, 'total': 0}, 'genres': [], 'href': 'https://api.spotify.com/v1/artists/6Jb6hHhHqw670g6XlZpNng', 'id': '6Jb6hHhHqw670g6XlZpNng', 'images': [], 'name': '600B, Migos', 'popularity': 0, 'type': 'artist', 'uri': 'spotify:artist:6Jb6hHhHqw670g6XlZpNng'}, {'external_urls': {'spotify': 'https://open.spotify.com/artist/5RKYrWg58SP33s9YlaWCeC'}, 'followers': {'href': None, 'total': 175}, 'genres': [], 'href': 'https://api.spotify.com/v1/artists/5RKYrWg58SP33s9YlaWCeC', 'id': '5RKYrWg58SP33s9YlaWCeC', 'images': [{'height': 640, 'url': 'https://i.scdn.co/image/bf95b3f71c016a0090a69aa599b0f9d38cc8ce8d', 'width': 640}, {'height': 300, 'url': 'https://i.scdn.co/image/ac000c6f01b7ee0c157c78991f25a960bab73529', 'width': 300}, {'height': 64, 'url': 'https://i.scdn.co/image/0ab0a7531e559fe1f23b8dc904420dc9b053f25d', 'width': 64}], 'name': 'Migos and Bg', 'popularity': 0, 'type': 'artist', 'uri': 'spotify:artist:5RKYrWg58SP33s9YlaWCeC'}, {'external_urls': {'spotify': 'https://open.spotify.com/artist/2fHdRV05N73wA1HxVeuy5R'}, 'followers': {'href': None, 'total': 197}, 'genres': [], 'href': 'https://api.spotify.com/v1/artists/2fHdRV05N73wA1HxVeuy5R', 'id': '2fHdRV05N73wA1HxVeuy5R', 'images': [], 'name': 'Takeoff of Migos', 'popularity': 0, 'type': 'artist', 'uri': 'spotify:artist:2fHdRV05N73wA1HxVeuy5R'}, {'external_urls': {'spotify': 'https://open.spotify.com/artist/6hjoojhxsDTJVAZyBMwrVB'}, 'followers': {'href': None, 'total': 71}, 'genres': [], 'href': 'https://api.spotify.com/v1/artists/6hjoojhxsDTJVAZyBMwrVB', 'id': '6hjoojhxsDTJVAZyBMwrVB', 'images': [], 'name': 'Skippa Da Flippa Migos', 'popularity': 0, 'type': 'artist', 'uri': 'spotify:artist:6hjoojhxsDTJVAZyBMwrVB'}], 'limit': 10, 'next': 'https://api.spotify.com/v1/search?query=artist%3AMigos&type=artist&market=US&offset=10&limit=10', 'offset': 0, 'previous': None, 'total': 14}}]\n"
     ]
    }
   ],
   "source": [
    "print(spotify_artists)"
   ]
  },
  {
   "cell_type": "code",
   "execution_count": 36,
   "metadata": {},
   "outputs": [
    {
     "name": "stdout",
     "output_type": "stream",
     "text": [
      "track    : Stronger\n",
      "track    : FourFiveSeconds\n",
      "track    : Gold Digger\n",
      "track    : POWER\n",
      "track    : Ni**as In Paris\n",
      "track    : Father Stretch My Hands Pt. 1\n",
      "track    : Waves\n",
      "track    : Famous\n",
      "track    : Heartless\n",
      "track    : All Of The Lights\n"
     ]
    }
   ],
   "source": [
    "yeezy = spotify.artist_top_tracks('5K4W6rqBFWDnAN6FQUkS6x')\n",
    "for track in yeezy['tracks'][:10]:\n",
    "    print('track    : ' + track['name'])"
   ]
  },
  {
   "cell_type": "code",
   "execution_count": null,
   "metadata": {
    "collapsed": true
   },
   "outputs": [],
   "source": []
  }
 ],
 "metadata": {
  "kernelspec": {
   "display_name": "Python 3",
   "language": "python",
   "name": "python3"
  },
  "language_info": {
   "codemirror_mode": {
    "name": "ipython",
    "version": 3
   },
   "file_extension": ".py",
   "mimetype": "text/x-python",
   "name": "python",
   "nbconvert_exporter": "python",
   "pygments_lexer": "ipython3",
   "version": "3.6.3"
  }
 },
 "nbformat": 4,
 "nbformat_minor": 1
}
