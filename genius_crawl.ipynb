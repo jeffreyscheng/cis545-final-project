{
 "cells": [
  {
   "cell_type": "code",
   "execution_count": 6,
   "metadata": {},
   "outputs": [
    {
     "name": "stdout",
     "output_type": "stream",
     "text": [
      "Requirement already satisfied: lyricsgenius in c:\\users\\jeffr\\anaconda3\\lib\\site-packages\n",
      "Requirement already satisfied: beautifulsoup4==4.6.0 in c:\\users\\jeffr\\anaconda3\\lib\\site-packages (from lyricsgenius)\n",
      "Requirement already satisfied: requests==2.18.1 in c:\\users\\jeffr\\anaconda3\\lib\\site-packages (from lyricsgenius)\n",
      "Requirement already satisfied: idna<2.6,>=2.5 in c:\\users\\jeffr\\anaconda3\\lib\\site-packages (from requests==2.18.1->lyricsgenius)\n",
      "Requirement already satisfied: chardet<3.1.0,>=3.0.2 in c:\\users\\jeffr\\anaconda3\\lib\\site-packages (from requests==2.18.1->lyricsgenius)\n",
      "Requirement already satisfied: urllib3<1.22,>=1.21.1 in c:\\users\\jeffr\\anaconda3\\lib\\site-packages (from requests==2.18.1->lyricsgenius)\n",
      "Requirement already satisfied: certifi>=2017.4.17 in c:\\users\\jeffr\\anaconda3\\lib\\site-packages (from requests==2.18.1->lyricsgenius)\n"
     ]
    },
    {
     "name": "stderr",
     "output_type": "stream",
     "text": [
      "You are using pip version 9.0.1, however version 10.0.1 is available.\n",
      "You should consider upgrading via the 'python -m pip install --upgrade pip' command.\n"
     ]
    },
    {
     "name": "stdout",
     "output_type": "stream",
     "text": [
      "Requirement already satisfied: spotipy in c:\\users\\jeffr\\anaconda3\\lib\\site-packages\n",
      "Requirement already satisfied: requests>=1.0 in c:\\users\\jeffr\\anaconda3\\lib\\site-packages (from spotipy)\n",
      "Requirement already satisfied: chardet<3.1.0,>=3.0.2 in c:\\users\\jeffr\\anaconda3\\lib\\site-packages (from requests>=1.0->spotipy)\n",
      "Requirement already satisfied: certifi>=2017.4.17 in c:\\users\\jeffr\\anaconda3\\lib\\site-packages (from requests>=1.0->spotipy)\n",
      "Requirement already satisfied: idna<2.6,>=2.5 in c:\\users\\jeffr\\anaconda3\\lib\\site-packages (from requests>=1.0->spotipy)\n",
      "Requirement already satisfied: urllib3<1.22,>=1.21.1 in c:\\users\\jeffr\\anaconda3\\lib\\site-packages (from requests>=1.0->spotipy)\n"
     ]
    },
    {
     "name": "stderr",
     "output_type": "stream",
     "text": [
      "You are using pip version 9.0.1, however version 10.0.1 is available.\n",
      "You should consider upgrading via the 'python -m pip install --upgrade pip' command.\n"
     ]
    },
    {
     "name": "stdout",
     "output_type": "stream",
     "text": [
      "Collecting selenium\n",
      "  Downloading https://files.pythonhosted.org/packages/5e/1f/6c2204b9ae14eddab615c5e2ee4956c65ed533e0a9986c23eabd801ae849/selenium-3.11.0-py2.py3-none-any.whl (943kB)\n",
      "Installing collected packages: selenium\n",
      "Successfully installed selenium-3.11.0\n"
     ]
    },
    {
     "name": "stderr",
     "output_type": "stream",
     "text": [
      "You are using pip version 9.0.1, however version 10.0.1 is available.\n",
      "You should consider upgrading via the 'python -m pip install --upgrade pip' command.\n"
     ]
    }
   ],
   "source": [
    "import sys\n",
    "!{sys.executable} -m pip install lyricsgenius\n",
    "!{sys.executable} -m pip install spotipy\n",
    "!{sys.executable} -m pip install selenium\n",
    "import pandas as pd\n",
    "import requests\n",
    "import lyricsgenius as genius\n",
    "import spotipy\n",
    "import time\n",
    "from selenium import webdriver\n",
    "from selenium.webdriver.common.keys import Keys"
   ]
  },
  {
   "cell_type": "code",
   "execution_count": 7,
   "metadata": {
    "collapsed": true
   },
   "outputs": [],
   "source": [
    "genius_client_id = 'Qeii-UKMUUwsAYCuuemsF7CZk7R2bFDhjP1FMkqpozASvYsA4wQDlLmd2JFM3Vhm'\n",
    "genius_secret_id = 'fWhV7VtwAL-5D32Ga9Y0Kyh_VFEo7XK0Jf8-3RMcZ5EoMXqsDpmFWFFPyobnibfMXJuJ-GZe69YEuXR-36VGAA'\n",
    "genius_client_access_token = '1QVL91jZbgdOIhvYhqKku_zkFDf6MHEyLpXEITHU2tE2HGvAqYIPInTrQaWcInD7'\n",
    "app_website_url = 'http://cis545genius.com'\n",
    "redirect_uri = 'cis545genius.com'\n",
    "base_url = 'https://api.genius.com'\n",
    "# driver_path = '/Users/ericdong/Downloads/chromedriver'\n",
    "driver_path = \"/mnt/c/Users/jeffr/Downloads/chromedriver_win32/chromedriver.exe\"\n",
    "artist_url = 'https://www.ranker.com/crowdranked-list/the-greatest-rappers-of-all-time'\n",
    "page_downs = 0\n",
    "api = genius.Genius(genius_client_access_token)"
   ]
  },
  {
   "cell_type": "code",
   "execution_count": 8,
   "metadata": {
    "collapsed": true
   },
   "outputs": [],
   "source": [
    "def get_artists(url, page_downs, driver_path):\n",
    "    driver = webdriver.Chrome(driver_path)\n",
    "    driver.get(url)\n",
    "    time.sleep(1)\n",
    "    page = driver.find_element_by_tag_name('body')\n",
    "    for i in range(page_downs):\n",
    "        page.send_keys(Keys.PAGE_DOWN)\n",
    "        time.sleep(0.2)\n",
    "    artists = driver.find_elements_by_class_name('listItem__data')\n",
    "    names = [artist.find_element_by_class_name('listItem__title').text for artist in artists[:-1]]\n",
    "    driver.quit()\n",
    "    \n",
    "    return names"
   ]
  },
  {
   "cell_type": "code",
   "execution_count": 9,
   "metadata": {
    "collapsed": true
   },
   "outputs": [],
   "source": [
    "def get_songs(artist):\n",
    "    return api.search_artist(artist, verbose=False, max_songs=2)"
   ]
  },
  {
   "cell_type": "code",
   "execution_count": 11,
   "metadata": {},
   "outputs": [
    {
     "ename": "WebDriverException",
     "evalue": "Message: 'chromedriver' executable needs to be in PATH. Please see https://sites.google.com/a/chromium.org/chromedriver/home\n",
     "traceback": [
      "\u001b[1;31m---------------------------------------------------------------------------\u001b[0m",
      "\u001b[1;31mFileNotFoundError\u001b[0m                         Traceback (most recent call last)",
      "\u001b[1;32mC:\\Users\\jeffr\\Anaconda3\\lib\\site-packages\\selenium\\webdriver\\common\\service.py\u001b[0m in \u001b[0;36mstart\u001b[1;34m(self)\u001b[0m\n\u001b[0;32m     75\u001b[0m                                             \u001b[0mstderr\u001b[0m\u001b[1;33m=\u001b[0m\u001b[0mself\u001b[0m\u001b[1;33m.\u001b[0m\u001b[0mlog_file\u001b[0m\u001b[1;33m,\u001b[0m\u001b[1;33m\u001b[0m\u001b[0m\n\u001b[1;32m---> 76\u001b[1;33m                                             stdin=PIPE)\n\u001b[0m\u001b[0;32m     77\u001b[0m         \u001b[1;32mexcept\u001b[0m \u001b[0mTypeError\u001b[0m\u001b[1;33m:\u001b[0m\u001b[1;33m\u001b[0m\u001b[0m\n",
      "\u001b[1;32mC:\\Users\\jeffr\\Anaconda3\\lib\\subprocess.py\u001b[0m in \u001b[0;36m__init__\u001b[1;34m(self, args, bufsize, executable, stdin, stdout, stderr, preexec_fn, close_fds, shell, cwd, env, universal_newlines, startupinfo, creationflags, restore_signals, start_new_session, pass_fds, encoding, errors)\u001b[0m\n\u001b[0;32m    706\u001b[0m                                 \u001b[0merrread\u001b[0m\u001b[1;33m,\u001b[0m \u001b[0merrwrite\u001b[0m\u001b[1;33m,\u001b[0m\u001b[1;33m\u001b[0m\u001b[0m\n\u001b[1;32m--> 707\u001b[1;33m                                 restore_signals, start_new_session)\n\u001b[0m\u001b[0;32m    708\u001b[0m         \u001b[1;32mexcept\u001b[0m\u001b[1;33m:\u001b[0m\u001b[1;33m\u001b[0m\u001b[0m\n",
      "\u001b[1;32mC:\\Users\\jeffr\\Anaconda3\\lib\\subprocess.py\u001b[0m in \u001b[0;36m_execute_child\u001b[1;34m(self, args, executable, preexec_fn, close_fds, pass_fds, cwd, env, startupinfo, creationflags, shell, p2cread, p2cwrite, c2pread, c2pwrite, errread, errwrite, unused_restore_signals, unused_start_new_session)\u001b[0m\n\u001b[0;32m    989\u001b[0m                                          \u001b[0mcwd\u001b[0m\u001b[1;33m,\u001b[0m\u001b[1;33m\u001b[0m\u001b[0m\n\u001b[1;32m--> 990\u001b[1;33m                                          startupinfo)\n\u001b[0m\u001b[0;32m    991\u001b[0m             \u001b[1;32mfinally\u001b[0m\u001b[1;33m:\u001b[0m\u001b[1;33m\u001b[0m\u001b[0m\n",
      "\u001b[1;31mFileNotFoundError\u001b[0m: [WinError 2] The system cannot find the file specified",
      "\nDuring handling of the above exception, another exception occurred:\n",
      "\u001b[1;31mWebDriverException\u001b[0m                        Traceback (most recent call last)",
      "\u001b[1;32m<ipython-input-11-b6512aa42470>\u001b[0m in \u001b[0;36m<module>\u001b[1;34m()\u001b[0m\n\u001b[1;32m----> 1\u001b[1;33m \u001b[0martists\u001b[0m \u001b[1;33m=\u001b[0m \u001b[0mget_artists\u001b[0m\u001b[1;33m(\u001b[0m\u001b[0martist_url\u001b[0m\u001b[1;33m,\u001b[0m \u001b[0mpage_downs\u001b[0m\u001b[1;33m,\u001b[0m \u001b[0mdriver_path\u001b[0m\u001b[1;33m)\u001b[0m\u001b[1;33m\u001b[0m\u001b[0m\n\u001b[0m",
      "\u001b[1;32m<ipython-input-8-0a9258f3ee44>\u001b[0m in \u001b[0;36mget_artists\u001b[1;34m(url, page_downs, driver_path)\u001b[0m\n\u001b[0;32m      1\u001b[0m \u001b[1;32mdef\u001b[0m \u001b[0mget_artists\u001b[0m\u001b[1;33m(\u001b[0m\u001b[0murl\u001b[0m\u001b[1;33m,\u001b[0m \u001b[0mpage_downs\u001b[0m\u001b[1;33m,\u001b[0m \u001b[0mdriver_path\u001b[0m\u001b[1;33m)\u001b[0m\u001b[1;33m:\u001b[0m\u001b[1;33m\u001b[0m\u001b[0m\n\u001b[1;32m----> 2\u001b[1;33m     \u001b[0mdriver\u001b[0m \u001b[1;33m=\u001b[0m \u001b[0mwebdriver\u001b[0m\u001b[1;33m.\u001b[0m\u001b[0mChrome\u001b[0m\u001b[1;33m(\u001b[0m\u001b[0mdriver_path\u001b[0m\u001b[1;33m)\u001b[0m\u001b[1;33m\u001b[0m\u001b[0m\n\u001b[0m\u001b[0;32m      3\u001b[0m     \u001b[0mdriver\u001b[0m\u001b[1;33m.\u001b[0m\u001b[0mget\u001b[0m\u001b[1;33m(\u001b[0m\u001b[0murl\u001b[0m\u001b[1;33m)\u001b[0m\u001b[1;33m\u001b[0m\u001b[0m\n\u001b[0;32m      4\u001b[0m     \u001b[0mtime\u001b[0m\u001b[1;33m.\u001b[0m\u001b[0msleep\u001b[0m\u001b[1;33m(\u001b[0m\u001b[1;36m1\u001b[0m\u001b[1;33m)\u001b[0m\u001b[1;33m\u001b[0m\u001b[0m\n\u001b[0;32m      5\u001b[0m     \u001b[0mpage\u001b[0m \u001b[1;33m=\u001b[0m \u001b[0mdriver\u001b[0m\u001b[1;33m.\u001b[0m\u001b[0mfind_element_by_tag_name\u001b[0m\u001b[1;33m(\u001b[0m\u001b[1;34m'body'\u001b[0m\u001b[1;33m)\u001b[0m\u001b[1;33m\u001b[0m\u001b[0m\n",
      "\u001b[1;32mC:\\Users\\jeffr\\Anaconda3\\lib\\site-packages\\selenium\\webdriver\\chrome\\webdriver.py\u001b[0m in \u001b[0;36m__init__\u001b[1;34m(self, executable_path, port, options, service_args, desired_capabilities, service_log_path, chrome_options)\u001b[0m\n\u001b[0;32m     66\u001b[0m             \u001b[0mservice_args\u001b[0m\u001b[1;33m=\u001b[0m\u001b[0mservice_args\u001b[0m\u001b[1;33m,\u001b[0m\u001b[1;33m\u001b[0m\u001b[0m\n\u001b[0;32m     67\u001b[0m             log_path=service_log_path)\n\u001b[1;32m---> 68\u001b[1;33m         \u001b[0mself\u001b[0m\u001b[1;33m.\u001b[0m\u001b[0mservice\u001b[0m\u001b[1;33m.\u001b[0m\u001b[0mstart\u001b[0m\u001b[1;33m(\u001b[0m\u001b[1;33m)\u001b[0m\u001b[1;33m\u001b[0m\u001b[0m\n\u001b[0m\u001b[0;32m     69\u001b[0m \u001b[1;33m\u001b[0m\u001b[0m\n\u001b[0;32m     70\u001b[0m         \u001b[1;32mtry\u001b[0m\u001b[1;33m:\u001b[0m\u001b[1;33m\u001b[0m\u001b[0m\n",
      "\u001b[1;32mC:\\Users\\jeffr\\Anaconda3\\lib\\site-packages\\selenium\\webdriver\\common\\service.py\u001b[0m in \u001b[0;36mstart\u001b[1;34m(self)\u001b[0m\n\u001b[0;32m     81\u001b[0m                 raise WebDriverException(\n\u001b[0;32m     82\u001b[0m                     \"'%s' executable needs to be in PATH. %s\" % (\n\u001b[1;32m---> 83\u001b[1;33m                         os.path.basename(self.path), self.start_error_message)\n\u001b[0m\u001b[0;32m     84\u001b[0m                 )\n\u001b[0;32m     85\u001b[0m             \u001b[1;32melif\u001b[0m \u001b[0merr\u001b[0m\u001b[1;33m.\u001b[0m\u001b[0merrno\u001b[0m \u001b[1;33m==\u001b[0m \u001b[0merrno\u001b[0m\u001b[1;33m.\u001b[0m\u001b[0mEACCES\u001b[0m\u001b[1;33m:\u001b[0m\u001b[1;33m\u001b[0m\u001b[0m\n",
      "\u001b[1;31mWebDriverException\u001b[0m: Message: 'chromedriver' executable needs to be in PATH. Please see https://sites.google.com/a/chromium.org/chromedriver/home\n"
     ],
     "output_type": "error"
    }
   ],
   "source": [
    "artists = get_artists(artist_url, page_downs, driver_path)"
   ]
  },
  {
   "cell_type": "code",
   "execution_count": 68,
   "metadata": {},
   "outputs": [
    {
     "name": "stdout",
     "output_type": "stream",
     "text": [
      "['Tupac', 'Eminem', 'The Notorious B.I.G.', 'Nas', 'Ice Cube', 'Jay-Z', 'Snoop Dogg', 'Dr. Dre', 'Kendrick Lamar', 'Rakim', 'André 3000', 'Eazy-E', '50 Cent', 'Kanye West', 'DMX', 'J. Cole', 'Busta Rhymes', 'Method Man', 'Mos Def', 'Lil Wayne', 'Ludacris', 'KRS-One', 'LL Cool J', 'Common', 'Ghostface Killah', 'Big L', 'Redman', 'T.I.', 'Big Pun', 'Nate Dogg', 'Tech N9ne', 'Lauryn Hill', 'Scarface', 'Raekwon', 'Slick Rick', 'The Game', 'Big Daddy Kane', \"Ol' Dirty Bastard\", 'Mobb Deep', 'Chance the Rapper', 'Logic', 'Cypress Hill', 'Ice-T', 'Lupe Fiasco', 'RZA', 'GZA', 'Warren G', 'Q-Tip', 'Xzibit', 'Talib Kweli']\n"
     ]
    }
   ],
   "source": [
    "print(artists)"
   ]
  },
  {
   "cell_type": "code",
   "execution_count": 69,
   "metadata": {
    "collapsed": true
   },
   "outputs": [],
   "source": [
    "music = []\n",
    "for artist in artists:\n",
    "    try:\n",
    "        music = music + get_songs(artist).songs\n",
    "    except AssertionError:\n",
    "        pass"
   ]
  },
  {
   "cell_type": "code",
   "execution_count": 79,
   "metadata": {},
   "outputs": [
    {
     "name": "stdout",
     "output_type": "stream",
     "text": [
      "[('16 on Death Row', '2Pac'), ('187 On A Hook (Remix)', '2Pac'), ('1-833-2GET-REV (REVIVAL Voicemail)', 'Eminem'), ('1996 Underground Freestyle', 'Eminem'), (\"1970 Somethin'\", 'The Notorious B.I.G.'), ('1991 Block Party Freestyle', 'The Notorious B.I.G.'), ('1996 Freestyle', 'Nas'), ('1 Shot', 'Nas'), (\"$100 Dollar Bill Y'all\", 'Ice Cube'), ('24 Mo Hours', 'Ice Cube'), (\"'03 Bonnie & Clyde\", 'JAY-Z'), ('100$ Bill', 'JAY-Z'), (\"10 Lil' Crips\", 'Snoop Dogg'), ('1800', 'Snoop Dogg'), ('187um (Deep Cover Remix)', 'Dr. Dre'), ('2001 [Credits]', 'Dr. Dre'), ('2018 Grammys Performance', 'Kendrick Lamar'), ('2DopeBoyz Freestyle', 'Kendrick Lamar'), ('A Richer Shade Of Blue', 'André 3000'), ('Back to Black', 'André 3000'), ('24 Hours To Live (Remix)', 'Eazy-E'), ('24 Hrs to Live', 'Eazy-E'), ('187 Yayo', '50 Cent'), ('21 Questions', '50 Cent'), (\"'03 Electric Relaxation\", 'Kanye West'), ('18 Years', 'Kanye West'), ('4, 3, 2, 1 Freestyle', 'DMX'), ('56 Bars', 'DMX'), (\"03' Adolescence\", 'J. Cole'), ('1-888-88-DREAM', 'J. Cole'), ('60 seconds assasin', 'Busta Rhymes'), ('AAAHHHH!!!', 'Busta Rhymes'), ('1, 2, 1, 2', 'Method Man'), ('2 Minutes of Your Time', 'Method Man'), ('A Brighter Day', 'Yasiin Bey'), ('A Ha', 'Yasiin Bey'), ('10,000 Bars', 'Lil Wayne'), ('100 Bands', 'Lil Wayne'), ('1st & 10', 'Ludacris'), ('9 Times Out Of 10', 'Ludacris'), ('1st Quarter - The Commentary', 'KRS-One'), ('2nd Quarter - Free Throws', 'KRS-One'), ('10 Million Stars', 'LL Cool J'), ('1-900-LL Cool J', 'LL Cool J'), ('1, 2 Many', 'Common'), ('16 Bars', 'Common'), ('260', 'Ghostface Killah'), ('2getha Baby', 'Ghostface Killah'), ('139 - Tony Touch', 'Big L'), ('560 Tape Freestyle', 'Big L'), ('2 Tears In A Bucket', 'Redman'), ('A Day of Sooperman Lover', 'Redman'), (\"24's\", 'T.I.'), (\"24's (Hypnotize Remix)\", 'T.I.'), ('100%', 'Big Pun'), ('Air Pun (skit)', 'Big Pun'), ('All Night Long', 'Nate Dogg'), ('Almost in Love', 'Nate Dogg'), ('00N9NA', 'Tech N9ne'), ('1zie', 'Tech N9ne'), ('1996 Freestyle', 'Lauryn Hill'), ('Adam Lives in Theory', 'Lauryn Hill'), ('11-09-2000', 'Scarface'), ('2 Real', 'Scarface'), ('100 Rounds', 'Raekwon'), ('10 Bricks', 'Raekwon'), ('2 Way Street', 'Slick Rick'), ('Adults Only', 'Slick Rick'), ('100', 'The Game'), ('100 Bars and Runnin', 'The Game'), ('28 Bars Of Kane', 'Big Daddy Kane'), ('2 Da Good Tymz', 'Big Daddy Kane'), ('96 recreation (demo)', \"Ol' Dirty Bastard\"), ('All in Together Now', \"Ol' Dirty Bastard\"), ('Adrenaline', 'Mobb Deep'), ('Air It Out', 'Mobb Deep'), ('10 Day Outfit (10 Day Listening Party)', 'Chance The Rapper'), ('10 Day [Tracklist + Cover Art]', 'Chance The Rapper'), ('16 Bars Freestyle', 'Logic'), ('1-800-273-8255', 'Logic'), (\"16 Men Till There's No Men Left\", 'Cypress Hill'), (\"3 Lil' Putos\", 'Cypress Hill'), ('409', 'Ice-T'), (\"6 'N the Mornin'\", 'Ice-T'), ('1st & 15th', 'Lupe Fiasco'), ('4 Real', 'Lupe Fiasco'), ('2 Left Shoes', 'RZA'), ('A Day to God is 1,000 Years (Stay With Me)', 'RZA'), ('0% Finance', 'GZA'), ('1112', 'GZA'), (\"'94  Ho Draft\", 'Warren G'), ('A Dope Beat', 'Warren G'), ('Abstractionisms', 'Q-Tip'), ('All In', 'Q-Tip'), ('1983', 'Xzibit'), ('1983 Remix', 'Xzibit'), ('1st Time (feat. Consequence)', 'Talib Kweli'), ('2000 Seasons', 'Talib Kweli')]\n"
     ]
    }
   ],
   "source": [
    "print(music)"
   ]
  },
  {
   "cell_type": "code",
   "execution_count": 107,
   "metadata": {},
   "outputs": [
    {
     "name": "stdout",
     "output_type": "stream",
     "text": [
      "                 artist                                song  \\\n",
      "0                  2Pac                     16 on Death Row   \n",
      "1                  2Pac               187 On A Hook (Remix)   \n",
      "2                Eminem  1-833-2GET-REV (REVIVAL Voicemail)   \n",
      "3                Eminem          1996 Underground Freestyle   \n",
      "4  The Notorious B.I.G.                      1970 Somethin'   \n",
      "\n",
      "                           album  \\\n",
      "0  R U Still Down? (Remember Me)   \n",
      "1                           None   \n",
      "2                           None   \n",
      "3                           None   \n",
      "4       Duets: The Final Chapter   \n",
      "\n",
      "                                              lyrics  \n",
      "0  Death Row\\nThat's where mothafuckas is endin' ...  \n",
      "1   (2X)\\nWest side, it's 187 on a motherfucking ...  \n",
      "2  Thank you for your interest in Revival, the nu...  \n",
      "3  Any rapper saying those kind of rhymes\\nIn thi...  \n",
      "4  1970 somethin', 1970 somethin'\\n1970 somethin'...  \n"
     ]
    }
   ],
   "source": [
    "df = pd.DataFrame()\n",
    "df['artist'] = list(map(lambda x: x.artist, music))\n",
    "df['song'] = list(map(lambda x: x.title, music))\n",
    "df['album'] = list(map(lambda x: x.album, music))\n",
    "df['lyrics'] = list(map(lambda x: x.lyrics, music))\n",
    "print(df.head())"
   ]
  },
  {
   "cell_type": "code",
   "execution_count": 37,
   "metadata": {
    "collapsed": true
   },
   "outputs": [],
   "source": [
    "# headers = {'Authorization': 'Bearer %s' % genius_client_access_token}\n",
    "# search_url = base_url + '/search'\n",
    "# song_title = 'Mercy'\n",
    "# params = {'q': song_title}\n",
    "# response = requests.get(search_url, params=params, headers=headers)\n",
    "# json = response.json()\n",
    "# print(json)"
   ]
  },
  {
   "cell_type": "code",
   "execution_count": null,
   "metadata": {
    "collapsed": true
   },
   "outputs": [],
   "source": [
    "df.to_csv('genius.csv')"
   ]
  }
 ],
 "metadata": {
  "kernelspec": {
   "display_name": "Python 3",
   "language": "python",
   "name": "python3"
  },
  "language_info": {
   "codemirror_mode": {
    "name": "ipython",
    "version": 3
   },
   "file_extension": ".py",
   "mimetype": "text/x-python",
   "name": "python",
   "nbconvert_exporter": "python",
   "pygments_lexer": "ipython3",
   "version": "3.6.1"
  }
 },
 "nbformat": 4,
 "nbformat_minor": 1
}
